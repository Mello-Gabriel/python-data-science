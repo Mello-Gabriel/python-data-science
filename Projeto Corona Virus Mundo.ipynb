{
 "cells": [
  {
   "cell_type": "raw",
   "metadata": {},
   "source": [
    "projeto analise de dados - Corona Virus\n",
    "\n",
    "    Os dados foram obitidos no dia 01/10/2020 pelo site www.worldometers.info/coronavirus .\n",
    "    Antes de fazer a importação para o código, removi as colunas 'new cases' e 'new deaths' por serem colunas com muitos elementos faltantes. Outra alteração feita foi a troca de nomes das colunas de inglês para português para facilitar o entendimento de terceiros. \n",
    "    Fiz as importaçoões das bibliotecas para geração de gráficos e a biblioteca \"pandas\" para trabalhar com o \"data frame\"."
   ]
  },
  {
   "cell_type": "code",
   "execution_count": 9,
   "metadata": {},
   "outputs": [
    {
     "data": {
      "text/html": [
       "        <script type=\"text/javascript\">\n",
       "        window.PlotlyConfig = {MathJaxConfig: 'local'};\n",
       "        if (window.MathJax) {MathJax.Hub.Config({SVG: {font: \"STIX-Web\"}});}\n",
       "        if (typeof require !== 'undefined') {\n",
       "        require.undef(\"plotly\");\n",
       "        requirejs.config({\n",
       "            paths: {\n",
       "                'plotly': ['https://cdn.plot.ly/plotly-latest.min']\n",
       "            }\n",
       "        });\n",
       "        require(['plotly'], function(Plotly) {\n",
       "            window._Plotly = Plotly;\n",
       "        });\n",
       "        }\n",
       "        </script>\n",
       "        "
      ]
     },
     "metadata": {},
     "output_type": "display_data"
    },
    {
     "data": {
      "text/html": [
       "        <script type=\"text/javascript\">\n",
       "        window.PlotlyConfig = {MathJaxConfig: 'local'};\n",
       "        if (window.MathJax) {MathJax.Hub.Config({SVG: {font: \"STIX-Web\"}});}\n",
       "        if (typeof require !== 'undefined') {\n",
       "        require.undef(\"plotly\");\n",
       "        requirejs.config({\n",
       "            paths: {\n",
       "                'plotly': ['https://cdn.plot.ly/plotly-latest.min']\n",
       "            }\n",
       "        });\n",
       "        require(['plotly'], function(Plotly) {\n",
       "            window._Plotly = Plotly;\n",
       "        });\n",
       "        }\n",
       "        </script>\n",
       "        "
      ]
     },
     "metadata": {},
     "output_type": "display_data"
    }
   ],
   "source": [
    "# dados corona virus mundo https://www.worldometers.info/coronavirus/?fbclid=IwAR1Spd_WZfHXc39qM21XCml0z9_hf5_u-8TKiYJqffhWDlxP9rx13s0_E0k\n",
    "import plotly.graph_objs as go \n",
    "from plotly.offline import init_notebook_mode,iplot\n",
    "init_notebook_mode(connected=True) \n",
    "import pandas as pd\n",
    "import seaborn as sns\n",
    "from plotly import __version__\n",
    "from plotly.offline import download_plotlyjs, init_notebook_mode, plot, iplot\n",
    "import cufflinks as cf\n",
    "cf.go_offline()\n",
    "import matplotlib.pyplot as plt\n",
    "%matplotlib inline\n",
    "import chart_studio.plotly as py\n",
    "\n"
   ]
  },
  {
   "cell_type": "raw",
   "metadata": {},
   "source": [
    "Fiz aqui a importação da tabela apartir de um arquivo excel e mostrei como os valores chegam ao 'data frame'"
   ]
  },
  {
   "cell_type": "code",
   "execution_count": 13,
   "metadata": {},
   "outputs": [
    {
     "data": {
      "text/html": [
       "<div>\n",
       "<style scoped>\n",
       "    .dataframe tbody tr th:only-of-type {\n",
       "        vertical-align: middle;\n",
       "    }\n",
       "\n",
       "    .dataframe tbody tr th {\n",
       "        vertical-align: top;\n",
       "    }\n",
       "\n",
       "    .dataframe thead th {\n",
       "        text-align: right;\n",
       "    }\n",
       "</style>\n",
       "<table border=\"1\" class=\"dataframe\">\n",
       "  <thead>\n",
       "    <tr style=\"text-align: right;\">\n",
       "      <th></th>\n",
       "      <th>pais</th>\n",
       "      <th>total de casos</th>\n",
       "      <th>total mortos</th>\n",
       "      <th>recuperados</th>\n",
       "      <th>casos ativos</th>\n",
       "      <th>casos criticos</th>\n",
       "      <th>casos por mi</th>\n",
       "      <th>mortes por mi</th>\n",
       "      <th>testes</th>\n",
       "      <th>testes por mi</th>\n",
       "      <th>populacao</th>\n",
       "      <th>code</th>\n",
       "    </tr>\n",
       "  </thead>\n",
       "  <tbody>\n",
       "    <tr>\n",
       "      <th>0</th>\n",
       "      <td>Afghanistan</td>\n",
       "      <td>3929</td>\n",
       "      <td>1458.0</td>\n",
       "      <td>32842.0</td>\n",
       "      <td>499.0</td>\n",
       "      <td>93.0</td>\n",
       "      <td>1004.0</td>\n",
       "      <td>37.0</td>\n",
       "      <td>111521.0</td>\n",
       "      <td>2849.0</td>\n",
       "      <td>39143915.0</td>\n",
       "      <td>AFG</td>\n",
       "    </tr>\n",
       "    <tr>\n",
       "      <th>1</th>\n",
       "      <td>Albania</td>\n",
       "      <td>13965</td>\n",
       "      <td>389.0</td>\n",
       "      <td>8342.0</td>\n",
       "      <td>5234.0</td>\n",
       "      <td>18.0</td>\n",
       "      <td>4854.0</td>\n",
       "      <td>135.0</td>\n",
       "      <td>85739.0</td>\n",
       "      <td>29802.0</td>\n",
       "      <td>2876991.0</td>\n",
       "      <td>ALB</td>\n",
       "    </tr>\n",
       "    <tr>\n",
       "      <th>2</th>\n",
       "      <td>Algeria</td>\n",
       "      <td>5169</td>\n",
       "      <td>1741.0</td>\n",
       "      <td>36282.0</td>\n",
       "      <td>13667.0</td>\n",
       "      <td>22.0</td>\n",
       "      <td>1174.0</td>\n",
       "      <td>40.0</td>\n",
       "      <td>NaN</td>\n",
       "      <td>NaN</td>\n",
       "      <td>44047392.0</td>\n",
       "      <td>DZA</td>\n",
       "    </tr>\n",
       "    <tr>\n",
       "      <th>3</th>\n",
       "      <td>Andorra</td>\n",
       "      <td>205</td>\n",
       "      <td>53.0</td>\n",
       "      <td>1432.0</td>\n",
       "      <td>565.0</td>\n",
       "      <td>9.0</td>\n",
       "      <td>26521.0</td>\n",
       "      <td>686.0</td>\n",
       "      <td>137457.0</td>\n",
       "      <td>1778297.0</td>\n",
       "      <td>77297.0</td>\n",
       "      <td>AND</td>\n",
       "    </tr>\n",
       "    <tr>\n",
       "      <th>4</th>\n",
       "      <td>Angola</td>\n",
       "      <td>5114</td>\n",
       "      <td>185.0</td>\n",
       "      <td>2082.0</td>\n",
       "      <td>2847.0</td>\n",
       "      <td>15.0</td>\n",
       "      <td>154.0</td>\n",
       "      <td>6.0</td>\n",
       "      <td>85213.0</td>\n",
       "      <td>2573.0</td>\n",
       "      <td>33113463.0</td>\n",
       "      <td>AGO</td>\n",
       "    </tr>\n",
       "  </tbody>\n",
       "</table>\n",
       "</div>"
      ],
      "text/plain": [
       "          pais  total de casos  total mortos  recuperados  casos ativos  \\\n",
       "0  Afghanistan            3929        1458.0      32842.0         499.0   \n",
       "1      Albania           13965         389.0       8342.0        5234.0   \n",
       "2      Algeria            5169        1741.0      36282.0       13667.0   \n",
       "3      Andorra             205          53.0       1432.0         565.0   \n",
       "4       Angola            5114         185.0       2082.0        2847.0   \n",
       "\n",
       "   casos criticos  casos por mi  mortes por mi    testes  testes por mi  \\\n",
       "0            93.0        1004.0           37.0  111521.0         2849.0   \n",
       "1            18.0        4854.0          135.0   85739.0        29802.0   \n",
       "2            22.0        1174.0           40.0       NaN            NaN   \n",
       "3             9.0       26521.0          686.0  137457.0      1778297.0   \n",
       "4            15.0         154.0            6.0   85213.0         2573.0   \n",
       "\n",
       "    populacao code  \n",
       "0  39143915.0  AFG  \n",
       "1   2876991.0  ALB  \n",
       "2  44047392.0  DZA  \n",
       "3     77297.0  AND  \n",
       "4  33113463.0  AGO  "
      ]
     },
     "execution_count": 13,
     "metadata": {},
     "output_type": "execute_result"
    }
   ],
   "source": [
    "casosCoronaMundo = pd.read_excel('corona virus mundo.xlsx')\n",
    "casosCoronaMundo.head()"
   ]
  },
  {
   "cell_type": "raw",
   "metadata": {},
   "source": [
    "Usando a função .corr() gerei a tabela de correlação dos dados informados. A biblioteca \"Pandas\" utiliza como padrão o modelo de correlação \"Pearson\" onde o valor mostrado ('ρ') segue a seguinte tabela de correlação:\n",
    "0.9 a 1 positivo ou negativo indica uma correlação muito forte.\n",
    "0.7 a 0.9 positivo ou negativo indica uma correlação forte.\n",
    "0.5 a 0.7 positivo ou negativo indica uma correlação moderada.\n",
    "0.3 a 0.5 positivo ou negativo indica uma correlação fraca.\n",
    "0 a 0.3 positivo ou negativo indica uma correlação desprezível.\n",
    "\n",
    "Devemos atentar que mesmo com uma relação aparentemente forte devemos analisar caso a caso."
   ]
  },
  {
   "cell_type": "code",
   "execution_count": 4,
   "metadata": {},
   "outputs": [
    {
     "data": {
      "text/html": [
       "<div>\n",
       "<style scoped>\n",
       "    .dataframe tbody tr th:only-of-type {\n",
       "        vertical-align: middle;\n",
       "    }\n",
       "\n",
       "    .dataframe tbody tr th {\n",
       "        vertical-align: top;\n",
       "    }\n",
       "\n",
       "    .dataframe thead th {\n",
       "        text-align: right;\n",
       "    }\n",
       "</style>\n",
       "<table border=\"1\" class=\"dataframe\">\n",
       "  <thead>\n",
       "    <tr style=\"text-align: right;\">\n",
       "      <th></th>\n",
       "      <th>total de casos</th>\n",
       "      <th>total mortos</th>\n",
       "      <th>recuperados</th>\n",
       "      <th>casos ativos</th>\n",
       "      <th>casos criticos</th>\n",
       "      <th>casos por mi</th>\n",
       "      <th>mortes por mi</th>\n",
       "      <th>testes</th>\n",
       "      <th>testes por mi</th>\n",
       "      <th>populacao</th>\n",
       "    </tr>\n",
       "  </thead>\n",
       "  <tbody>\n",
       "    <tr>\n",
       "      <th>total de casos</th>\n",
       "      <td>1.000000</td>\n",
       "      <td>0.931812</td>\n",
       "      <td>0.983599</td>\n",
       "      <td>0.836297</td>\n",
       "      <td>0.950171</td>\n",
       "      <td>0.222630</td>\n",
       "      <td>0.286772</td>\n",
       "      <td>0.599760</td>\n",
       "      <td>-0.007090</td>\n",
       "      <td>0.537742</td>\n",
       "    </tr>\n",
       "    <tr>\n",
       "      <th>total mortos</th>\n",
       "      <td>0.931812</td>\n",
       "      <td>1.000000</td>\n",
       "      <td>0.901743</td>\n",
       "      <td>0.822154</td>\n",
       "      <td>0.934918</td>\n",
       "      <td>0.251096</td>\n",
       "      <td>0.431856</td>\n",
       "      <td>0.553619</td>\n",
       "      <td>0.011023</td>\n",
       "      <td>0.403396</td>\n",
       "    </tr>\n",
       "    <tr>\n",
       "      <th>recuperados</th>\n",
       "      <td>0.983599</td>\n",
       "      <td>0.901743</td>\n",
       "      <td>1.000000</td>\n",
       "      <td>0.745114</td>\n",
       "      <td>0.915904</td>\n",
       "      <td>0.218784</td>\n",
       "      <td>0.274954</td>\n",
       "      <td>0.570569</td>\n",
       "      <td>-0.017079</td>\n",
       "      <td>0.566046</td>\n",
       "    </tr>\n",
       "    <tr>\n",
       "      <th>casos ativos</th>\n",
       "      <td>0.836297</td>\n",
       "      <td>0.822154</td>\n",
       "      <td>0.745114</td>\n",
       "      <td>1.000000</td>\n",
       "      <td>0.844729</td>\n",
       "      <td>0.175930</td>\n",
       "      <td>0.240749</td>\n",
       "      <td>0.587970</td>\n",
       "      <td>0.018059</td>\n",
       "      <td>0.368800</td>\n",
       "    </tr>\n",
       "    <tr>\n",
       "      <th>casos criticos</th>\n",
       "      <td>0.950171</td>\n",
       "      <td>0.934918</td>\n",
       "      <td>0.915904</td>\n",
       "      <td>0.844729</td>\n",
       "      <td>1.000000</td>\n",
       "      <td>0.207586</td>\n",
       "      <td>0.294293</td>\n",
       "      <td>0.540614</td>\n",
       "      <td>-0.009919</td>\n",
       "      <td>0.449487</td>\n",
       "    </tr>\n",
       "    <tr>\n",
       "      <th>casos por mi</th>\n",
       "      <td>0.222630</td>\n",
       "      <td>0.251096</td>\n",
       "      <td>0.218784</td>\n",
       "      <td>0.175930</td>\n",
       "      <td>0.207586</td>\n",
       "      <td>1.000000</td>\n",
       "      <td>0.585960</td>\n",
       "      <td>0.067711</td>\n",
       "      <td>0.227616</td>\n",
       "      <td>-0.032837</td>\n",
       "    </tr>\n",
       "    <tr>\n",
       "      <th>mortes por mi</th>\n",
       "      <td>0.286772</td>\n",
       "      <td>0.431856</td>\n",
       "      <td>0.274954</td>\n",
       "      <td>0.240749</td>\n",
       "      <td>0.294293</td>\n",
       "      <td>0.585960</td>\n",
       "      <td>1.000000</td>\n",
       "      <td>0.112177</td>\n",
       "      <td>0.185068</td>\n",
       "      <td>-0.004169</td>\n",
       "    </tr>\n",
       "    <tr>\n",
       "      <th>testes</th>\n",
       "      <td>0.599760</td>\n",
       "      <td>0.553619</td>\n",
       "      <td>0.570569</td>\n",
       "      <td>0.587970</td>\n",
       "      <td>0.540614</td>\n",
       "      <td>0.067711</td>\n",
       "      <td>0.112177</td>\n",
       "      <td>1.000000</td>\n",
       "      <td>0.012208</td>\n",
       "      <td>0.843132</td>\n",
       "    </tr>\n",
       "    <tr>\n",
       "      <th>testes por mi</th>\n",
       "      <td>-0.007090</td>\n",
       "      <td>0.011023</td>\n",
       "      <td>-0.017079</td>\n",
       "      <td>0.018059</td>\n",
       "      <td>-0.009919</td>\n",
       "      <td>0.227616</td>\n",
       "      <td>0.185068</td>\n",
       "      <td>0.012208</td>\n",
       "      <td>1.000000</td>\n",
       "      <td>-0.061485</td>\n",
       "    </tr>\n",
       "    <tr>\n",
       "      <th>populacao</th>\n",
       "      <td>0.537742</td>\n",
       "      <td>0.403396</td>\n",
       "      <td>0.566046</td>\n",
       "      <td>0.368800</td>\n",
       "      <td>0.449487</td>\n",
       "      <td>-0.032837</td>\n",
       "      <td>-0.004169</td>\n",
       "      <td>0.843132</td>\n",
       "      <td>-0.061485</td>\n",
       "      <td>1.000000</td>\n",
       "    </tr>\n",
       "  </tbody>\n",
       "</table>\n",
       "</div>"
      ],
      "text/plain": [
       "                total de casos  total mortos  recuperados  casos ativos  \\\n",
       "total de casos        1.000000      0.931812     0.983599      0.836297   \n",
       "total mortos          0.931812      1.000000     0.901743      0.822154   \n",
       "recuperados           0.983599      0.901743     1.000000      0.745114   \n",
       "casos ativos          0.836297      0.822154     0.745114      1.000000   \n",
       "casos criticos        0.950171      0.934918     0.915904      0.844729   \n",
       "casos por mi          0.222630      0.251096     0.218784      0.175930   \n",
       "mortes por mi         0.286772      0.431856     0.274954      0.240749   \n",
       "testes                0.599760      0.553619     0.570569      0.587970   \n",
       "testes por mi        -0.007090      0.011023    -0.017079      0.018059   \n",
       "populacao             0.537742      0.403396     0.566046      0.368800   \n",
       "\n",
       "                casos criticos  casos por mi  mortes por mi    testes  \\\n",
       "total de casos        0.950171      0.222630       0.286772  0.599760   \n",
       "total mortos          0.934918      0.251096       0.431856  0.553619   \n",
       "recuperados           0.915904      0.218784       0.274954  0.570569   \n",
       "casos ativos          0.844729      0.175930       0.240749  0.587970   \n",
       "casos criticos        1.000000      0.207586       0.294293  0.540614   \n",
       "casos por mi          0.207586      1.000000       0.585960  0.067711   \n",
       "mortes por mi         0.294293      0.585960       1.000000  0.112177   \n",
       "testes                0.540614      0.067711       0.112177  1.000000   \n",
       "testes por mi        -0.009919      0.227616       0.185068  0.012208   \n",
       "populacao             0.449487     -0.032837      -0.004169  0.843132   \n",
       "\n",
       "                testes por mi  populacao  \n",
       "total de casos      -0.007090   0.537742  \n",
       "total mortos         0.011023   0.403396  \n",
       "recuperados         -0.017079   0.566046  \n",
       "casos ativos         0.018059   0.368800  \n",
       "casos criticos      -0.009919   0.449487  \n",
       "casos por mi         0.227616  -0.032837  \n",
       "mortes por mi        0.185068  -0.004169  \n",
       "testes               0.012208   0.843132  \n",
       "testes por mi        1.000000  -0.061485  \n",
       "populacao           -0.061485   1.000000  "
      ]
     },
     "execution_count": 4,
     "metadata": {},
     "output_type": "execute_result"
    }
   ],
   "source": [
    "casosCoronaMundo.corr()"
   ]
  },
  {
   "cell_type": "raw",
   "metadata": {},
   "source": [
    "    De acordo com a Tabela mostrada pela correlação vemos que a variação de numero \"total de casos\" e \"total mortos\" é de 0,93 e que significa correlação muito forte, o que nos parece ser uma correlação muito esperada. Agora ao ver 'casos por mi' x 'mortes por mi'(casos por milhão de habitantes x mortes por milhão de habitantes) essa correlação cai para moderada. O que pode indicar que alguns paises com grande população tiveram proporcionalmente menos casos ou muitos casos e poucas mortes. Vale a pena tentar identificar isso."
   ]
  },
  {
   "cell_type": "code",
   "execution_count": 14,
   "metadata": {},
   "outputs": [
    {
     "data": {
      "text/html": [
       "<div>\n",
       "<style scoped>\n",
       "    .dataframe tbody tr th:only-of-type {\n",
       "        vertical-align: middle;\n",
       "    }\n",
       "\n",
       "    .dataframe tbody tr th {\n",
       "        vertical-align: top;\n",
       "    }\n",
       "\n",
       "    .dataframe thead th {\n",
       "        text-align: right;\n",
       "    }\n",
       "</style>\n",
       "<table border=\"1\" class=\"dataframe\">\n",
       "  <thead>\n",
       "    <tr style=\"text-align: right;\">\n",
       "      <th></th>\n",
       "      <th>pais</th>\n",
       "      <th>total de casos</th>\n",
       "      <th>total mortos</th>\n",
       "      <th>recuperados</th>\n",
       "      <th>casos ativos</th>\n",
       "      <th>casos criticos</th>\n",
       "      <th>casos por mi</th>\n",
       "      <th>mortes por mi</th>\n",
       "      <th>testes</th>\n",
       "      <th>testes por mi</th>\n",
       "      <th>populacao</th>\n",
       "      <th>code</th>\n",
       "    </tr>\n",
       "  </thead>\n",
       "  <tbody>\n",
       "    <tr>\n",
       "      <th>43</th>\n",
       "      <td>Colombia</td>\n",
       "      <td>835339</td>\n",
       "      <td>26196.0</td>\n",
       "      <td>751691.0</td>\n",
       "      <td>57452.0</td>\n",
       "      <td>222.0</td>\n",
       "      <td>16373.0</td>\n",
       "      <td>513.0</td>\n",
       "      <td>3776280.0</td>\n",
       "      <td>74017.0</td>\n",
       "      <td>51019195.0</td>\n",
       "      <td>COL</td>\n",
       "    </tr>\n",
       "    <tr>\n",
       "      <th>182</th>\n",
       "      <td>Spain</td>\n",
       "      <td>778607</td>\n",
       "      <td>31973.0</td>\n",
       "      <td>NaN</td>\n",
       "      <td>NaN</td>\n",
       "      <td>1561.0</td>\n",
       "      <td>16651.0</td>\n",
       "      <td>684.0</td>\n",
       "      <td>12723989.0</td>\n",
       "      <td>272116.0</td>\n",
       "      <td>46759410.0</td>\n",
       "      <td>ESP</td>\n",
       "    </tr>\n",
       "    <tr>\n",
       "      <th>7</th>\n",
       "      <td>Argentina</td>\n",
       "      <td>765002</td>\n",
       "      <td>20288.0</td>\n",
       "      <td>60314.0</td>\n",
       "      <td>141574.0</td>\n",
       "      <td>3799.0</td>\n",
       "      <td>16887.0</td>\n",
       "      <td>448.0</td>\n",
       "      <td>2002975.0</td>\n",
       "      <td>44216.0</td>\n",
       "      <td>45300278.0</td>\n",
       "      <td>ARG</td>\n",
       "    </tr>\n",
       "    <tr>\n",
       "      <th>8</th>\n",
       "      <td>Armenia</td>\n",
       "      <td>51382</td>\n",
       "      <td>966.0</td>\n",
       "      <td>44406.0</td>\n",
       "      <td>601.0</td>\n",
       "      <td>NaN</td>\n",
       "      <td>17332.0</td>\n",
       "      <td>326.0</td>\n",
       "      <td>300224.0</td>\n",
       "      <td>101268.0</td>\n",
       "      <td>2964656.0</td>\n",
       "      <td>ARM</td>\n",
       "    </tr>\n",
       "    <tr>\n",
       "      <th>132</th>\n",
       "      <td>Montenegro</td>\n",
       "      <td>10987</td>\n",
       "      <td>170.0</td>\n",
       "      <td>7397.0</td>\n",
       "      <td>342.0</td>\n",
       "      <td>17.0</td>\n",
       "      <td>17493.0</td>\n",
       "      <td>271.0</td>\n",
       "      <td>69625.0</td>\n",
       "      <td>110853.0</td>\n",
       "      <td>628086.0</td>\n",
       "      <td>MNE</td>\n",
       "    </tr>\n",
       "    <tr>\n",
       "      <th>200</th>\n",
       "      <td>Turks and Caicos</td>\n",
       "      <td>690</td>\n",
       "      <td>6.0</td>\n",
       "      <td>648.0</td>\n",
       "      <td>36.0</td>\n",
       "      <td>4.0</td>\n",
       "      <td>17762.0</td>\n",
       "      <td>154.0</td>\n",
       "      <td>3378.0</td>\n",
       "      <td>86954.0</td>\n",
       "      <td>38848.0</td>\n",
       "      <td>NaN</td>\n",
       "    </tr>\n",
       "    <tr>\n",
       "      <th>121</th>\n",
       "      <td>Maldives</td>\n",
       "      <td>10354</td>\n",
       "      <td>34.0</td>\n",
       "      <td>9187.0</td>\n",
       "      <td>1133.0</td>\n",
       "      <td>12.0</td>\n",
       "      <td>19071.0</td>\n",
       "      <td>63.0</td>\n",
       "      <td>149135.0</td>\n",
       "      <td>274697.0</td>\n",
       "      <td>542907.0</td>\n",
       "      <td>MDV</td>\n",
       "    </tr>\n",
       "    <tr>\n",
       "      <th>148</th>\n",
       "      <td>Oman</td>\n",
       "      <td>98585</td>\n",
       "      <td>935.0</td>\n",
       "      <td>88528.0</td>\n",
       "      <td>9122.0</td>\n",
       "      <td>190.0</td>\n",
       "      <td>19186.0</td>\n",
       "      <td>182.0</td>\n",
       "      <td>3767.0</td>\n",
       "      <td>73311.0</td>\n",
       "      <td>5138381.0</td>\n",
       "      <td>OMN</td>\n",
       "    </tr>\n",
       "    <tr>\n",
       "      <th>168</th>\n",
       "      <td>San Marino</td>\n",
       "      <td>732</td>\n",
       "      <td>42.0</td>\n",
       "      <td>680.0</td>\n",
       "      <td>10.0</td>\n",
       "      <td>3.0</td>\n",
       "      <td>21562.0</td>\n",
       "      <td>1237.0</td>\n",
       "      <td>7755.0</td>\n",
       "      <td>228431.0</td>\n",
       "      <td>33949.0</td>\n",
       "      <td>SMR</td>\n",
       "    </tr>\n",
       "    <tr>\n",
       "      <th>206</th>\n",
       "      <td>USA</td>\n",
       "      <td>7505749</td>\n",
       "      <td>212883.0</td>\n",
       "      <td>4750176.0</td>\n",
       "      <td>2542690.0</td>\n",
       "      <td>14193.0</td>\n",
       "      <td>22642.0</td>\n",
       "      <td>642.0</td>\n",
       "      <td>108510080.0</td>\n",
       "      <td>327336.0</td>\n",
       "      <td>331494557.0</td>\n",
       "      <td>USA</td>\n",
       "    </tr>\n",
       "    <tr>\n",
       "      <th>26</th>\n",
       "      <td>Brazil</td>\n",
       "      <td>4849229</td>\n",
       "      <td>144767.0</td>\n",
       "      <td>4212772.0</td>\n",
       "      <td>49169.0</td>\n",
       "      <td>8318.0</td>\n",
       "      <td>22773.0</td>\n",
       "      <td>680.0</td>\n",
       "      <td>17900000.0</td>\n",
       "      <td>84061.0</td>\n",
       "      <td>212941524.0</td>\n",
       "      <td>BRA</td>\n",
       "    </tr>\n",
       "    <tr>\n",
       "      <th>41</th>\n",
       "      <td>Chile</td>\n",
       "      <td>46659</td>\n",
       "      <td>12867.0</td>\n",
       "      <td>439607.0</td>\n",
       "      <td>14116.0</td>\n",
       "      <td>868.0</td>\n",
       "      <td>24355.0</td>\n",
       "      <td>672.0</td>\n",
       "      <td>3394522.0</td>\n",
       "      <td>177189.0</td>\n",
       "      <td>19157592.0</td>\n",
       "      <td>CHL</td>\n",
       "    </tr>\n",
       "    <tr>\n",
       "      <th>154</th>\n",
       "      <td>Peru</td>\n",
       "      <td>818297</td>\n",
       "      <td>32535.0</td>\n",
       "      <td>690528.0</td>\n",
       "      <td>95234.0</td>\n",
       "      <td>1353.0</td>\n",
       "      <td>24732.0</td>\n",
       "      <td>983.0</td>\n",
       "      <td>3908125.0</td>\n",
       "      <td>118118.0</td>\n",
       "      <td>33086613.0</td>\n",
       "      <td>PER</td>\n",
       "    </tr>\n",
       "    <tr>\n",
       "      <th>151</th>\n",
       "      <td>Panama</td>\n",
       "      <td>113342</td>\n",
       "      <td>2387.0</td>\n",
       "      <td>89903.0</td>\n",
       "      <td>21052.0</td>\n",
       "      <td>107.0</td>\n",
       "      <td>26166.0</td>\n",
       "      <td>551.0</td>\n",
       "      <td>488048.0</td>\n",
       "      <td>112669.0</td>\n",
       "      <td>4331682.0</td>\n",
       "      <td>PAN</td>\n",
       "    </tr>\n",
       "    <tr>\n",
       "      <th>3</th>\n",
       "      <td>Andorra</td>\n",
       "      <td>205</td>\n",
       "      <td>53.0</td>\n",
       "      <td>1432.0</td>\n",
       "      <td>565.0</td>\n",
       "      <td>9.0</td>\n",
       "      <td>26521.0</td>\n",
       "      <td>686.0</td>\n",
       "      <td>137457.0</td>\n",
       "      <td>1778297.0</td>\n",
       "      <td>77297.0</td>\n",
       "      <td>AND</td>\n",
       "    </tr>\n",
       "    <tr>\n",
       "      <th>98</th>\n",
       "      <td>Israel</td>\n",
       "      <td>25892</td>\n",
       "      <td>1633.0</td>\n",
       "      <td>185122.0</td>\n",
       "      <td>72165.0</td>\n",
       "      <td>839.0</td>\n",
       "      <td>28151.0</td>\n",
       "      <td>178.0</td>\n",
       "      <td>3626704.0</td>\n",
       "      <td>39431.0</td>\n",
       "      <td>9197590.0</td>\n",
       "      <td>ISR</td>\n",
       "    </tr>\n",
       "    <tr>\n",
       "      <th>71</th>\n",
       "      <td>French Guiana</td>\n",
       "      <td>9966</td>\n",
       "      <td>67.0</td>\n",
       "      <td>9613.0</td>\n",
       "      <td>286.0</td>\n",
       "      <td>4.0</td>\n",
       "      <td>33157.0</td>\n",
       "      <td>223.0</td>\n",
       "      <td>66825.0</td>\n",
       "      <td>222325.0</td>\n",
       "      <td>300573.0</td>\n",
       "      <td>NaN</td>\n",
       "    </tr>\n",
       "    <tr>\n",
       "      <th>9</th>\n",
       "      <td>Aruba</td>\n",
       "      <td>3998</td>\n",
       "      <td>27.0</td>\n",
       "      <td>3327.0</td>\n",
       "      <td>644.0</td>\n",
       "      <td>12.0</td>\n",
       "      <td>37406.0</td>\n",
       "      <td>253.0</td>\n",
       "      <td>31957.0</td>\n",
       "      <td>298996.0</td>\n",
       "      <td>106881.0</td>\n",
       "      <td>ABW</td>\n",
       "    </tr>\n",
       "    <tr>\n",
       "      <th>14</th>\n",
       "      <td>Bahrain</td>\n",
       "      <td>71374</td>\n",
       "      <td>255.0</td>\n",
       "      <td>6555.0</td>\n",
       "      <td>5569.0</td>\n",
       "      <td>60.0</td>\n",
       "      <td>41599.0</td>\n",
       "      <td>149.0</td>\n",
       "      <td>1450153.0</td>\n",
       "      <td>845191.0</td>\n",
       "      <td>1715770.0</td>\n",
       "      <td>BHR</td>\n",
       "    </tr>\n",
       "    <tr>\n",
       "      <th>158</th>\n",
       "      <td>Qatar</td>\n",
       "      <td>126164</td>\n",
       "      <td>215.0</td>\n",
       "      <td>123108.0</td>\n",
       "      <td>2841.0</td>\n",
       "      <td>59.0</td>\n",
       "      <td>44933.0</td>\n",
       "      <td>77.0</td>\n",
       "      <td>786224.0</td>\n",
       "      <td>280014.0</td>\n",
       "      <td>2807805.0</td>\n",
       "      <td>QAT</td>\n",
       "    </tr>\n",
       "  </tbody>\n",
       "</table>\n",
       "</div>"
      ],
      "text/plain": [
       "                 pais  total de casos  total mortos  recuperados  \\\n",
       "43           Colombia          835339       26196.0     751691.0   \n",
       "182             Spain          778607       31973.0          NaN   \n",
       "7           Argentina          765002       20288.0      60314.0   \n",
       "8             Armenia           51382         966.0      44406.0   \n",
       "132        Montenegro           10987         170.0       7397.0   \n",
       "200  Turks and Caicos             690           6.0        648.0   \n",
       "121          Maldives           10354          34.0       9187.0   \n",
       "148              Oman           98585         935.0      88528.0   \n",
       "168        San Marino             732          42.0        680.0   \n",
       "206               USA         7505749      212883.0    4750176.0   \n",
       "26             Brazil         4849229      144767.0    4212772.0   \n",
       "41              Chile           46659       12867.0     439607.0   \n",
       "154              Peru          818297       32535.0     690528.0   \n",
       "151            Panama          113342        2387.0      89903.0   \n",
       "3             Andorra             205          53.0       1432.0   \n",
       "98             Israel           25892        1633.0     185122.0   \n",
       "71      French Guiana            9966          67.0       9613.0   \n",
       "9               Aruba            3998          27.0       3327.0   \n",
       "14            Bahrain           71374         255.0       6555.0   \n",
       "158             Qatar          126164         215.0     123108.0   \n",
       "\n",
       "     casos ativos  casos criticos  casos por mi  mortes por mi       testes  \\\n",
       "43        57452.0           222.0       16373.0          513.0    3776280.0   \n",
       "182           NaN          1561.0       16651.0          684.0   12723989.0   \n",
       "7        141574.0          3799.0       16887.0          448.0    2002975.0   \n",
       "8           601.0             NaN       17332.0          326.0     300224.0   \n",
       "132         342.0            17.0       17493.0          271.0      69625.0   \n",
       "200          36.0             4.0       17762.0          154.0       3378.0   \n",
       "121        1133.0            12.0       19071.0           63.0     149135.0   \n",
       "148        9122.0           190.0       19186.0          182.0       3767.0   \n",
       "168          10.0             3.0       21562.0         1237.0       7755.0   \n",
       "206     2542690.0         14193.0       22642.0          642.0  108510080.0   \n",
       "26        49169.0          8318.0       22773.0          680.0   17900000.0   \n",
       "41        14116.0           868.0       24355.0          672.0    3394522.0   \n",
       "154       95234.0          1353.0       24732.0          983.0    3908125.0   \n",
       "151       21052.0           107.0       26166.0          551.0     488048.0   \n",
       "3           565.0             9.0       26521.0          686.0     137457.0   \n",
       "98        72165.0           839.0       28151.0          178.0    3626704.0   \n",
       "71          286.0             4.0       33157.0          223.0      66825.0   \n",
       "9           644.0            12.0       37406.0          253.0      31957.0   \n",
       "14         5569.0            60.0       41599.0          149.0    1450153.0   \n",
       "158        2841.0            59.0       44933.0           77.0     786224.0   \n",
       "\n",
       "     testes por mi    populacao code  \n",
       "43         74017.0   51019195.0  COL  \n",
       "182       272116.0   46759410.0  ESP  \n",
       "7          44216.0   45300278.0  ARG  \n",
       "8         101268.0    2964656.0  ARM  \n",
       "132       110853.0     628086.0  MNE  \n",
       "200        86954.0      38848.0  NaN  \n",
       "121       274697.0     542907.0  MDV  \n",
       "148        73311.0    5138381.0  OMN  \n",
       "168       228431.0      33949.0  SMR  \n",
       "206       327336.0  331494557.0  USA  \n",
       "26         84061.0  212941524.0  BRA  \n",
       "41        177189.0   19157592.0  CHL  \n",
       "154       118118.0   33086613.0  PER  \n",
       "151       112669.0    4331682.0  PAN  \n",
       "3        1778297.0      77297.0  AND  \n",
       "98         39431.0    9197590.0  ISR  \n",
       "71        222325.0     300573.0  NaN  \n",
       "9         298996.0     106881.0  ABW  \n",
       "14        845191.0    1715770.0  BHR  \n",
       "158       280014.0    2807805.0  QAT  "
      ]
     },
     "execution_count": 14,
     "metadata": {},
     "output_type": "execute_result"
    }
   ],
   "source": [
    "casosCoronaMundo['casos por mi'].fillna(value = 0, inplace =True)\n",
    "casosCoronaMundo.sort_values('casos por mi').tail(20)"
   ]
  },
  {
   "cell_type": "raw",
   "metadata": {},
   "source": [
    "A tabela acima mostra os 20 paises com mais casos por milhao de habitantes, note que alguns tem numeros bem baixos de mortos."
   ]
  },
  {
   "cell_type": "code",
   "execution_count": 15,
   "metadata": {},
   "outputs": [
    {
     "data": {
      "text/html": [
       "<div>\n",
       "<style scoped>\n",
       "    .dataframe tbody tr th:only-of-type {\n",
       "        vertical-align: middle;\n",
       "    }\n",
       "\n",
       "    .dataframe tbody tr th {\n",
       "        vertical-align: top;\n",
       "    }\n",
       "\n",
       "    .dataframe thead th {\n",
       "        text-align: right;\n",
       "    }\n",
       "</style>\n",
       "<table border=\"1\" class=\"dataframe\">\n",
       "  <thead>\n",
       "    <tr style=\"text-align: right;\">\n",
       "      <th></th>\n",
       "      <th>pais</th>\n",
       "      <th>total de casos</th>\n",
       "      <th>total mortos</th>\n",
       "      <th>recuperados</th>\n",
       "      <th>casos ativos</th>\n",
       "      <th>casos criticos</th>\n",
       "      <th>casos por mi</th>\n",
       "      <th>mortes por mi</th>\n",
       "      <th>testes</th>\n",
       "      <th>testes por mi</th>\n",
       "      <th>populacao</th>\n",
       "      <th>code</th>\n",
       "    </tr>\n",
       "  </thead>\n",
       "  <tbody>\n",
       "    <tr>\n",
       "      <th>140</th>\n",
       "      <td>Netherlands</td>\n",
       "      <td>127922</td>\n",
       "      <td>6428.0</td>\n",
       "      <td>NaN</td>\n",
       "      <td>NaN</td>\n",
       "      <td>170.0</td>\n",
       "      <td>7461.0</td>\n",
       "      <td>375.0</td>\n",
       "      <td>2449577.0</td>\n",
       "      <td>142878.0</td>\n",
       "      <td>17144540.0</td>\n",
       "      <td>NLD</td>\n",
       "    </tr>\n",
       "    <tr>\n",
       "      <th>7</th>\n",
       "      <td>Argentina</td>\n",
       "      <td>765002</td>\n",
       "      <td>20288.0</td>\n",
       "      <td>60314.0</td>\n",
       "      <td>141574.0</td>\n",
       "      <td>3799.0</td>\n",
       "      <td>16887.0</td>\n",
       "      <td>448.0</td>\n",
       "      <td>2002975.0</td>\n",
       "      <td>44216.0</td>\n",
       "      <td>45300278.0</td>\n",
       "      <td>ARG</td>\n",
       "    </tr>\n",
       "    <tr>\n",
       "      <th>70</th>\n",
       "      <td>France</td>\n",
       "      <td>577505</td>\n",
       "      <td>32019.0</td>\n",
       "      <td>96797.0</td>\n",
       "      <td>448689.0</td>\n",
       "      <td>1238.0</td>\n",
       "      <td>8842.0</td>\n",
       "      <td>490.0</td>\n",
       "      <td>11020523.0</td>\n",
       "      <td>168741.0</td>\n",
       "      <td>65310341.0</td>\n",
       "      <td>FRA</td>\n",
       "    </tr>\n",
       "    <tr>\n",
       "      <th>176</th>\n",
       "      <td>Sint Maarten</td>\n",
       "      <td>668</td>\n",
       "      <td>22.0</td>\n",
       "      <td>567.0</td>\n",
       "      <td>79.0</td>\n",
       "      <td>6.0</td>\n",
       "      <td>15536.0</td>\n",
       "      <td>512.0</td>\n",
       "      <td>3767.0</td>\n",
       "      <td>87609.0</td>\n",
       "      <td>42998.0</td>\n",
       "      <td>SXM</td>\n",
       "    </tr>\n",
       "    <tr>\n",
       "      <th>43</th>\n",
       "      <td>Colombia</td>\n",
       "      <td>835339</td>\n",
       "      <td>26196.0</td>\n",
       "      <td>751691.0</td>\n",
       "      <td>57452.0</td>\n",
       "      <td>222.0</td>\n",
       "      <td>16373.0</td>\n",
       "      <td>513.0</td>\n",
       "      <td>3776280.0</td>\n",
       "      <td>74017.0</td>\n",
       "      <td>51019195.0</td>\n",
       "      <td>COL</td>\n",
       "    </tr>\n",
       "    <tr>\n",
       "      <th>151</th>\n",
       "      <td>Panama</td>\n",
       "      <td>113342</td>\n",
       "      <td>2387.0</td>\n",
       "      <td>89903.0</td>\n",
       "      <td>21052.0</td>\n",
       "      <td>107.0</td>\n",
       "      <td>26166.0</td>\n",
       "      <td>551.0</td>\n",
       "      <td>488048.0</td>\n",
       "      <td>112669.0</td>\n",
       "      <td>4331682.0</td>\n",
       "      <td>PAN</td>\n",
       "    </tr>\n",
       "    <tr>\n",
       "      <th>188</th>\n",
       "      <td>Sweden</td>\n",
       "      <td>94283</td>\n",
       "      <td>5895.0</td>\n",
       "      <td>NaN</td>\n",
       "      <td>NaN</td>\n",
       "      <td>20.0</td>\n",
       "      <td>9321.0</td>\n",
       "      <td>583.0</td>\n",
       "      <td>1661484.0</td>\n",
       "      <td>164256.0</td>\n",
       "      <td>10115214.0</td>\n",
       "      <td>SWE</td>\n",
       "    </tr>\n",
       "    <tr>\n",
       "      <th>99</th>\n",
       "      <td>Italy</td>\n",
       "      <td>319908</td>\n",
       "      <td>35941.0</td>\n",
       "      <td>22997.0</td>\n",
       "      <td>53997.0</td>\n",
       "      <td>294.0</td>\n",
       "      <td>5293.0</td>\n",
       "      <td>595.0</td>\n",
       "      <td>11572459.0</td>\n",
       "      <td>191473.0</td>\n",
       "      <td>60439018.0</td>\n",
       "      <td>ITA</td>\n",
       "    </tr>\n",
       "    <tr>\n",
       "      <th>128</th>\n",
       "      <td>Mexico</td>\n",
       "      <td>748315</td>\n",
       "      <td>78078.0</td>\n",
       "      <td>537475.0</td>\n",
       "      <td>132762.0</td>\n",
       "      <td>2466.0</td>\n",
       "      <td>5789.0</td>\n",
       "      <td>604.0</td>\n",
       "      <td>1968556.0</td>\n",
       "      <td>15228.0</td>\n",
       "      <td>129273294.0</td>\n",
       "      <td>MEX</td>\n",
       "    </tr>\n",
       "    <tr>\n",
       "      <th>203</th>\n",
       "      <td>UK</td>\n",
       "      <td>467146</td>\n",
       "      <td>42268.0</td>\n",
       "      <td>NaN</td>\n",
       "      <td>NaN</td>\n",
       "      <td>341.0</td>\n",
       "      <td>6872.0</td>\n",
       "      <td>622.0</td>\n",
       "      <td>25048460.0</td>\n",
       "      <td>368487.0</td>\n",
       "      <td>67976480.0</td>\n",
       "      <td>GBR</td>\n",
       "    </tr>\n",
       "    <tr>\n",
       "      <th>206</th>\n",
       "      <td>USA</td>\n",
       "      <td>7505749</td>\n",
       "      <td>212883.0</td>\n",
       "      <td>4750176.0</td>\n",
       "      <td>2542690.0</td>\n",
       "      <td>14193.0</td>\n",
       "      <td>22642.0</td>\n",
       "      <td>642.0</td>\n",
       "      <td>108510080.0</td>\n",
       "      <td>327336.0</td>\n",
       "      <td>331494557.0</td>\n",
       "      <td>USA</td>\n",
       "    </tr>\n",
       "    <tr>\n",
       "      <th>58</th>\n",
       "      <td>Ecuador</td>\n",
       "      <td>138584</td>\n",
       "      <td>11433.0</td>\n",
       "      <td>112296.0</td>\n",
       "      <td>14855.0</td>\n",
       "      <td>347.0</td>\n",
       "      <td>7825.0</td>\n",
       "      <td>646.0</td>\n",
       "      <td>439419.0</td>\n",
       "      <td>24812.0</td>\n",
       "      <td>17709839.0</td>\n",
       "      <td>ECU</td>\n",
       "    </tr>\n",
       "    <tr>\n",
       "      <th>41</th>\n",
       "      <td>Chile</td>\n",
       "      <td>46659</td>\n",
       "      <td>12867.0</td>\n",
       "      <td>439607.0</td>\n",
       "      <td>14116.0</td>\n",
       "      <td>868.0</td>\n",
       "      <td>24355.0</td>\n",
       "      <td>672.0</td>\n",
       "      <td>3394522.0</td>\n",
       "      <td>177189.0</td>\n",
       "      <td>19157592.0</td>\n",
       "      <td>CHL</td>\n",
       "    </tr>\n",
       "    <tr>\n",
       "      <th>26</th>\n",
       "      <td>Brazil</td>\n",
       "      <td>4849229</td>\n",
       "      <td>144767.0</td>\n",
       "      <td>4212772.0</td>\n",
       "      <td>49169.0</td>\n",
       "      <td>8318.0</td>\n",
       "      <td>22773.0</td>\n",
       "      <td>680.0</td>\n",
       "      <td>17900000.0</td>\n",
       "      <td>84061.0</td>\n",
       "      <td>212941524.0</td>\n",
       "      <td>BRA</td>\n",
       "    </tr>\n",
       "    <tr>\n",
       "      <th>23</th>\n",
       "      <td>Bolivia</td>\n",
       "      <td>135716</td>\n",
       "      <td>8001.0</td>\n",
       "      <td>96165.0</td>\n",
       "      <td>3155.0</td>\n",
       "      <td>71.0</td>\n",
       "      <td>11587.0</td>\n",
       "      <td>683.0</td>\n",
       "      <td>303107.0</td>\n",
       "      <td>25878.0</td>\n",
       "      <td>11712826.0</td>\n",
       "      <td>BOL</td>\n",
       "    </tr>\n",
       "    <tr>\n",
       "      <th>182</th>\n",
       "      <td>Spain</td>\n",
       "      <td>778607</td>\n",
       "      <td>31973.0</td>\n",
       "      <td>NaN</td>\n",
       "      <td>NaN</td>\n",
       "      <td>1561.0</td>\n",
       "      <td>16651.0</td>\n",
       "      <td>684.0</td>\n",
       "      <td>12723989.0</td>\n",
       "      <td>272116.0</td>\n",
       "      <td>46759410.0</td>\n",
       "      <td>ESP</td>\n",
       "    </tr>\n",
       "    <tr>\n",
       "      <th>3</th>\n",
       "      <td>Andorra</td>\n",
       "      <td>205</td>\n",
       "      <td>53.0</td>\n",
       "      <td>1432.0</td>\n",
       "      <td>565.0</td>\n",
       "      <td>9.0</td>\n",
       "      <td>26521.0</td>\n",
       "      <td>686.0</td>\n",
       "      <td>137457.0</td>\n",
       "      <td>1778297.0</td>\n",
       "      <td>77297.0</td>\n",
       "      <td>AND</td>\n",
       "    </tr>\n",
       "    <tr>\n",
       "      <th>18</th>\n",
       "      <td>Belgium</td>\n",
       "      <td>121059</td>\n",
       "      <td>10023.0</td>\n",
       "      <td>19521.0</td>\n",
       "      <td>91515.0</td>\n",
       "      <td>156.0</td>\n",
       "      <td>10434.0</td>\n",
       "      <td>864.0</td>\n",
       "      <td>3284217.0</td>\n",
       "      <td>283063.0</td>\n",
       "      <td>11602439.0</td>\n",
       "      <td>BEL</td>\n",
       "    </tr>\n",
       "    <tr>\n",
       "      <th>154</th>\n",
       "      <td>Peru</td>\n",
       "      <td>818297</td>\n",
       "      <td>32535.0</td>\n",
       "      <td>690528.0</td>\n",
       "      <td>95234.0</td>\n",
       "      <td>1353.0</td>\n",
       "      <td>24732.0</td>\n",
       "      <td>983.0</td>\n",
       "      <td>3908125.0</td>\n",
       "      <td>118118.0</td>\n",
       "      <td>33086613.0</td>\n",
       "      <td>PER</td>\n",
       "    </tr>\n",
       "    <tr>\n",
       "      <th>168</th>\n",
       "      <td>San Marino</td>\n",
       "      <td>732</td>\n",
       "      <td>42.0</td>\n",
       "      <td>680.0</td>\n",
       "      <td>10.0</td>\n",
       "      <td>3.0</td>\n",
       "      <td>21562.0</td>\n",
       "      <td>1237.0</td>\n",
       "      <td>7755.0</td>\n",
       "      <td>228431.0</td>\n",
       "      <td>33949.0</td>\n",
       "      <td>SMR</td>\n",
       "    </tr>\n",
       "  </tbody>\n",
       "</table>\n",
       "</div>"
      ],
      "text/plain": [
       "             pais  total de casos  total mortos  recuperados  casos ativos  \\\n",
       "140   Netherlands          127922        6428.0          NaN           NaN   \n",
       "7       Argentina          765002       20288.0      60314.0      141574.0   \n",
       "70         France          577505       32019.0      96797.0      448689.0   \n",
       "176  Sint Maarten             668          22.0        567.0          79.0   \n",
       "43       Colombia          835339       26196.0     751691.0       57452.0   \n",
       "151        Panama          113342        2387.0      89903.0       21052.0   \n",
       "188        Sweden           94283        5895.0          NaN           NaN   \n",
       "99          Italy          319908       35941.0      22997.0       53997.0   \n",
       "128        Mexico          748315       78078.0     537475.0      132762.0   \n",
       "203            UK          467146       42268.0          NaN           NaN   \n",
       "206           USA         7505749      212883.0    4750176.0     2542690.0   \n",
       "58        Ecuador          138584       11433.0     112296.0       14855.0   \n",
       "41          Chile           46659       12867.0     439607.0       14116.0   \n",
       "26         Brazil         4849229      144767.0    4212772.0       49169.0   \n",
       "23        Bolivia          135716        8001.0      96165.0        3155.0   \n",
       "182         Spain          778607       31973.0          NaN           NaN   \n",
       "3         Andorra             205          53.0       1432.0         565.0   \n",
       "18        Belgium          121059       10023.0      19521.0       91515.0   \n",
       "154          Peru          818297       32535.0     690528.0       95234.0   \n",
       "168    San Marino             732          42.0        680.0          10.0   \n",
       "\n",
       "     casos criticos  casos por mi  mortes por mi       testes  testes por mi  \\\n",
       "140           170.0        7461.0          375.0    2449577.0       142878.0   \n",
       "7            3799.0       16887.0          448.0    2002975.0        44216.0   \n",
       "70           1238.0        8842.0          490.0   11020523.0       168741.0   \n",
       "176             6.0       15536.0          512.0       3767.0        87609.0   \n",
       "43            222.0       16373.0          513.0    3776280.0        74017.0   \n",
       "151           107.0       26166.0          551.0     488048.0       112669.0   \n",
       "188            20.0        9321.0          583.0    1661484.0       164256.0   \n",
       "99            294.0        5293.0          595.0   11572459.0       191473.0   \n",
       "128          2466.0        5789.0          604.0    1968556.0        15228.0   \n",
       "203           341.0        6872.0          622.0   25048460.0       368487.0   \n",
       "206         14193.0       22642.0          642.0  108510080.0       327336.0   \n",
       "58            347.0        7825.0          646.0     439419.0        24812.0   \n",
       "41            868.0       24355.0          672.0    3394522.0       177189.0   \n",
       "26           8318.0       22773.0          680.0   17900000.0        84061.0   \n",
       "23             71.0       11587.0          683.0     303107.0        25878.0   \n",
       "182          1561.0       16651.0          684.0   12723989.0       272116.0   \n",
       "3               9.0       26521.0          686.0     137457.0      1778297.0   \n",
       "18            156.0       10434.0          864.0    3284217.0       283063.0   \n",
       "154          1353.0       24732.0          983.0    3908125.0       118118.0   \n",
       "168             3.0       21562.0         1237.0       7755.0       228431.0   \n",
       "\n",
       "       populacao code  \n",
       "140   17144540.0  NLD  \n",
       "7     45300278.0  ARG  \n",
       "70    65310341.0  FRA  \n",
       "176      42998.0  SXM  \n",
       "43    51019195.0  COL  \n",
       "151    4331682.0  PAN  \n",
       "188   10115214.0  SWE  \n",
       "99    60439018.0  ITA  \n",
       "128  129273294.0  MEX  \n",
       "203   67976480.0  GBR  \n",
       "206  331494557.0  USA  \n",
       "58    17709839.0  ECU  \n",
       "41    19157592.0  CHL  \n",
       "26   212941524.0  BRA  \n",
       "23    11712826.0  BOL  \n",
       "182   46759410.0  ESP  \n",
       "3        77297.0  AND  \n",
       "18    11602439.0  BEL  \n",
       "154   33086613.0  PER  \n",
       "168      33949.0  SMR  "
      ]
     },
     "execution_count": 15,
     "metadata": {},
     "output_type": "execute_result"
    }
   ],
   "source": [
    "casosCoronaMundo['mortes por mi'].fillna(value = 0, inplace =True)\n",
    "casosCoronaMundo.sort_values('mortes por mi').tail(20)\n"
   ]
  },
  {
   "cell_type": "raw",
   "metadata": {},
   "source": [
    "A tabela acima mostra os países com maior numero de mortos por milhão de habitantes.\n",
    "\n",
    "\n",
    "Os graficos abaixo servem para tentar identificar possíveis correlações entre as variáveis."
   ]
  },
  {
   "cell_type": "code",
   "execution_count": 15,
   "metadata": {},
   "outputs": [
    {
     "data": {
      "text/plain": [
       "<seaborn.axisgrid.PairGrid at 0x263848f3e50>"
      ]
     },
     "execution_count": 15,
     "metadata": {},
     "output_type": "execute_result"
    },
    {
     "data": {
      "image/png": "[encoded data removed]",
      "text/plain": [
       "<Figure size 1800x1800 with 110 Axes>"
      ]
     },
     "metadata": {
      "needs_background": "light"
     },
     "output_type": "display_data"
    }
   ],
   "source": [
    "sns.pairplot(casosCoronaMundo)"
   ]
  },
  {
   "cell_type": "raw",
   "metadata": {},
   "source": [
    "Abaixo o grafico mostra que a maioria dos casos e mortos está contido, alguns poucos pontos estão fora da curva."
   ]
  },
  {
   "cell_type": "code",
   "execution_count": 7,
   "metadata": {},
   "outputs": [
    {
     "data": {
      "text/plain": [
       "<seaborn.axisgrid.JointGrid at 0x1b7f5660a60>"
      ]
     },
     "execution_count": 7,
     "metadata": {},
     "output_type": "execute_result"
    },
    {
     "data": {
      "image/png": "[encoded data removed]",
      "text/plain": [
       "<Figure size 432x432 with 3 Axes>"
      ]
     },
     "metadata": {
      "needs_background": "light"
     },
     "output_type": "display_data"
    }
   ],
   "source": [
    "sns.jointplot(x='total mortos',y='total de casos',data=casosCoronaMundo,kind='scatter')"
   ]
  },
  {
   "cell_type": "raw",
   "metadata": {},
   "source": [
    "Para facilitar a identificação de quais pontos são esses fiz o mesmo grafico acima porém com a ferramenta iplot (interativo)"
   ]
  },
  {
   "cell_type": "code",
   "execution_count": 16,
   "metadata": {},
   "outputs": [
    {
     "data": {
      "application/vnd.plotly.v1+json": {
       "config": {
        "plotlyServerURL": "https://plot.ly"
       },
       "data": [
        {
         "marker": {
          "color": [
           39143915,
           2876991,
           44047392,
           77297,
           33113463,
           15037,
           98134,
           45300278,
           2964656,
           106881,
           25574118,
           9019425,
           10162212,
           39419,
           1715770,
           165102254,
           287465,
           9448527,
           11602439,
           399418,
           12200726,
           62219,
           773742,
           11712826,
           3275544,
           2363354,
           212941524,
           30282,
           438534,
           6934897,
           21042878,
           11976636,
           557504,
           16776786,
           26707600,
           37825599,
           4850615,
           26284,
           65916,
           16540375,
           174267,
           19157592,
           1439323776,
           51019195,
           874166,
           5551349,
           5105840,
           4098724,
           11324845,
           164264,
           1209581,
           10714050,
           5797392,
           null,
           991586,
           72032,
           10875280,
           90220671,
           17709839,
           102812290,
           6494511,
           1414090,
           3558687,
           1326763,
           1163185,
           115660759,
           4891,
           3505,
           898087,
           5542917,
           65310341,
           300573,
           28132,
           2238621,
           2433182,
           3987201,
           83852143,
           31232925,
           33688,
           10409921,
           56795,
           112655,
           400142,
           17997678,
           13219607,
           1979414,
           787516,
           11437368,
           9943825,
           7512336,
           9654047,
           341804,
           1383419254,
           274250639,
           84262110,
           40444461,
           4951636,
           85147,
           9197590,
           60439018,
           26538195,
           2964451,
           126376879,
           10228624,
           18833023,
           54062804,
           4286327,
           6550963,
           7301911,
           1880767,
           6817566,
           2146538,
           5086855,
           6894652,
           38156,
           2712354,
           628512,
           651548,
           27864985,
           19250722,
           32469820,
           542907,
           20392511,
           441843,
           37519,
           4679491,
           1272307,
           274429,
           129273294,
           4031554,
           39312,
           3291428,
           628086,
           4993,
           37020280,
           31468463,
           null,
           54502107,
           2552314,
           29266773,
           17144540,
           286189,
           5002100,
           6644319,
           24416322,
           207390397,
           2083352,
           5431948,
           5138381,
           221953196,
           5130533,
           4331682,
           8988980,
           7154494,
           33086613,
           109945900,
           37835984,
           10189064,
           2807805,
           896928,
           19204495,
           145950466,
           13030820,
           51280461,
           53294,
           18384,
           3883,
           5787,
           33949,
           220167,
           34948931,
           16851620,
           8728305,
           98501,
           8017036,
           5861962,
           42998,
           5460318,
           2079011,
           16001117,
           59495970,
           11226645,
           46759410,
           21436067,
           9885,
           11103,
           44100600,
           587957,
           10115214,
           8670622,
           17604836,
           23827774,
           9590325,
           60147752,
           69844617,
           1324660,
           8326349,
           1400642,
           11849710,
           84567110,
           38848,
           9920359,
           46089942,
           67976480,
           43665869,
           3476793,
           331494557,
           33590274,
           802,
           28415225,
           97559337,
           600936,
           29987637,
           18509209,
           14916922
          ]
         },
         "mode": "markers",
         "text": [
          "Afghanistan",
          "Albania",
          "Algeria",
          "Andorra",
          "Angola",
          "Anguilla",
          "Antigua and Barbuda",
          "Argentina",
          "Armenia",
          "Aruba",
          "Australia",
          "Austria",
          "Azerbaijan",
          "Bahamas",
          "Bahrain",
          "Bangladesh",
          "Barbados",
          "Belarus",
          "Belgium",
          "Belize",
          "Benin",
          "Bermuda",
          "Bhutan",
          "Bolivia",
          "Bosnia and Herzegovina",
          "Botswana",
          "Brazil",
          "British Virgin Islands",
          "Brunei",
          "Bulgaria",
          "Burkina Faso",
          "Burundi",
          "Cabo Verde",
          "Cambodia",
          "Cameroon",
          "Canada",
          "CAR",
          "Caribbean Netherlands",
          "Cayman Islands",
          "Chad",
          "Channel Islands",
          "Chile",
          "China",
          "Colombia",
          "Comoros",
          "Congo",
          "Costa Rica",
          "Croatia",
          "Cuba",
          "Curaçao",
          "Cyprus",
          "Czechia",
          "Denmark",
          "Diamond Princess",
          "Djibouti",
          "Dominica",
          "Dominican Republic",
          "DRC",
          "Ecuador",
          "Egypt",
          "El Salvador",
          "Equatorial Guinea",
          "Eritrea",
          "Estonia",
          "Eswatini",
          "Ethiopia",
          "Faeroe Islands",
          "Falkland Islands",
          "Fiji",
          "Finland",
          "France",
          "French Guiana",
          "French Polynesia",
          "Gabon",
          "Gambia",
          "Georgia",
          "Germany",
          "Ghana",
          "Gibraltar",
          "Greece",
          "Greenland",
          "Grenada",
          "Guadeloupe",
          "Guatemala",
          "Guinea",
          "Guinea-Bissau",
          "Guyana",
          "Haiti",
          "Honduras",
          "Hong Kong",
          "Hungary",
          "Iceland",
          "India",
          "Indonesia",
          "Iran",
          "Iraq",
          "Ireland",
          "Isle of Man",
          "Israel",
          "Italy",
          "Ivory Coast",
          "Jamaica",
          "Japan",
          "Jordan",
          "Kazakhstan",
          "Kenya",
          "Kuwait",
          "Kyrgyzstan",
          "Laos",
          "Latvia",
          "Lebanon",
          "Lesotho",
          "Liberia",
          "Libya",
          "Liechtenstein",
          "Lithuania",
          "Luxembourg",
          "Macao",
          "Madagascar",
          "Malawi",
          "Malaysia",
          "Maldives",
          "Mali",
          "Malta",
          "Martinique",
          "Mauritania",
          "Mauritius",
          "Mayotte",
          "Mexico",
          "Moldova",
          "Monaco",
          "Mongolia",
          "Montenegro",
          "Montserrat",
          "Morocco",
          "Mozambique",
          "MS Zaandam",
          "Myanmar",
          "Namibia",
          "Nepal",
          "Netherlands",
          "New Caledonia",
          "New Zealand",
          "Nicaragua",
          "Niger",
          "Nigeria",
          "North Macedonia",
          "Norway",
          "Oman",
          "Pakistan",
          "Palestine",
          "Panama",
          "Papua New Guinea",
          "Paraguay",
          "Peru",
          "Philippines",
          "Poland",
          "Portugal",
          "Qatar",
          "Réunion",
          "Romania",
          "Russia",
          "Rwanda",
          "S. Korea",
          "Saint Kitts and Nevis",
          "Saint Lucia",
          "Saint Martin",
          "Saint Pierre Miquelon",
          "San Marino",
          "Sao Tome and Principe",
          "Saudi Arabia",
          "Senegal",
          "Serbia",
          "Seychelles",
          "Sierra Leone",
          "Singapore",
          "Sint Maarten",
          "Slovakia",
          "Slovenia",
          "Somalia",
          "South Africa",
          "South Sudan",
          "Spain",
          "Sri Lanka",
          "St. Barth",
          "St. Vincent Grenadines",
          "Sudan",
          "Suriname",
          "Sweden",
          "Switzerland",
          "Syria",
          "Taiwan",
          "Tajikistan",
          "Tanzania",
          "Thailand",
          "Timor-Leste",
          "Togo",
          "Trinidad and Tobago",
          "Tunisia",
          "Turkey",
          "Turks and Caicos",
          "UAE",
          "Uganda",
          "UK",
          "Ukraine",
          "Uruguay",
          "USA",
          "Uzbekistan",
          "Vatican City",
          "Venezuela",
          "Vietnam",
          "Western Sahara",
          "Yemen",
          "Zambia",
          "Zimbabwe"
         ],
         "type": "scatter",
         "x": [
          1458,
          389,
          1741,
          53,
          185,
          null,
          3,
          20288,
          966,
          27,
          890,
          803,
          594,
          96,
          255,
          5305,
          7,
          844,
          10023,
          27,
          41,
          9,
          null,
          8001,
          871,
          16,
          144767,
          1,
          3,
          832,
          58,
          1,
          61,
          null,
          418,
          9402,
          62,
          1,
          1,
          85,
          48,
          12867,
          4634,
          26196,
          7,
          89,
          917,
          291,
          122,
          1,
          22,
          678,
          652,
          13,
          61,
          null,
          2108,
          272,
          11433,
          5946,
          848,
          83,
          null,
          66,
          111,
          1205,
          null,
          null,
          2,
          345,
          32019,
          67,
          7,
          54,
          113,
          46,
          959,
          301,
          null,
          398,
          null,
          null,
          57,
          3267,
          66,
          39,
          82,
          229,
          238,
          105,
          798,
          10,
          100148,
          10972,
          26567,
          9298,
          1806,
          24,
          1633,
          35941,
          120,
          116,
          1578,
          79,
          1725,
          725,
          615,
          1065,
          null,
          38,
          374,
          39,
          82,
          570,
          1,
          93,
          125,
          null,
          232,
          179,
          136,
          34,
          131,
          37,
          21,
          161,
          10,
          42,
          78078,
          1344,
          2,
          null,
          170,
          1,
          2229,
          62,
          2,
          353,
          123,
          520,
          6428,
          null,
          25,
          151,
          69,
          1112,
          749,
          274,
          935,
          6499,
          321,
          2387,
          7,
          869,
          32535,
          5616,
          257,
          1983,
          215,
          16,
          4915,
          21077,
          29,
          416,
          null,
          null,
          8,
          null,
          42,
          15,
          4823,
          312,
          751,
          null,
          72,
          27,
          22,
          54,
          154,
          99,
          16866,
          49,
          31973,
          13,
          null,
          null,
          836,
          105,
          5895,
          2075,
          202,
          7,
          77,
          21,
          59,
          null,
          48,
          76,
          271,
          8262,
          6,
          424,
          79,
          42268,
          4261,
          48,
          212883,
          472,
          null,
          635,
          35,
          1,
          587,
          333,
          228
         ],
         "y": [
          3929,
          13965,
          5169,
          205,
          5114,
          3,
          106,
          765002,
          51382,
          3998,
          27109,
          46374,
          40453,
          422,
          71374,
          366383,
          193,
          79421,
          121059,
          2026,
          2357,
          181,
          282,
          135716,
          27975,
          3172,
          4849229,
          71,
          146,
          21096,
          2088,
          510,
          6126,
          278,
          20838,
          16232,
          4829,
          121,
          211,
          1203,
          665,
          46659,
          85424,
          835339,
          484,
          5089,
          76828,
          1716,
          567,
          399,
          1789,
          74255,
          28932,
          712,
          5417,
          31,
          112728,
          10729,
          138584,
          103317,
          29175,
          5045,
          381,
          3507,
          55,
          76098,
          472,
          13,
          32,
          10244,
          577505,
          9966,
          1852,
          8766,
          3584,
          7093,
          297046,
          46656,
          416,
          19346,
          14,
          24,
          5528,
          9309,
          10652,
          2324,
          2929,
          8781,
          77598,
          5105,
          28631,
          2809,
          6426789,
          295499,
          464596,
          372259,
          36597,
          340,
          25892,
          319908,
          19755,
          6704,
          84215,
          1365,
          108044,
          38923,
          106087,
          47056,
          23,
          1945,
          40882,
          168,
          1343,
          35717,
          120,
          4956,
          8709,
          46,
          16493,
          5779,
          11771,
          10354,
          3131,
          3139,
          1543,
          7505,
          381,
          3779,
          748315,
          55016,
          219,
          313,
          10987,
          13,
          126044,
          8888,
          9,
          15525,
          11373,
          8245,
          127922,
          27,
          1848,
          517,
          1197,
          59001,
          18363,
          14149,
          98585,
          313431,
          40766,
          113342,
          539,
          41799,
          818297,
          316678,
          95773,
          77284,
          126164,
          3993,
          132001,
          1194643,
          4843,
          23952,
          19,
          27,
          403,
          16,
          732,
          911,
          335578,
          15051,
          33735,
          144,
          2238,
          57794,
          668,
          11617,
          6103,
          3593,
          676084,
          2704,
          778607,
          3388,
          54,
          64,
          13653,
          4891,
          94283,
          54384,
          4247,
          515,
          9852,
          509,
          3575,
          28,
          1809,
          4613,
          19721,
          32007,
          690,
          96529,
          8491,
          467146,
          217661,
          2061,
          7505749,
          57454,
          12,
          76029,
          1095,
          10,
          2039,
          1483,
          785
         ]
        }
       ],
       "layout": {
        "template": {
         "data": {
          "bar": [
           {
            "error_x": {
             "color": "#2a3f5f"
            },
            "error_y": {
             "color": "#2a3f5f"
            },
            "marker": {
             "line": {
              "color": "#E5ECF6",
              "width": 0.5
             }
            },
            "type": "bar"
           }
          ],
          "barpolar": [
           {
            "marker": {
             "line": {
              "color": "#E5ECF6",
              "width": 0.5
             }
            },
            "type": "barpolar"
           }
          ],
          "carpet": [
           {
            "aaxis": {
             "endlinecolor": "#2a3f5f",
             "gridcolor": "white",
             "linecolor": "white",
             "minorgridcolor": "white",
             "startlinecolor": "#2a3f5f"
            },
            "baxis": {
             "endlinecolor": "#2a3f5f",
             "gridcolor": "white",
             "linecolor": "white",
             "minorgridcolor": "white",
             "startlinecolor": "#2a3f5f"
            },
            "type": "carpet"
           }
          ],
          "choropleth": [
           {
            "colorbar": {
             "outlinewidth": 0,
             "ticks": ""
            },
            "type": "choropleth"
           }
          ],
          "contour": [
           {
            "colorbar": {
             "outlinewidth": 0,
             "ticks": ""
            },
            "colorscale": [
             [
              0,
              "#0d0887"
             ],
             [
              0.1111111111111111,
              "#46039f"
             ],
             [
              0.2222222222222222,
              "#7201a8"
             ],
             [
              0.3333333333333333,
              "#9c179e"
             ],
             [
              0.4444444444444444,
              "#bd3786"
             ],
             [
              0.5555555555555556,
              "#d8576b"
             ],
             [
              0.6666666666666666,
              "#ed7953"
             ],
             [
              0.7777777777777778,
              "#fb9f3a"
             ],
             [
              0.8888888888888888,
              "#fdca26"
             ],
             [
              1,
              "#f0f921"
             ]
            ],
            "type": "contour"
           }
          ],
          "contourcarpet": [
           {
            "colorbar": {
             "outlinewidth": 0,
             "ticks": ""
            },
            "type": "contourcarpet"
           }
          ],
          "heatmap": [
           {
            "colorbar": {
             "outlinewidth": 0,
             "ticks": ""
            },
            "colorscale": [
             [
              0,
              "#0d0887"
             ],
             [
              0.1111111111111111,
              "#46039f"
             ],
             [
              0.2222222222222222,
              "#7201a8"
             ],
             [
              0.3333333333333333,
              "#9c179e"
             ],
             [
              0.4444444444444444,
              "#bd3786"
             ],
             [
              0.5555555555555556,
              "#d8576b"
             ],
             [
              0.6666666666666666,
              "#ed7953"
             ],
             [
              0.7777777777777778,
              "#fb9f3a"
             ],
             [
              0.8888888888888888,
              "#fdca26"
             ],
             [
              1,
              "#f0f921"
             ]
            ],
            "type": "heatmap"
           }
          ],
          "heatmapgl": [
           {
            "colorbar": {
             "outlinewidth": 0,
             "ticks": ""
            },
            "colorscale": [
             [
              0,
              "#0d0887"
             ],
             [
              0.1111111111111111,
              "#46039f"
             ],
             [
              0.2222222222222222,
              "#7201a8"
             ],
             [
              0.3333333333333333,
              "#9c179e"
             ],
             [
              0.4444444444444444,
              "#bd3786"
             ],
             [
              0.5555555555555556,
              "#d8576b"
             ],
             [
              0.6666666666666666,
              "#ed7953"
             ],
             [
              0.7777777777777778,
              "#fb9f3a"
             ],
             [
              0.8888888888888888,
              "#fdca26"
             ],
             [
              1,
              "#f0f921"
             ]
            ],
            "type": "heatmapgl"
           }
          ],
          "histogram": [
           {
            "marker": {
             "colorbar": {
              "outlinewidth": 0,
              "ticks": ""
             }
            },
            "type": "histogram"
           }
          ],
          "histogram2d": [
           {
            "colorbar": {
             "outlinewidth": 0,
             "ticks": ""
            },
            "colorscale": [
             [
              0,
              "#0d0887"
             ],
             [
              0.1111111111111111,
              "#46039f"
             ],
             [
              0.2222222222222222,
              "#7201a8"
             ],
             [
              0.3333333333333333,
              "#9c179e"
             ],
             [
              0.4444444444444444,
              "#bd3786"
             ],
             [
              0.5555555555555556,
              "#d8576b"
             ],
             [
              0.6666666666666666,
              "#ed7953"
             ],
             [
              0.7777777777777778,
              "#fb9f3a"
             ],
             [
              0.8888888888888888,
              "#fdca26"
             ],
             [
              1,
              "#f0f921"
             ]
            ],
            "type": "histogram2d"
           }
          ],
          "histogram2dcontour": [
           {
            "colorbar": {
             "outlinewidth": 0,
             "ticks": ""
            },
            "colorscale": [
             [
              0,
              "#0d0887"
             ],
             [
              0.1111111111111111,
              "#46039f"
             ],
             [
              0.2222222222222222,
              "#7201a8"
             ],
             [
              0.3333333333333333,
              "#9c179e"
             ],
             [
              0.4444444444444444,
              "#bd3786"
             ],
             [
              0.5555555555555556,
              "#d8576b"
             ],
             [
              0.6666666666666666,
              "#ed7953"
             ],
             [
              0.7777777777777778,
              "#fb9f3a"
             ],
             [
              0.8888888888888888,
              "#fdca26"
             ],
             [
              1,
              "#f0f921"
             ]
            ],
            "type": "histogram2dcontour"
           }
          ],
          "mesh3d": [
           {
            "colorbar": {
             "outlinewidth": 0,
             "ticks": ""
            },
            "type": "mesh3d"
           }
          ],
          "parcoords": [
           {
            "line": {
             "colorbar": {
              "outlinewidth": 0,
              "ticks": ""
             }
            },
            "type": "parcoords"
           }
          ],
          "pie": [
           {
            "automargin": true,
            "type": "pie"
           }
          ],
          "scatter": [
           {
            "marker": {
             "colorbar": {
              "outlinewidth": 0,
              "ticks": ""
             }
            },
            "type": "scatter"
           }
          ],
          "scatter3d": [
           {
            "line": {
             "colorbar": {
              "outlinewidth": 0,
              "ticks": ""
             }
            },
            "marker": {
             "colorbar": {
              "outlinewidth": 0,
              "ticks": ""
             }
            },
            "type": "scatter3d"
           }
          ],
          "scattercarpet": [
           {
            "marker": {
             "colorbar": {
              "outlinewidth": 0,
              "ticks": ""
             }
            },
            "type": "scattercarpet"
           }
          ],
          "scattergeo": [
           {
            "marker": {
             "colorbar": {
              "outlinewidth": 0,
              "ticks": ""
             }
            },
            "type": "scattergeo"
           }
          ],
          "scattergl": [
           {
            "marker": {
             "colorbar": {
              "outlinewidth": 0,
              "ticks": ""
             }
            },
            "type": "scattergl"
           }
          ],
          "scattermapbox": [
           {
            "marker": {
             "colorbar": {
              "outlinewidth": 0,
              "ticks": ""
             }
            },
            "type": "scattermapbox"
           }
          ],
          "scatterpolar": [
           {
            "marker": {
             "colorbar": {
              "outlinewidth": 0,
              "ticks": ""
             }
            },
            "type": "scatterpolar"
           }
          ],
          "scatterpolargl": [
           {
            "marker": {
             "colorbar": {
              "outlinewidth": 0,
              "ticks": ""
             }
            },
            "type": "scatterpolargl"
           }
          ],
          "scatterternary": [
           {
            "marker": {
             "colorbar": {
              "outlinewidth": 0,
              "ticks": ""
             }
            },
            "type": "scatterternary"
           }
          ],
          "surface": [
           {
            "colorbar": {
             "outlinewidth": 0,
             "ticks": ""
            },
            "colorscale": [
             [
              0,
              "#0d0887"
             ],
             [
              0.1111111111111111,
              "#46039f"
             ],
             [
              0.2222222222222222,
              "#7201a8"
             ],
             [
              0.3333333333333333,
              "#9c179e"
             ],
             [
              0.4444444444444444,
              "#bd3786"
             ],
             [
              0.5555555555555556,
              "#d8576b"
             ],
             [
              0.6666666666666666,
              "#ed7953"
             ],
             [
              0.7777777777777778,
              "#fb9f3a"
             ],
             [
              0.8888888888888888,
              "#fdca26"
             ],
             [
              1,
              "#f0f921"
             ]
            ],
            "type": "surface"
           }
          ],
          "table": [
           {
            "cells": {
             "fill": {
              "color": "#EBF0F8"
             },
             "line": {
              "color": "white"
             }
            },
            "header": {
             "fill": {
              "color": "#C8D4E3"
             },
             "line": {
              "color": "white"
             }
            },
            "type": "table"
           }
          ]
         },
         "layout": {
          "annotationdefaults": {
           "arrowcolor": "#2a3f5f",
           "arrowhead": 0,
           "arrowwidth": 1
          },
          "coloraxis": {
           "colorbar": {
            "outlinewidth": 0,
            "ticks": ""
           }
          },
          "colorscale": {
           "diverging": [
            [
             0,
             "#8e0152"
            ],
            [
             0.1,
             "#c51b7d"
            ],
            [
             0.2,
             "#de77ae"
            ],
            [
             0.3,
             "#f1b6da"
            ],
            [
             0.4,
             "#fde0ef"
            ],
            [
             0.5,
             "#f7f7f7"
            ],
            [
             0.6,
             "#e6f5d0"
            ],
            [
             0.7,
             "#b8e186"
            ],
            [
             0.8,
             "#7fbc41"
            ],
            [
             0.9,
             "#4d9221"
            ],
            [
             1,
             "#276419"
            ]
           ],
           "sequential": [
            [
             0,
             "#0d0887"
            ],
            [
             0.1111111111111111,
             "#46039f"
            ],
            [
             0.2222222222222222,
             "#7201a8"
            ],
            [
             0.3333333333333333,
             "#9c179e"
            ],
            [
             0.4444444444444444,
             "#bd3786"
            ],
            [
             0.5555555555555556,
             "#d8576b"
            ],
            [
             0.6666666666666666,
             "#ed7953"
            ],
            [
             0.7777777777777778,
             "#fb9f3a"
            ],
            [
             0.8888888888888888,
             "#fdca26"
            ],
            [
             1,
             "#f0f921"
            ]
           ],
           "sequentialminus": [
            [
             0,
             "#0d0887"
            ],
            [
             0.1111111111111111,
             "#46039f"
            ],
            [
             0.2222222222222222,
             "#7201a8"
            ],
            [
             0.3333333333333333,
             "#9c179e"
            ],
            [
             0.4444444444444444,
             "#bd3786"
            ],
            [
             0.5555555555555556,
             "#d8576b"
            ],
            [
             0.6666666666666666,
             "#ed7953"
            ],
            [
             0.7777777777777778,
             "#fb9f3a"
            ],
            [
             0.8888888888888888,
             "#fdca26"
            ],
            [
             1,
             "#f0f921"
            ]
           ]
          },
          "colorway": [
           "#636efa",
           "#EF553B",
           "#00cc96",
           "#ab63fa",
           "#FFA15A",
           "#19d3f3",
           "#FF6692",
           "#B6E880",
           "#FF97FF",
           "#FECB52"
          ],
          "font": {
           "color": "#2a3f5f"
          },
          "geo": {
           "bgcolor": "white",
           "lakecolor": "white",
           "landcolor": "#E5ECF6",
           "showlakes": true,
           "showland": true,
           "subunitcolor": "white"
          },
          "hoverlabel": {
           "align": "left"
          },
          "hovermode": "closest",
          "mapbox": {
           "style": "light"
          },
          "paper_bgcolor": "white",
          "plot_bgcolor": "#E5ECF6",
          "polar": {
           "angularaxis": {
            "gridcolor": "white",
            "linecolor": "white",
            "ticks": ""
           },
           "bgcolor": "#E5ECF6",
           "radialaxis": {
            "gridcolor": "white",
            "linecolor": "white",
            "ticks": ""
           }
          },
          "scene": {
           "xaxis": {
            "backgroundcolor": "#E5ECF6",
            "gridcolor": "white",
            "gridwidth": 2,
            "linecolor": "white",
            "showbackground": true,
            "ticks": "",
            "zerolinecolor": "white"
           },
           "yaxis": {
            "backgroundcolor": "#E5ECF6",
            "gridcolor": "white",
            "gridwidth": 2,
            "linecolor": "white",
            "showbackground": true,
            "ticks": "",
            "zerolinecolor": "white"
           },
           "zaxis": {
            "backgroundcolor": "#E5ECF6",
            "gridcolor": "white",
            "gridwidth": 2,
            "linecolor": "white",
            "showbackground": true,
            "ticks": "",
            "zerolinecolor": "white"
           }
          },
          "shapedefaults": {
           "line": {
            "color": "#2a3f5f"
           }
          },
          "ternary": {
           "aaxis": {
            "gridcolor": "white",
            "linecolor": "white",
            "ticks": ""
           },
           "baxis": {
            "gridcolor": "white",
            "linecolor": "white",
            "ticks": ""
           },
           "bgcolor": "#E5ECF6",
           "caxis": {
            "gridcolor": "white",
            "linecolor": "white",
            "ticks": ""
           }
          },
          "title": {
           "x": 0.05
          },
          "xaxis": {
           "automargin": true,
           "gridcolor": "white",
           "linecolor": "white",
           "ticks": "",
           "title": {
            "standoff": 15
           },
           "zerolinecolor": "white",
           "zerolinewidth": 2
          },
          "yaxis": {
           "automargin": true,
           "gridcolor": "white",
           "linecolor": "white",
           "ticks": "",
           "title": {
            "standoff": 15
           },
           "zerolinecolor": "white",
           "zerolinewidth": 2
          }
         }
        },
        "title": {
         "text": "Casos x mortos por covid"
        }
       }
      },
      "text/html": [
       "<div>                            <div id=\"a9dd173e-d958-4df7-ab58-57adc9ebde85\" class=\"plotly-graph-div\" style=\"height:525px; width:100%;\"></div>            <script type=\"text/javascript\">                require([\"plotly\"], function(Plotly) {                    window.PLOTLYENV=window.PLOTLYENV || {};                                    if (document.getElementById(\"a9dd173e-d958-4df7-ab58-57adc9ebde85\")) {                    Plotly.newPlot(                        \"a9dd173e-d958-4df7-ab58-57adc9ebde85\",                        [{\"marker\": {\"color\": [39143915.0, 2876991.0, 44047392.0, 77297.0, 33113463.0, 15037.0, 98134.0, 45300278.0, 2964656.0, 106881.0, 25574118.0, 9019425.0, 10162212.0, 39419.0, 1715770.0, 165102254.0, 287465.0, 9448527.0, 11602439.0, 399418.0, 12200726.0, 62219.0, 773742.0, 11712826.0, 3275544.0, 2363354.0, 212941524.0, 30282.0, 438534.0, 6934897.0, 21042878.0, 11976636.0, 557504.0, 16776786.0, 26707600.0, 37825599.0, 4850615.0, 26284.0, 65916.0, 16540375.0, 174267.0, 19157592.0, 1439323776.0, 51019195.0, 874166.0, 5551349.0, 5105840.0, 4098724.0, 11324845.0, 164264.0, 1209581.0, 10714050.0, 5797392.0, null, 991586.0, 72032.0, 10875280.0, 90220671.0, 17709839.0, 102812290.0, 6494511.0, 1414090.0, 3558687.0, 1326763.0, 1163185.0, 115660759.0, 4891.0, 3505.0, 898087.0, 5542917.0, 65310341.0, 300573.0, 28132.0, 2238621.0, 2433182.0, 3987201.0, 83852143.0, 31232925.0, 33688.0, 10409921.0, 56795.0, 112655.0, 400142.0, 17997678.0, 13219607.0, 1979414.0, 787516.0, 11437368.0, 9943825.0, 7512336.0, 9654047.0, 341804.0, 1383419254.0, 274250639.0, 84262110.0, 40444461.0, 4951636.0, 85147.0, 9197590.0, 60439018.0, 26538195.0, 2964451.0, 126376879.0, 10228624.0, 18833023.0, 54062804.0, 4286327.0, 6550963.0, 7301911.0, 1880767.0, 6817566.0, 2146538.0, 5086855.0, 6894652.0, 38156.0, 2712354.0, 628512.0, 651548.0, 27864985.0, 19250722.0, 32469820.0, 542907.0, 20392511.0, 441843.0, 37519.0, 4679491.0, 1272307.0, 274429.0, 129273294.0, 4031554.0, 39312.0, 3291428.0, 628086.0, 4993.0, 37020280.0, 31468463.0, null, 54502107.0, 2552314.0, 29266773.0, 17144540.0, 286189.0, 5002100.0, 6644319.0, 24416322.0, 207390397.0, 2083352.0, 5431948.0, 5138381.0, 221953196.0, 5130533.0, 4331682.0, 8988980.0, 7154494.0, 33086613.0, 109945900.0, 37835984.0, 10189064.0, 2807805.0, 896928.0, 19204495.0, 145950466.0, 13030820.0, 51280461.0, 53294.0, 18384.0, 3883.0, 5787.0, 33949.0, 220167.0, 34948931.0, 16851620.0, 8728305.0, 98501.0, 8017036.0, 5861962.0, 42998.0, 5460318.0, 2079011.0, 16001117.0, 59495970.0, 11226645.0, 46759410.0, 21436067.0, 9885.0, 11103.0, 44100600.0, 587957.0, 10115214.0, 8670622.0, 17604836.0, 23827774.0, 9590325.0, 60147752.0, 69844617.0, 1324660.0, 8326349.0, 1400642.0, 11849710.0, 84567110.0, 38848.0, 9920359.0, 46089942.0, 67976480.0, 43665869.0, 3476793.0, 331494557.0, 33590274.0, 802.0, 28415225.0, 97559337.0, 600936.0, 29987637.0, 18509209.0, 14916922.0]}, \"mode\": \"markers\", \"text\": [\"Afghanistan\", \"Albania\", \"Algeria\", \"Andorra\", \"Angola\", \"Anguilla\", \"Antigua and Barbuda\", \"Argentina\", \"Armenia\", \"Aruba\", \"Australia\", \"Austria\", \"Azerbaijan\", \"Bahamas\", \"Bahrain\", \"Bangladesh\", \"Barbados\", \"Belarus\", \"Belgium\", \"Belize\", \"Benin\", \"Bermuda\", \"Bhutan\", \"Bolivia\", \"Bosnia and Herzegovina\", \"Botswana\", \"Brazil\", \"British Virgin Islands\", \"Brunei\", \"Bulgaria\", \"Burkina Faso\", \"Burundi\", \"Cabo Verde\", \"Cambodia\", \"Cameroon\", \"Canada\", \"CAR\", \"Caribbean Netherlands\", \"Cayman Islands\", \"Chad\", \"Channel Islands\", \"Chile\", \"China\", \"Colombia\", \"Comoros\", \"Congo\", \"Costa Rica\", \"Croatia\", \"Cuba\", \"Cura\\u00e7ao\", \"Cyprus\", \"Czechia\", \"Denmark\", \"Diamond Princess\", \"Djibouti\", \"Dominica\", \"Dominican Republic\", \"DRC\", \"Ecuador\", \"Egypt\", \"El Salvador\", \"Equatorial Guinea\", \"Eritrea\", \"Estonia\", \"Eswatini\", \"Ethiopia\", \"Faeroe Islands\", \"Falkland Islands\", \"Fiji\", \"Finland\", \"France\", \"French Guiana\", \"French Polynesia\", \"Gabon\", \"Gambia\", \"Georgia\", \"Germany\", \"Ghana\", \"Gibraltar\", \"Greece\", \"Greenland\", \"Grenada\", \"Guadeloupe\", \"Guatemala\", \"Guinea\", \"Guinea-Bissau\", \"Guyana\", \"Haiti\", \"Honduras\", \"Hong Kong\", \"Hungary\", \"Iceland\", \"India\", \"Indonesia\", \"Iran\", \"Iraq\", \"Ireland\", \"Isle of Man\", \"Israel\", \"Italy\", \"Ivory Coast\", \"Jamaica\", \"Japan\", \"Jordan\", \"Kazakhstan\", \"Kenya\", \"Kuwait\", \"Kyrgyzstan\", \"Laos\", \"Latvia\", \"Lebanon\", \"Lesotho\", \"Liberia\", \"Libya\", \"Liechtenstein\", \"Lithuania\", \"Luxembourg\", \"Macao\", \"Madagascar\", \"Malawi\", \"Malaysia\", \"Maldives\", \"Mali\", \"Malta\", \"Martinique\", \"Mauritania\", \"Mauritius\", \"Mayotte\", \"Mexico\", \"Moldova\", \"Monaco\", \"Mongolia\", \"Montenegro\", \"Montserrat\", \"Morocco\", \"Mozambique\", \"MS Zaandam\", \"Myanmar\", \"Namibia\", \"Nepal\", \"Netherlands\", \"New Caledonia\", \"New Zealand\", \"Nicaragua\", \"Niger\", \"Nigeria\", \"North Macedonia\", \"Norway\", \"Oman\", \"Pakistan\", \"Palestine\", \"Panama\", \"Papua New Guinea\", \"Paraguay\", \"Peru\", \"Philippines\", \"Poland\", \"Portugal\", \"Qatar\", \"R\\u00e9union\", \"Romania\", \"Russia\", \"Rwanda\", \"S. Korea\", \"Saint Kitts and Nevis\", \"Saint Lucia\", \"Saint Martin\", \"Saint Pierre Miquelon\", \"San Marino\", \"Sao Tome and Principe\", \"Saudi Arabia\", \"Senegal\", \"Serbia\", \"Seychelles\", \"Sierra Leone\", \"Singapore\", \"Sint Maarten\", \"Slovakia\", \"Slovenia\", \"Somalia\", \"South Africa\", \"South Sudan\", \"Spain\", \"Sri Lanka\", \"St. Barth\", \"St. Vincent Grenadines\", \"Sudan\", \"Suriname\", \"Sweden\", \"Switzerland\", \"Syria\", \"Taiwan\", \"Tajikistan\", \"Tanzania\", \"Thailand\", \"Timor-Leste\", \"Togo\", \"Trinidad and Tobago\", \"Tunisia\", \"Turkey\", \"Turks and Caicos\", \"UAE\", \"Uganda\", \"UK\", \"Ukraine\", \"Uruguay\", \"USA\", \"Uzbekistan\", \"Vatican City\", \"Venezuela\", \"Vietnam\", \"Western Sahara\", \"Yemen\", \"Zambia\", \"Zimbabwe\"], \"type\": \"scatter\", \"x\": [1458.0, 389.0, 1741.0, 53.0, 185.0, null, 3.0, 20288.0, 966.0, 27.0, 890.0, 803.0, 594.0, 96.0, 255.0, 5305.0, 7.0, 844.0, 10023.0, 27.0, 41.0, 9.0, null, 8001.0, 871.0, 16.0, 144767.0, 1.0, 3.0, 832.0, 58.0, 1.0, 61.0, null, 418.0, 9402.0, 62.0, 1.0, 1.0, 85.0, 48.0, 12867.0, 4634.0, 26196.0, 7.0, 89.0, 917.0, 291.0, 122.0, 1.0, 22.0, 678.0, 652.0, 13.0, 61.0, null, 2108.0, 272.0, 11433.0, 5946.0, 848.0, 83.0, null, 66.0, 111.0, 1205.0, null, null, 2.0, 345.0, 32019.0, 67.0, 7.0, 54.0, 113.0, 46.0, 959.0, 301.0, null, 398.0, null, null, 57.0, 3267.0, 66.0, 39.0, 82.0, 229.0, 238.0, 105.0, 798.0, 10.0, 100148.0, 10972.0, 26567.0, 9298.0, 1806.0, 24.0, 1633.0, 35941.0, 120.0, 116.0, 1578.0, 79.0, 1725.0, 725.0, 615.0, 1065.0, null, 38.0, 374.0, 39.0, 82.0, 570.0, 1.0, 93.0, 125.0, null, 232.0, 179.0, 136.0, 34.0, 131.0, 37.0, 21.0, 161.0, 10.0, 42.0, 78078.0, 1344.0, 2.0, null, 170.0, 1.0, 2229.0, 62.0, 2.0, 353.0, 123.0, 520.0, 6428.0, null, 25.0, 151.0, 69.0, 1112.0, 749.0, 274.0, 935.0, 6499.0, 321.0, 2387.0, 7.0, 869.0, 32535.0, 5616.0, 257.0, 1983.0, 215.0, 16.0, 4915.0, 21077.0, 29.0, 416.0, null, null, 8.0, null, 42.0, 15.0, 4823.0, 312.0, 751.0, null, 72.0, 27.0, 22.0, 54.0, 154.0, 99.0, 16866.0, 49.0, 31973.0, 13.0, null, null, 836.0, 105.0, 5895.0, 2075.0, 202.0, 7.0, 77.0, 21.0, 59.0, null, 48.0, 76.0, 271.0, 8262.0, 6.0, 424.0, 79.0, 42268.0, 4261.0, 48.0, 212883.0, 472.0, null, 635.0, 35.0, 1.0, 587.0, 333.0, 228.0], \"y\": [3929, 13965, 5169, 205, 5114, 3, 106, 765002, 51382, 3998, 27109, 46374, 40453, 422, 71374, 366383, 193, 79421, 121059, 2026, 2357, 181, 282, 135716, 27975, 3172, 4849229, 71, 146, 21096, 2088, 510, 6126, 278, 20838, 16232, 4829, 121, 211, 1203, 665, 46659, 85424, 835339, 484, 5089, 76828, 1716, 567, 399, 1789, 74255, 28932, 712, 5417, 31, 112728, 10729, 138584, 103317, 29175, 5045, 381, 3507, 55, 76098, 472, 13, 32, 10244, 577505, 9966, 1852, 8766, 3584, 7093, 297046, 46656, 416, 19346, 14, 24, 5528, 9309, 10652, 2324, 2929, 8781, 77598, 5105, 28631, 2809, 6426789, 295499, 464596, 372259, 36597, 340, 25892, 319908, 19755, 6704, 84215, 1365, 108044, 38923, 106087, 47056, 23, 1945, 40882, 168, 1343, 35717, 120, 4956, 8709, 46, 16493, 5779, 11771, 10354, 3131, 3139, 1543, 7505, 381, 3779, 748315, 55016, 219, 313, 10987, 13, 126044, 8888, 9, 15525, 11373, 8245, 127922, 27, 1848, 517, 1197, 59001, 18363, 14149, 98585, 313431, 40766, 113342, 539, 41799, 818297, 316678, 95773, 77284, 126164, 3993, 132001, 1194643, 4843, 23952, 19, 27, 403, 16, 732, 911, 335578, 15051, 33735, 144, 2238, 57794, 668, 11617, 6103, 3593, 676084, 2704, 778607, 3388, 54, 64, 13653, 4891, 94283, 54384, 4247, 515, 9852, 509, 3575, 28, 1809, 4613, 19721, 32007, 690, 96529, 8491, 467146, 217661, 2061, 7505749, 57454, 12, 76029, 1095, 10, 2039, 1483, 785]}],                        {\"template\": {\"data\": {\"bar\": [{\"error_x\": {\"color\": \"#2a3f5f\"}, \"error_y\": {\"color\": \"#2a3f5f\"}, \"marker\": {\"line\": {\"color\": \"#E5ECF6\", \"width\": 0.5}}, \"type\": \"bar\"}], \"barpolar\": [{\"marker\": {\"line\": {\"color\": \"#E5ECF6\", \"width\": 0.5}}, \"type\": \"barpolar\"}], \"carpet\": [{\"aaxis\": {\"endlinecolor\": \"#2a3f5f\", \"gridcolor\": \"white\", \"linecolor\": \"white\", \"minorgridcolor\": \"white\", \"startlinecolor\": \"#2a3f5f\"}, \"baxis\": {\"endlinecolor\": \"#2a3f5f\", \"gridcolor\": \"white\", \"linecolor\": \"white\", \"minorgridcolor\": \"white\", \"startlinecolor\": \"#2a3f5f\"}, \"type\": \"carpet\"}], \"choropleth\": [{\"colorbar\": {\"outlinewidth\": 0, \"ticks\": \"\"}, \"type\": \"choropleth\"}], \"contour\": [{\"colorbar\": {\"outlinewidth\": 0, \"ticks\": \"\"}, \"colorscale\": [[0.0, \"#0d0887\"], [0.1111111111111111, \"#46039f\"], [0.2222222222222222, \"#7201a8\"], [0.3333333333333333, \"#9c179e\"], [0.4444444444444444, \"#bd3786\"], [0.5555555555555556, \"#d8576b\"], [0.6666666666666666, \"#ed7953\"], [0.7777777777777778, \"#fb9f3a\"], [0.8888888888888888, \"#fdca26\"], [1.0, \"#f0f921\"]], \"type\": \"contour\"}], \"contourcarpet\": [{\"colorbar\": {\"outlinewidth\": 0, \"ticks\": \"\"}, \"type\": \"contourcarpet\"}], \"heatmap\": [{\"colorbar\": {\"outlinewidth\": 0, \"ticks\": \"\"}, \"colorscale\": [[0.0, \"#0d0887\"], [0.1111111111111111, \"#46039f\"], [0.2222222222222222, \"#7201a8\"], [0.3333333333333333, \"#9c179e\"], [0.4444444444444444, \"#bd3786\"], [0.5555555555555556, \"#d8576b\"], [0.6666666666666666, \"#ed7953\"], [0.7777777777777778, \"#fb9f3a\"], [0.8888888888888888, \"#fdca26\"], [1.0, \"#f0f921\"]], \"type\": \"heatmap\"}], \"heatmapgl\": [{\"colorbar\": {\"outlinewidth\": 0, \"ticks\": \"\"}, \"colorscale\": [[0.0, \"#0d0887\"], [0.1111111111111111, \"#46039f\"], [0.2222222222222222, \"#7201a8\"], [0.3333333333333333, \"#9c179e\"], [0.4444444444444444, \"#bd3786\"], [0.5555555555555556, \"#d8576b\"], [0.6666666666666666, \"#ed7953\"], [0.7777777777777778, \"#fb9f3a\"], [0.8888888888888888, \"#fdca26\"], [1.0, \"#f0f921\"]], \"type\": \"heatmapgl\"}], \"histogram\": [{\"marker\": {\"colorbar\": {\"outlinewidth\": 0, \"ticks\": \"\"}}, \"type\": \"histogram\"}], \"histogram2d\": [{\"colorbar\": {\"outlinewidth\": 0, \"ticks\": \"\"}, \"colorscale\": [[0.0, \"#0d0887\"], [0.1111111111111111, \"#46039f\"], [0.2222222222222222, \"#7201a8\"], [0.3333333333333333, \"#9c179e\"], [0.4444444444444444, \"#bd3786\"], [0.5555555555555556, \"#d8576b\"], [0.6666666666666666, \"#ed7953\"], [0.7777777777777778, \"#fb9f3a\"], [0.8888888888888888, \"#fdca26\"], [1.0, \"#f0f921\"]], \"type\": \"histogram2d\"}], \"histogram2dcontour\": [{\"colorbar\": {\"outlinewidth\": 0, \"ticks\": \"\"}, \"colorscale\": [[0.0, \"#0d0887\"], [0.1111111111111111, \"#46039f\"], [0.2222222222222222, \"#7201a8\"], [0.3333333333333333, \"#9c179e\"], [0.4444444444444444, \"#bd3786\"], [0.5555555555555556, \"#d8576b\"], [0.6666666666666666, \"#ed7953\"], [0.7777777777777778, \"#fb9f3a\"], [0.8888888888888888, \"#fdca26\"], [1.0, \"#f0f921\"]], \"type\": \"histogram2dcontour\"}], \"mesh3d\": [{\"colorbar\": {\"outlinewidth\": 0, \"ticks\": \"\"}, \"type\": \"mesh3d\"}], \"parcoords\": [{\"line\": {\"colorbar\": {\"outlinewidth\": 0, \"ticks\": \"\"}}, \"type\": \"parcoords\"}], \"pie\": [{\"automargin\": true, \"type\": \"pie\"}], \"scatter\": [{\"marker\": {\"colorbar\": {\"outlinewidth\": 0, \"ticks\": \"\"}}, \"type\": \"scatter\"}], \"scatter3d\": [{\"line\": {\"colorbar\": {\"outlinewidth\": 0, \"ticks\": \"\"}}, \"marker\": {\"colorbar\": {\"outlinewidth\": 0, \"ticks\": \"\"}}, \"type\": \"scatter3d\"}], \"scattercarpet\": [{\"marker\": {\"colorbar\": {\"outlinewidth\": 0, \"ticks\": \"\"}}, \"type\": \"scattercarpet\"}], \"scattergeo\": [{\"marker\": {\"colorbar\": {\"outlinewidth\": 0, \"ticks\": \"\"}}, \"type\": \"scattergeo\"}], \"scattergl\": [{\"marker\": {\"colorbar\": {\"outlinewidth\": 0, \"ticks\": \"\"}}, \"type\": \"scattergl\"}], \"scattermapbox\": [{\"marker\": {\"colorbar\": {\"outlinewidth\": 0, \"ticks\": \"\"}}, \"type\": \"scattermapbox\"}], \"scatterpolar\": [{\"marker\": {\"colorbar\": {\"outlinewidth\": 0, \"ticks\": \"\"}}, \"type\": \"scatterpolar\"}], \"scatterpolargl\": [{\"marker\": {\"colorbar\": {\"outlinewidth\": 0, \"ticks\": \"\"}}, \"type\": \"scatterpolargl\"}], \"scatterternary\": [{\"marker\": {\"colorbar\": {\"outlinewidth\": 0, \"ticks\": \"\"}}, \"type\": \"scatterternary\"}], \"surface\": [{\"colorbar\": {\"outlinewidth\": 0, \"ticks\": \"\"}, \"colorscale\": [[0.0, \"#0d0887\"], [0.1111111111111111, \"#46039f\"], [0.2222222222222222, \"#7201a8\"], [0.3333333333333333, \"#9c179e\"], [0.4444444444444444, \"#bd3786\"], [0.5555555555555556, \"#d8576b\"], [0.6666666666666666, \"#ed7953\"], [0.7777777777777778, \"#fb9f3a\"], [0.8888888888888888, \"#fdca26\"], [1.0, \"#f0f921\"]], \"type\": \"surface\"}], \"table\": [{\"cells\": {\"fill\": {\"color\": \"#EBF0F8\"}, \"line\": {\"color\": \"white\"}}, \"header\": {\"fill\": {\"color\": \"#C8D4E3\"}, \"line\": {\"color\": \"white\"}}, \"type\": \"table\"}]}, \"layout\": {\"annotationdefaults\": {\"arrowcolor\": \"#2a3f5f\", \"arrowhead\": 0, \"arrowwidth\": 1}, \"coloraxis\": {\"colorbar\": {\"outlinewidth\": 0, \"ticks\": \"\"}}, \"colorscale\": {\"diverging\": [[0, \"#8e0152\"], [0.1, \"#c51b7d\"], [0.2, \"#de77ae\"], [0.3, \"#f1b6da\"], [0.4, \"#fde0ef\"], [0.5, \"#f7f7f7\"], [0.6, \"#e6f5d0\"], [0.7, \"#b8e186\"], [0.8, \"#7fbc41\"], [0.9, \"#4d9221\"], [1, \"#276419\"]], \"sequential\": [[0.0, \"#0d0887\"], [0.1111111111111111, \"#46039f\"], [0.2222222222222222, \"#7201a8\"], [0.3333333333333333, \"#9c179e\"], [0.4444444444444444, \"#bd3786\"], [0.5555555555555556, \"#d8576b\"], [0.6666666666666666, \"#ed7953\"], [0.7777777777777778, \"#fb9f3a\"], [0.8888888888888888, \"#fdca26\"], [1.0, \"#f0f921\"]], \"sequentialminus\": [[0.0, \"#0d0887\"], [0.1111111111111111, \"#46039f\"], [0.2222222222222222, \"#7201a8\"], [0.3333333333333333, \"#9c179e\"], [0.4444444444444444, \"#bd3786\"], [0.5555555555555556, \"#d8576b\"], [0.6666666666666666, \"#ed7953\"], [0.7777777777777778, \"#fb9f3a\"], [0.8888888888888888, \"#fdca26\"], [1.0, \"#f0f921\"]]}, \"colorway\": [\"#636efa\", \"#EF553B\", \"#00cc96\", \"#ab63fa\", \"#FFA15A\", \"#19d3f3\", \"#FF6692\", \"#B6E880\", \"#FF97FF\", \"#FECB52\"], \"font\": {\"color\": \"#2a3f5f\"}, \"geo\": {\"bgcolor\": \"white\", \"lakecolor\": \"white\", \"landcolor\": \"#E5ECF6\", \"showlakes\": true, \"showland\": true, \"subunitcolor\": \"white\"}, \"hoverlabel\": {\"align\": \"left\"}, \"hovermode\": \"closest\", \"mapbox\": {\"style\": \"light\"}, \"paper_bgcolor\": \"white\", \"plot_bgcolor\": \"#E5ECF6\", \"polar\": {\"angularaxis\": {\"gridcolor\": \"white\", \"linecolor\": \"white\", \"ticks\": \"\"}, \"bgcolor\": \"#E5ECF6\", \"radialaxis\": {\"gridcolor\": \"white\", \"linecolor\": \"white\", \"ticks\": \"\"}}, \"scene\": {\"xaxis\": {\"backgroundcolor\": \"#E5ECF6\", \"gridcolor\": \"white\", \"gridwidth\": 2, \"linecolor\": \"white\", \"showbackground\": true, \"ticks\": \"\", \"zerolinecolor\": \"white\"}, \"yaxis\": {\"backgroundcolor\": \"#E5ECF6\", \"gridcolor\": \"white\", \"gridwidth\": 2, \"linecolor\": \"white\", \"showbackground\": true, \"ticks\": \"\", \"zerolinecolor\": \"white\"}, \"zaxis\": {\"backgroundcolor\": \"#E5ECF6\", \"gridcolor\": \"white\", \"gridwidth\": 2, \"linecolor\": \"white\", \"showbackground\": true, \"ticks\": \"\", \"zerolinecolor\": \"white\"}}, \"shapedefaults\": {\"line\": {\"color\": \"#2a3f5f\"}}, \"ternary\": {\"aaxis\": {\"gridcolor\": \"white\", \"linecolor\": \"white\", \"ticks\": \"\"}, \"baxis\": {\"gridcolor\": \"white\", \"linecolor\": \"white\", \"ticks\": \"\"}, \"bgcolor\": \"#E5ECF6\", \"caxis\": {\"gridcolor\": \"white\", \"linecolor\": \"white\", \"ticks\": \"\"}}, \"title\": {\"x\": 0.05}, \"xaxis\": {\"automargin\": true, \"gridcolor\": \"white\", \"linecolor\": \"white\", \"ticks\": \"\", \"title\": {\"standoff\": 15}, \"zerolinecolor\": \"white\", \"zerolinewidth\": 2}, \"yaxis\": {\"automargin\": true, \"gridcolor\": \"white\", \"linecolor\": \"white\", \"ticks\": \"\", \"title\": {\"standoff\": 15}, \"zerolinecolor\": \"white\", \"zerolinewidth\": 2}}}, \"title\": {\"text\": \"Casos x mortos por covid\"}},                        {\"responsive\": true}                    ).then(function(){\n",
       "                            \n",
       "var gd = document.getElementById('a9dd173e-d958-4df7-ab58-57adc9ebde85');\n",
       "var x = new MutationObserver(function (mutations, observer) {{\n",
       "        var display = window.getComputedStyle(gd).display;\n",
       "        if (!display || display === 'none') {{\n",
       "            console.log([gd, 'removed!']);\n",
       "            Plotly.purge(gd);\n",
       "            observer.disconnect();\n",
       "        }}\n",
       "}});\n",
       "\n",
       "// Listen for the removal of the full notebook cells\n",
       "var notebookContainer = gd.closest('#notebook-container');\n",
       "if (notebookContainer) {{\n",
       "    x.observe(notebookContainer, {childList: true});\n",
       "}}\n",
       "\n",
       "// Listen for the clearing of the current output cell\n",
       "var outputEl = gd.closest('.output');\n",
       "if (outputEl) {{\n",
       "    x.observe(outputEl, {childList: true});\n",
       "}}\n",
       "\n",
       "                        })                };                });            </script>        </div>"
      ]
     },
     "metadata": {},
     "output_type": "display_data"
    }
   ],
   "source": [
    "fig = go.Figure(data=go.Scatter(x=casosCoronaMundo['total mortos'],\n",
    "                                y=casosCoronaMundo['total de casos'],\n",
    "                                mode='markers',\n",
    "                                marker_color=casosCoronaMundo['populacao'],\n",
    "                                text=casosCoronaMundo['pais']))\n",
    "\n",
    "fig.update_layout(title='Casos x mortos por covid')\n",
    "fig.show()"
   ]
  },
  {
   "cell_type": "raw",
   "metadata": {},
   "source": [
    "Como podemos ver os pontos fora do normal são : EUA, Brasil, Índia e México.\n",
    "\n",
    "vamos analisar os números destes 4 países."
   ]
  },
  {
   "cell_type": "code",
   "execution_count": 17,
   "metadata": {},
   "outputs": [
    {
     "data": {
      "text/html": [
       "<div>\n",
       "<style scoped>\n",
       "    .dataframe tbody tr th:only-of-type {\n",
       "        vertical-align: middle;\n",
       "    }\n",
       "\n",
       "    .dataframe tbody tr th {\n",
       "        vertical-align: top;\n",
       "    }\n",
       "\n",
       "    .dataframe thead th {\n",
       "        text-align: right;\n",
       "    }\n",
       "</style>\n",
       "<table border=\"1\" class=\"dataframe\">\n",
       "  <thead>\n",
       "    <tr style=\"text-align: right;\">\n",
       "      <th></th>\n",
       "      <th>pais</th>\n",
       "      <th>total de casos</th>\n",
       "      <th>total mortos</th>\n",
       "      <th>recuperados</th>\n",
       "      <th>casos ativos</th>\n",
       "      <th>casos criticos</th>\n",
       "      <th>casos por mi</th>\n",
       "      <th>mortes por mi</th>\n",
       "      <th>testes</th>\n",
       "      <th>testes por mi</th>\n",
       "      <th>populacao</th>\n",
       "      <th>code</th>\n",
       "    </tr>\n",
       "  </thead>\n",
       "  <tbody>\n",
       "    <tr>\n",
       "      <th>92</th>\n",
       "      <td>India</td>\n",
       "      <td>6426789</td>\n",
       "      <td>100148.0</td>\n",
       "      <td>5382979.0</td>\n",
       "      <td>943662.0</td>\n",
       "      <td>8944.0</td>\n",
       "      <td>4646.0</td>\n",
       "      <td>72.0</td>\n",
       "      <td>76717728.0</td>\n",
       "      <td>55455.0</td>\n",
       "      <td>1.383419e+09</td>\n",
       "      <td>IND</td>\n",
       "    </tr>\n",
       "    <tr>\n",
       "      <th>26</th>\n",
       "      <td>Brazil</td>\n",
       "      <td>4849229</td>\n",
       "      <td>144767.0</td>\n",
       "      <td>4212772.0</td>\n",
       "      <td>49169.0</td>\n",
       "      <td>8318.0</td>\n",
       "      <td>22773.0</td>\n",
       "      <td>680.0</td>\n",
       "      <td>17900000.0</td>\n",
       "      <td>84061.0</td>\n",
       "      <td>2.129415e+08</td>\n",
       "      <td>BRA</td>\n",
       "    </tr>\n",
       "    <tr>\n",
       "      <th>206</th>\n",
       "      <td>USA</td>\n",
       "      <td>7505749</td>\n",
       "      <td>212883.0</td>\n",
       "      <td>4750176.0</td>\n",
       "      <td>2542690.0</td>\n",
       "      <td>14193.0</td>\n",
       "      <td>22642.0</td>\n",
       "      <td>642.0</td>\n",
       "      <td>108510080.0</td>\n",
       "      <td>327336.0</td>\n",
       "      <td>3.314946e+08</td>\n",
       "      <td>USA</td>\n",
       "    </tr>\n",
       "    <tr>\n",
       "      <th>128</th>\n",
       "      <td>Mexico</td>\n",
       "      <td>748315</td>\n",
       "      <td>78078.0</td>\n",
       "      <td>537475.0</td>\n",
       "      <td>132762.0</td>\n",
       "      <td>2466.0</td>\n",
       "      <td>5789.0</td>\n",
       "      <td>604.0</td>\n",
       "      <td>1968556.0</td>\n",
       "      <td>15228.0</td>\n",
       "      <td>1.292733e+08</td>\n",
       "      <td>MEX</td>\n",
       "    </tr>\n",
       "  </tbody>\n",
       "</table>\n",
       "</div>"
      ],
      "text/plain": [
       "       pais  total de casos  total mortos  recuperados  casos ativos  \\\n",
       "92    India         6426789      100148.0    5382979.0      943662.0   \n",
       "26   Brazil         4849229      144767.0    4212772.0       49169.0   \n",
       "206     USA         7505749      212883.0    4750176.0     2542690.0   \n",
       "128  Mexico          748315       78078.0     537475.0      132762.0   \n",
       "\n",
       "     casos criticos  casos por mi  mortes por mi       testes  testes por mi  \\\n",
       "92           8944.0        4646.0           72.0   76717728.0        55455.0   \n",
       "26           8318.0       22773.0          680.0   17900000.0        84061.0   \n",
       "206         14193.0       22642.0          642.0  108510080.0       327336.0   \n",
       "128          2466.0        5789.0          604.0    1968556.0        15228.0   \n",
       "\n",
       "        populacao code  \n",
       "92   1.383419e+09  IND  \n",
       "26   2.129415e+08  BRA  \n",
       "206  3.314946e+08  USA  \n",
       "128  1.292733e+08  MEX  "
      ]
     },
     "execution_count": 17,
     "metadata": {},
     "output_type": "execute_result"
    }
   ],
   "source": [
    "analise4paises = pd.DataFrame(casosCoronaMundo[casosCoronaMundo['pais'] == 'India'])\n",
    "analise4paises = analise4paises.append(casosCoronaMundo[casosCoronaMundo['pais'] == 'Brazil'])\n",
    "analise4paises = analise4paises.append(casosCoronaMundo[casosCoronaMundo['pais'] == 'USA'])\n",
    "analise4paises = analise4paises.append(casosCoronaMundo[casosCoronaMundo['pais'] == 'Mexico'])\n",
    "analise4paises"
   ]
  },
  {
   "cell_type": "code",
   "execution_count": 46,
   "metadata": {},
   "outputs": [
    {
     "data": {
      "text/plain": [
       "1    0.083772\n",
       "2    0.270907\n",
       "0    0.069171\n",
       "8    0.380134\n",
       "dtype: float64"
      ]
     },
     "execution_count": 46,
     "metadata": {},
     "output_type": "execute_result"
    }
   ],
   "source": [
    "analise4paises['total de casos']/analise4paises['testes']"
   ]
  },
  {
   "cell_type": "code",
   "execution_count": 4,
   "metadata": {},
   "outputs": [
    {
     "data": {
      "text/plain": [
       "1    64.172914\n",
       "2    33.496784\n",
       "0    35.257625\n",
       "8     9.584198\n",
       "dtype: float64"
      ]
     },
     "execution_count": 4,
     "metadata": {},
     "output_type": "execute_result"
    }
   ],
   "source": [
    "analise4paises['total de casos']/analise4paises['total mortos']"
   ]
  },
  {
   "cell_type": "code",
   "execution_count": 5,
   "metadata": {},
   "outputs": [
    {
     "data": {
      "text/plain": [
       "1    0.015583\n",
       "2    0.029854\n",
       "0    0.028363\n",
       "8    0.104338\n",
       "dtype: float64"
      ]
     },
     "execution_count": 5,
     "metadata": {},
     "output_type": "execute_result"
    }
   ],
   "source": [
    "analise4paises['total mortos']/analise4paises['total de casos']"
   ]
  },
  {
   "cell_type": "raw",
   "metadata": {},
   "source": [
    "O que podemos ver é que o México fez poucos testes, o que maquia o número de infectados, o % de mortos por infectado está demasiadamente alto. O que mostra o quão distorcido ficou o número.\n",
    "\n",
    "Ja os EUA provavelmente tem o número real de casos, por testar mais. A grande quantidade de mortos está relacionada à certeza dos infectados pelos teste e também pelo custo da saúde no país.\n",
    "\n",
    "A Índia como tem uma população muito grande, o numero de casos é alto, mas provavelmente não rastrearam o suficiente já que fez menos testes por milhão de habitantes que o Brasil por exemplo.Também o número de obitos pode ser maior pela falta de testes e quantidade de população sem causa da morte investigada.\n",
    "\n",
    "O Brasil testou-se pouco, o que pode ocultar um número maior de casos, porém o número de mortos provavelmente está perto do certo."
   ]
  },
  {
   "cell_type": "code",
   "execution_count": 18,
   "metadata": {},
   "outputs": [
    {
     "data": {
      "application/vnd.plotly.v1+json": {
       "config": {
        "linkText": "Export to plot.ly",
        "plotlyServerURL": "https://plot.ly",
        "showLink": false
       },
       "data": [
        {
         "colorbar": {
          "title": {
           "text": "casos corona virus"
          }
         },
         "locations": [
          "AFG",
          "ALB",
          "DZA",
          "AND",
          "AGO",
          "AIA",
          "ATG",
          "ARG",
          "ARM",
          "ABW",
          "AUS",
          "AUT",
          "AZE",
          "BHS",
          "BHR",
          "BGD",
          "BRB",
          "BLR",
          "BEL",
          "BLZ",
          "BEN",
          "BMU",
          "BTN",
          "BOL",
          "BIH",
          "BWA",
          "BRA",
          "VGB",
          "BRN",
          "BGR",
          "BFA",
          "BDI",
          "CPV",
          "KHM",
          "CMR",
          "CAN",
          "CAF",
          null,
          "CYM",
          "TCD",
          null,
          "CHL",
          "CHN",
          "COL",
          "COM",
          "COD",
          "CRI",
          "HRV",
          "CUB",
          "CUW",
          "CYP",
          "CZE",
          "DNK",
          null,
          "DJI",
          "DMA",
          "DOM",
          null,
          "ECU",
          "EGY",
          "SLV",
          "GNQ",
          "ERI",
          "EST",
          null,
          "ETH",
          null,
          "FLK",
          "FJI",
          "FIN",
          "FRA",
          null,
          "PYF",
          "GAB",
          "GMB",
          "GEO",
          "DEU",
          "GHA",
          "GIB",
          "GRC",
          "GRL",
          "GRD",
          null,
          "GTM",
          "GIN",
          "GNB",
          "GUY",
          "HTI",
          "HND",
          "HKG",
          "HUN",
          "ISL",
          "IND",
          "IDN",
          "IRN",
          "IRQ",
          "IRL",
          "IMN",
          "ISR",
          "ITA",
          "CIV",
          "JAM",
          "JPN",
          "JOR",
          "KAZ",
          "KEN",
          "KWT",
          "KGZ",
          "LAO",
          "LVA",
          "LBN",
          "LSO",
          "LBR",
          "LBY",
          "LIE",
          "LTU",
          "LUX",
          null,
          "MDG",
          "MWI",
          "MYS",
          "MDV",
          "MLI",
          "MLT",
          null,
          "MRT",
          "MUS",
          "MYT",
          "MEX",
          "MDA",
          "MCO",
          "MNG",
          "MNE",
          "MSR",
          "MAR",
          "MOZ",
          null,
          "MMR",
          "NAM",
          "NPL",
          "NLD",
          "NCL",
          "NZL",
          "NIC",
          "NER",
          "NGA",
          null,
          "NOR",
          "OMN",
          "PAK",
          "PSE",
          "PAN",
          "PNG",
          "PRY",
          "PER",
          "PHL",
          "POL",
          "PRT",
          "QAT",
          null,
          "ROU",
          "RUS",
          "RWA",
          "KOR",
          "KNA",
          "LCA",
          "MAF",
          null,
          "SMR",
          "STP",
          "SAU",
          "SEN",
          "SRB",
          "SYC",
          "SLE",
          "SGP",
          "SXM",
          "SVK",
          "SVN",
          "SOM",
          "ZAF",
          "SSD",
          "ESP",
          "LKA",
          null,
          null,
          "SDN",
          "SUR",
          "SWE",
          "CHE",
          "SYR",
          "TWN",
          "TJK",
          "TZA",
          "THA",
          null,
          "TGO",
          "TTO",
          "TUN",
          "TUR",
          null,
          null,
          "UGA",
          "GBR",
          "UKR",
          "URY",
          "USA",
          "UZB",
          null,
          "VEN",
          "VNM",
          "ESH",
          "YEM",
          "ZMB",
          "ZWE"
         ],
         "text": [
          "Afghanistan",
          "Albania",
          "Algeria",
          "Andorra",
          "Angola",
          "Anguilla",
          "Antigua and Barbuda",
          "Argentina",
          "Armenia",
          "Aruba",
          "Australia",
          "Austria",
          "Azerbaijan",
          "Bahamas",
          "Bahrain",
          "Bangladesh",
          "Barbados",
          "Belarus",
          "Belgium",
          "Belize",
          "Benin",
          "Bermuda",
          "Bhutan",
          "Bolivia",
          "Bosnia and Herzegovina",
          "Botswana",
          "Brazil",
          "British Virgin Islands",
          "Brunei",
          "Bulgaria",
          "Burkina Faso",
          "Burundi",
          "Cabo Verde",
          "Cambodia",
          "Cameroon",
          "Canada",
          "CAR",
          "Caribbean Netherlands",
          "Cayman Islands",
          "Chad",
          "Channel Islands",
          "Chile",
          "China",
          "Colombia",
          "Comoros",
          "Congo",
          "Costa Rica",
          "Croatia",
          "Cuba",
          "Curaçao",
          "Cyprus",
          "Czechia",
          "Denmark",
          "Diamond Princess",
          "Djibouti",
          "Dominica",
          "Dominican Republic",
          "DRC",
          "Ecuador",
          "Egypt",
          "El Salvador",
          "Equatorial Guinea",
          "Eritrea",
          "Estonia",
          "Eswatini",
          "Ethiopia",
          "Faeroe Islands",
          "Falkland Islands",
          "Fiji",
          "Finland",
          "France",
          "French Guiana",
          "French Polynesia",
          "Gabon",
          "Gambia",
          "Georgia",
          "Germany",
          "Ghana",
          "Gibraltar",
          "Greece",
          "Greenland",
          "Grenada",
          "Guadeloupe",
          "Guatemala",
          "Guinea",
          "Guinea-Bissau",
          "Guyana",
          "Haiti",
          "Honduras",
          "Hong Kong",
          "Hungary",
          "Iceland",
          "India",
          "Indonesia",
          "Iran",
          "Iraq",
          "Ireland",
          "Isle of Man",
          "Israel",
          "Italy",
          "Ivory Coast",
          "Jamaica",
          "Japan",
          "Jordan",
          "Kazakhstan",
          "Kenya",
          "Kuwait",
          "Kyrgyzstan",
          "Laos",
          "Latvia",
          "Lebanon",
          "Lesotho",
          "Liberia",
          "Libya",
          "Liechtenstein",
          "Lithuania",
          "Luxembourg",
          "Macao",
          "Madagascar",
          "Malawi",
          "Malaysia",
          "Maldives",
          "Mali",
          "Malta",
          "Martinique",
          "Mauritania",
          "Mauritius",
          "Mayotte",
          "Mexico",
          "Moldova",
          "Monaco",
          "Mongolia",
          "Montenegro",
          "Montserrat",
          "Morocco",
          "Mozambique",
          "MS Zaandam",
          "Myanmar",
          "Namibia",
          "Nepal",
          "Netherlands",
          "New Caledonia",
          "New Zealand",
          "Nicaragua",
          "Niger",
          "Nigeria",
          "North Macedonia",
          "Norway",
          "Oman",
          "Pakistan",
          "Palestine",
          "Panama",
          "Papua New Guinea",
          "Paraguay",
          "Peru",
          "Philippines",
          "Poland",
          "Portugal",
          "Qatar",
          "Réunion",
          "Romania",
          "Russia",
          "Rwanda",
          "S. Korea",
          "Saint Kitts and Nevis",
          "Saint Lucia",
          "Saint Martin",
          "Saint Pierre Miquelon",
          "San Marino",
          "Sao Tome and Principe",
          "Saudi Arabia",
          "Senegal",
          "Serbia",
          "Seychelles",
          "Sierra Leone",
          "Singapore",
          "Sint Maarten",
          "Slovakia",
          "Slovenia",
          "Somalia",
          "South Africa",
          "South Sudan",
          "Spain",
          "Sri Lanka",
          "St. Barth",
          "St. Vincent Grenadines",
          "Sudan",
          "Suriname",
          "Sweden",
          "Switzerland",
          "Syria",
          "Taiwan",
          "Tajikistan",
          "Tanzania",
          "Thailand",
          "Timor-Leste",
          "Togo",
          "Trinidad and Tobago",
          "Tunisia",
          "Turkey",
          "Turks and Caicos",
          "UAE",
          "Uganda",
          "UK",
          "Ukraine",
          "Uruguay",
          "USA",
          "Uzbekistan",
          "Vatican City",
          "Venezuela",
          "Vietnam",
          "Western Sahara",
          "Yemen",
          "Zambia",
          "Zimbabwe"
         ],
         "type": "choropleth",
         "z": [
          3929,
          13965,
          5169,
          205,
          5114,
          3,
          106,
          765002,
          51382,
          3998,
          27109,
          46374,
          40453,
          422,
          71374,
          366383,
          193,
          79421,
          121059,
          2026,
          2357,
          181,
          282,
          135716,
          27975,
          3172,
          4849229,
          71,
          146,
          21096,
          2088,
          510,
          6126,
          278,
          20838,
          16232,
          4829,
          121,
          211,
          1203,
          665,
          46659,
          85424,
          835339,
          484,
          5089,
          76828,
          1716,
          567,
          399,
          1789,
          74255,
          28932,
          712,
          5417,
          31,
          112728,
          10729,
          138584,
          103317,
          29175,
          5045,
          381,
          3507,
          55,
          76098,
          472,
          13,
          32,
          10244,
          577505,
          9966,
          1852,
          8766,
          3584,
          7093,
          297046,
          46656,
          416,
          19346,
          14,
          24,
          5528,
          9309,
          10652,
          2324,
          2929,
          8781,
          77598,
          5105,
          28631,
          2809,
          6426789,
          295499,
          464596,
          372259,
          36597,
          340,
          25892,
          319908,
          19755,
          6704,
          84215,
          1365,
          108044,
          38923,
          106087,
          47056,
          23,
          1945,
          40882,
          168,
          1343,
          35717,
          120,
          4956,
          8709,
          46,
          16493,
          5779,
          11771,
          10354,
          3131,
          3139,
          1543,
          7505,
          381,
          3779,
          748315,
          55016,
          219,
          313,
          10987,
          13,
          126044,
          8888,
          9,
          15525,
          11373,
          8245,
          127922,
          27,
          1848,
          517,
          1197,
          59001,
          18363,
          14149,
          98585,
          313431,
          40766,
          113342,
          539,
          41799,
          818297,
          316678,
          95773,
          77284,
          126164,
          3993,
          132001,
          1194643,
          4843,
          23952,
          19,
          27,
          403,
          16,
          732,
          911,
          335578,
          15051,
          33735,
          144,
          2238,
          57794,
          668,
          11617,
          6103,
          3593,
          676084,
          2704,
          778607,
          3388,
          54,
          64,
          13653,
          4891,
          94283,
          54384,
          4247,
          515,
          9852,
          509,
          3575,
          28,
          1809,
          4613,
          19721,
          32007,
          690,
          96529,
          8491,
          467146,
          217661,
          2061,
          7505749,
          57454,
          12,
          76029,
          1095,
          10,
          2039,
          1483,
          785
         ]
        }
       ],
       "layout": {
        "geo": {
         "projection": {
          "type": "hammer"
         },
         "showframe": false
        },
        "template": {
         "data": {
          "bar": [
           {
            "error_x": {
             "color": "#2a3f5f"
            },
            "error_y": {
             "color": "#2a3f5f"
            },
            "marker": {
             "line": {
              "color": "#E5ECF6",
              "width": 0.5
             }
            },
            "type": "bar"
           }
          ],
          "barpolar": [
           {
            "marker": {
             "line": {
              "color": "#E5ECF6",
              "width": 0.5
             }
            },
            "type": "barpolar"
           }
          ],
          "carpet": [
           {
            "aaxis": {
             "endlinecolor": "#2a3f5f",
             "gridcolor": "white",
             "linecolor": "white",
             "minorgridcolor": "white",
             "startlinecolor": "#2a3f5f"
            },
            "baxis": {
             "endlinecolor": "#2a3f5f",
             "gridcolor": "white",
             "linecolor": "white",
             "minorgridcolor": "white",
             "startlinecolor": "#2a3f5f"
            },
            "type": "carpet"
           }
          ],
          "choropleth": [
           {
            "colorbar": {
             "outlinewidth": 0,
             "ticks": ""
            },
            "type": "choropleth"
           }
          ],
          "contour": [
           {
            "colorbar": {
             "outlinewidth": 0,
             "ticks": ""
            },
            "colorscale": [
             [
              0,
              "#0d0887"
             ],
             [
              0.1111111111111111,
              "#46039f"
             ],
             [
              0.2222222222222222,
              "#7201a8"
             ],
             [
              0.3333333333333333,
              "#9c179e"
             ],
             [
              0.4444444444444444,
              "#bd3786"
             ],
             [
              0.5555555555555556,
              "#d8576b"
             ],
             [
              0.6666666666666666,
              "#ed7953"
             ],
             [
              0.7777777777777778,
              "#fb9f3a"
             ],
             [
              0.8888888888888888,
              "#fdca26"
             ],
             [
              1,
              "#f0f921"
             ]
            ],
            "type": "contour"
           }
          ],
          "contourcarpet": [
           {
            "colorbar": {
             "outlinewidth": 0,
             "ticks": ""
            },
            "type": "contourcarpet"
           }
          ],
          "heatmap": [
           {
            "colorbar": {
             "outlinewidth": 0,
             "ticks": ""
            },
            "colorscale": [
             [
              0,
              "#0d0887"
             ],
             [
              0.1111111111111111,
              "#46039f"
             ],
             [
              0.2222222222222222,
              "#7201a8"
             ],
             [
              0.3333333333333333,
              "#9c179e"
             ],
             [
              0.4444444444444444,
              "#bd3786"
             ],
             [
              0.5555555555555556,
              "#d8576b"
             ],
             [
              0.6666666666666666,
              "#ed7953"
             ],
             [
              0.7777777777777778,
              "#fb9f3a"
             ],
             [
              0.8888888888888888,
              "#fdca26"
             ],
             [
              1,
              "#f0f921"
             ]
            ],
            "type": "heatmap"
           }
          ],
          "heatmapgl": [
           {
            "colorbar": {
             "outlinewidth": 0,
             "ticks": ""
            },
            "colorscale": [
             [
              0,
              "#0d0887"
             ],
             [
              0.1111111111111111,
              "#46039f"
             ],
             [
              0.2222222222222222,
              "#7201a8"
             ],
             [
              0.3333333333333333,
              "#9c179e"
             ],
             [
              0.4444444444444444,
              "#bd3786"
             ],
             [
              0.5555555555555556,
              "#d8576b"
             ],
             [
              0.6666666666666666,
              "#ed7953"
             ],
             [
              0.7777777777777778,
              "#fb9f3a"
             ],
             [
              0.8888888888888888,
              "#fdca26"
             ],
             [
              1,
              "#f0f921"
             ]
            ],
            "type": "heatmapgl"
           }
          ],
          "histogram": [
           {
            "marker": {
             "colorbar": {
              "outlinewidth": 0,
              "ticks": ""
             }
            },
            "type": "histogram"
           }
          ],
          "histogram2d": [
           {
            "colorbar": {
             "outlinewidth": 0,
             "ticks": ""
            },
            "colorscale": [
             [
              0,
              "#0d0887"
             ],
             [
              0.1111111111111111,
              "#46039f"
             ],
             [
              0.2222222222222222,
              "#7201a8"
             ],
             [
              0.3333333333333333,
              "#9c179e"
             ],
             [
              0.4444444444444444,
              "#bd3786"
             ],
             [
              0.5555555555555556,
              "#d8576b"
             ],
             [
              0.6666666666666666,
              "#ed7953"
             ],
             [
              0.7777777777777778,
              "#fb9f3a"
             ],
             [
              0.8888888888888888,
              "#fdca26"
             ],
             [
              1,
              "#f0f921"
             ]
            ],
            "type": "histogram2d"
           }
          ],
          "histogram2dcontour": [
           {
            "colorbar": {
             "outlinewidth": 0,
             "ticks": ""
            },
            "colorscale": [
             [
              0,
              "#0d0887"
             ],
             [
              0.1111111111111111,
              "#46039f"
             ],
             [
              0.2222222222222222,
              "#7201a8"
             ],
             [
              0.3333333333333333,
              "#9c179e"
             ],
             [
              0.4444444444444444,
              "#bd3786"
             ],
             [
              0.5555555555555556,
              "#d8576b"
             ],
             [
              0.6666666666666666,
              "#ed7953"
             ],
             [
              0.7777777777777778,
              "#fb9f3a"
             ],
             [
              0.8888888888888888,
              "#fdca26"
             ],
             [
              1,
              "#f0f921"
             ]
            ],
            "type": "histogram2dcontour"
           }
          ],
          "mesh3d": [
           {
            "colorbar": {
             "outlinewidth": 0,
             "ticks": ""
            },
            "type": "mesh3d"
           }
          ],
          "parcoords": [
           {
            "line": {
             "colorbar": {
              "outlinewidth": 0,
              "ticks": ""
             }
            },
            "type": "parcoords"
           }
          ],
          "pie": [
           {
            "automargin": true,
            "type": "pie"
           }
          ],
          "scatter": [
           {
            "marker": {
             "colorbar": {
              "outlinewidth": 0,
              "ticks": ""
             }
            },
            "type": "scatter"
           }
          ],
          "scatter3d": [
           {
            "line": {
             "colorbar": {
              "outlinewidth": 0,
              "ticks": ""
             }
            },
            "marker": {
             "colorbar": {
              "outlinewidth": 0,
              "ticks": ""
             }
            },
            "type": "scatter3d"
           }
          ],
          "scattercarpet": [
           {
            "marker": {
             "colorbar": {
              "outlinewidth": 0,
              "ticks": ""
             }
            },
            "type": "scattercarpet"
           }
          ],
          "scattergeo": [
           {
            "marker": {
             "colorbar": {
              "outlinewidth": 0,
              "ticks": ""
             }
            },
            "type": "scattergeo"
           }
          ],
          "scattergl": [
           {
            "marker": {
             "colorbar": {
              "outlinewidth": 0,
              "ticks": ""
             }
            },
            "type": "scattergl"
           }
          ],
          "scattermapbox": [
           {
            "marker": {
             "colorbar": {
              "outlinewidth": 0,
              "ticks": ""
             }
            },
            "type": "scattermapbox"
           }
          ],
          "scatterpolar": [
           {
            "marker": {
             "colorbar": {
              "outlinewidth": 0,
              "ticks": ""
             }
            },
            "type": "scatterpolar"
           }
          ],
          "scatterpolargl": [
           {
            "marker": {
             "colorbar": {
              "outlinewidth": 0,
              "ticks": ""
             }
            },
            "type": "scatterpolargl"
           }
          ],
          "scatterternary": [
           {
            "marker": {
             "colorbar": {
              "outlinewidth": 0,
              "ticks": ""
             }
            },
            "type": "scatterternary"
           }
          ],
          "surface": [
           {
            "colorbar": {
             "outlinewidth": 0,
             "ticks": ""
            },
            "colorscale": [
             [
              0,
              "#0d0887"
             ],
             [
              0.1111111111111111,
              "#46039f"
             ],
             [
              0.2222222222222222,
              "#7201a8"
             ],
             [
              0.3333333333333333,
              "#9c179e"
             ],
             [
              0.4444444444444444,
              "#bd3786"
             ],
             [
              0.5555555555555556,
              "#d8576b"
             ],
             [
              0.6666666666666666,
              "#ed7953"
             ],
             [
              0.7777777777777778,
              "#fb9f3a"
             ],
             [
              0.8888888888888888,
              "#fdca26"
             ],
             [
              1,
              "#f0f921"
             ]
            ],
            "type": "surface"
           }
          ],
          "table": [
           {
            "cells": {
             "fill": {
              "color": "#EBF0F8"
             },
             "line": {
              "color": "white"
             }
            },
            "header": {
             "fill": {
              "color": "#C8D4E3"
             },
             "line": {
              "color": "white"
             }
            },
            "type": "table"
           }
          ]
         },
         "layout": {
          "annotationdefaults": {
           "arrowcolor": "#2a3f5f",
           "arrowhead": 0,
           "arrowwidth": 1
          },
          "coloraxis": {
           "colorbar": {
            "outlinewidth": 0,
            "ticks": ""
           }
          },
          "colorscale": {
           "diverging": [
            [
             0,
             "#8e0152"
            ],
            [
             0.1,
             "#c51b7d"
            ],
            [
             0.2,
             "#de77ae"
            ],
            [
             0.3,
             "#f1b6da"
            ],
            [
             0.4,
             "#fde0ef"
            ],
            [
             0.5,
             "#f7f7f7"
            ],
            [
             0.6,
             "#e6f5d0"
            ],
            [
             0.7,
             "#b8e186"
            ],
            [
             0.8,
             "#7fbc41"
            ],
            [
             0.9,
             "#4d9221"
            ],
            [
             1,
             "#276419"
            ]
           ],
           "sequential": [
            [
             0,
             "#0d0887"
            ],
            [
             0.1111111111111111,
             "#46039f"
            ],
            [
             0.2222222222222222,
             "#7201a8"
            ],
            [
             0.3333333333333333,
             "#9c179e"
            ],
            [
             0.4444444444444444,
             "#bd3786"
            ],
            [
             0.5555555555555556,
             "#d8576b"
            ],
            [
             0.6666666666666666,
             "#ed7953"
            ],
            [
             0.7777777777777778,
             "#fb9f3a"
            ],
            [
             0.8888888888888888,
             "#fdca26"
            ],
            [
             1,
             "#f0f921"
            ]
           ],
           "sequentialminus": [
            [
             0,
             "#0d0887"
            ],
            [
             0.1111111111111111,
             "#46039f"
            ],
            [
             0.2222222222222222,
             "#7201a8"
            ],
            [
             0.3333333333333333,
             "#9c179e"
            ],
            [
             0.4444444444444444,
             "#bd3786"
            ],
            [
             0.5555555555555556,
             "#d8576b"
            ],
            [
             0.6666666666666666,
             "#ed7953"
            ],
            [
             0.7777777777777778,
             "#fb9f3a"
            ],
            [
             0.8888888888888888,
             "#fdca26"
            ],
            [
             1,
             "#f0f921"
            ]
           ]
          },
          "colorway": [
           "#636efa",
           "#EF553B",
           "#00cc96",
           "#ab63fa",
           "#FFA15A",
           "#19d3f3",
           "#FF6692",
           "#B6E880",
           "#FF97FF",
           "#FECB52"
          ],
          "font": {
           "color": "#2a3f5f"
          },
          "geo": {
           "bgcolor": "white",
           "lakecolor": "white",
           "landcolor": "#E5ECF6",
           "showlakes": true,
           "showland": true,
           "subunitcolor": "white"
          },
          "hoverlabel": {
           "align": "left"
          },
          "hovermode": "closest",
          "mapbox": {
           "style": "light"
          },
          "paper_bgcolor": "white",
          "plot_bgcolor": "#E5ECF6",
          "polar": {
           "angularaxis": {
            "gridcolor": "white",
            "linecolor": "white",
            "ticks": ""
           },
           "bgcolor": "#E5ECF6",
           "radialaxis": {
            "gridcolor": "white",
            "linecolor": "white",
            "ticks": ""
           }
          },
          "scene": {
           "xaxis": {
            "backgroundcolor": "#E5ECF6",
            "gridcolor": "white",
            "gridwidth": 2,
            "linecolor": "white",
            "showbackground": true,
            "ticks": "",
            "zerolinecolor": "white"
           },
           "yaxis": {
            "backgroundcolor": "#E5ECF6",
            "gridcolor": "white",
            "gridwidth": 2,
            "linecolor": "white",
            "showbackground": true,
            "ticks": "",
            "zerolinecolor": "white"
           },
           "zaxis": {
            "backgroundcolor": "#E5ECF6",
            "gridcolor": "white",
            "gridwidth": 2,
            "linecolor": "white",
            "showbackground": true,
            "ticks": "",
            "zerolinecolor": "white"
           }
          },
          "shapedefaults": {
           "line": {
            "color": "#2a3f5f"
           }
          },
          "ternary": {
           "aaxis": {
            "gridcolor": "white",
            "linecolor": "white",
            "ticks": ""
           },
           "baxis": {
            "gridcolor": "white",
            "linecolor": "white",
            "ticks": ""
           },
           "bgcolor": "#E5ECF6",
           "caxis": {
            "gridcolor": "white",
            "linecolor": "white",
            "ticks": ""
           }
          },
          "title": {
           "x": 0.05
          },
          "xaxis": {
           "automargin": true,
           "gridcolor": "white",
           "linecolor": "white",
           "ticks": "",
           "title": {
            "standoff": 15
           },
           "zerolinecolor": "white",
           "zerolinewidth": 2
          },
          "yaxis": {
           "automargin": true,
           "gridcolor": "white",
           "linecolor": "white",
           "ticks": "",
           "title": {
            "standoff": 15
           },
           "zerolinecolor": "white",
           "zerolinewidth": 2
          }
         }
        },
        "title": {
         "text": "casos de covid mundo"
        }
       }
      },
      "text/html": [
       "<div>                            <div id=\"02cc40e0-b6fa-4acf-8f69-c091a87ff7a7\" class=\"plotly-graph-div\" style=\"height:525px; width:100%;\"></div>            <script type=\"text/javascript\">                require([\"plotly\"], function(Plotly) {                    window.PLOTLYENV=window.PLOTLYENV || {};                                    if (document.getElementById(\"02cc40e0-b6fa-4acf-8f69-c091a87ff7a7\")) {                    Plotly.newPlot(                        \"02cc40e0-b6fa-4acf-8f69-c091a87ff7a7\",                        [{\"colorbar\": {\"title\": {\"text\": \"casos corona virus\"}}, \"locations\": [\"AFG\", \"ALB\", \"DZA\", \"AND\", \"AGO\", \"AIA\", \"ATG\", \"ARG\", \"ARM\", \"ABW\", \"AUS\", \"AUT\", \"AZE\", \"BHS\", \"BHR\", \"BGD\", \"BRB\", \"BLR\", \"BEL\", \"BLZ\", \"BEN\", \"BMU\", \"BTN\", \"BOL\", \"BIH\", \"BWA\", \"BRA\", \"VGB\", \"BRN\", \"BGR\", \"BFA\", \"BDI\", \"CPV\", \"KHM\", \"CMR\", \"CAN\", \"CAF\", null, \"CYM\", \"TCD\", null, \"CHL\", \"CHN\", \"COL\", \"COM\", \"COD\", \"CRI\", \"HRV\", \"CUB\", \"CUW\", \"CYP\", \"CZE\", \"DNK\", null, \"DJI\", \"DMA\", \"DOM\", null, \"ECU\", \"EGY\", \"SLV\", \"GNQ\", \"ERI\", \"EST\", null, \"ETH\", null, \"FLK\", \"FJI\", \"FIN\", \"FRA\", null, \"PYF\", \"GAB\", \"GMB\", \"GEO\", \"DEU\", \"GHA\", \"GIB\", \"GRC\", \"GRL\", \"GRD\", null, \"GTM\", \"GIN\", \"GNB\", \"GUY\", \"HTI\", \"HND\", \"HKG\", \"HUN\", \"ISL\", \"IND\", \"IDN\", \"IRN\", \"IRQ\", \"IRL\", \"IMN\", \"ISR\", \"ITA\", \"CIV\", \"JAM\", \"JPN\", \"JOR\", \"KAZ\", \"KEN\", \"KWT\", \"KGZ\", \"LAO\", \"LVA\", \"LBN\", \"LSO\", \"LBR\", \"LBY\", \"LIE\", \"LTU\", \"LUX\", null, \"MDG\", \"MWI\", \"MYS\", \"MDV\", \"MLI\", \"MLT\", null, \"MRT\", \"MUS\", \"MYT\", \"MEX\", \"MDA\", \"MCO\", \"MNG\", \"MNE\", \"MSR\", \"MAR\", \"MOZ\", null, \"MMR\", \"NAM\", \"NPL\", \"NLD\", \"NCL\", \"NZL\", \"NIC\", \"NER\", \"NGA\", null, \"NOR\", \"OMN\", \"PAK\", \"PSE\", \"PAN\", \"PNG\", \"PRY\", \"PER\", \"PHL\", \"POL\", \"PRT\", \"QAT\", null, \"ROU\", \"RUS\", \"RWA\", \"KOR\", \"KNA\", \"LCA\", \"MAF\", null, \"SMR\", \"STP\", \"SAU\", \"SEN\", \"SRB\", \"SYC\", \"SLE\", \"SGP\", \"SXM\", \"SVK\", \"SVN\", \"SOM\", \"ZAF\", \"SSD\", \"ESP\", \"LKA\", null, null, \"SDN\", \"SUR\", \"SWE\", \"CHE\", \"SYR\", \"TWN\", \"TJK\", \"TZA\", \"THA\", null, \"TGO\", \"TTO\", \"TUN\", \"TUR\", null, null, \"UGA\", \"GBR\", \"UKR\", \"URY\", \"USA\", \"UZB\", null, \"VEN\", \"VNM\", \"ESH\", \"YEM\", \"ZMB\", \"ZWE\"], \"text\": [\"Afghanistan\", \"Albania\", \"Algeria\", \"Andorra\", \"Angola\", \"Anguilla\", \"Antigua and Barbuda\", \"Argentina\", \"Armenia\", \"Aruba\", \"Australia\", \"Austria\", \"Azerbaijan\", \"Bahamas\", \"Bahrain\", \"Bangladesh\", \"Barbados\", \"Belarus\", \"Belgium\", \"Belize\", \"Benin\", \"Bermuda\", \"Bhutan\", \"Bolivia\", \"Bosnia and Herzegovina\", \"Botswana\", \"Brazil\", \"British Virgin Islands\", \"Brunei\", \"Bulgaria\", \"Burkina Faso\", \"Burundi\", \"Cabo Verde\", \"Cambodia\", \"Cameroon\", \"Canada\", \"CAR\", \"Caribbean Netherlands\", \"Cayman Islands\", \"Chad\", \"Channel Islands\", \"Chile\", \"China\", \"Colombia\", \"Comoros\", \"Congo\", \"Costa Rica\", \"Croatia\", \"Cuba\", \"Cura\\u00e7ao\", \"Cyprus\", \"Czechia\", \"Denmark\", \"Diamond Princess\", \"Djibouti\", \"Dominica\", \"Dominican Republic\", \"DRC\", \"Ecuador\", \"Egypt\", \"El Salvador\", \"Equatorial Guinea\", \"Eritrea\", \"Estonia\", \"Eswatini\", \"Ethiopia\", \"Faeroe Islands\", \"Falkland Islands\", \"Fiji\", \"Finland\", \"France\", \"French Guiana\", \"French Polynesia\", \"Gabon\", \"Gambia\", \"Georgia\", \"Germany\", \"Ghana\", \"Gibraltar\", \"Greece\", \"Greenland\", \"Grenada\", \"Guadeloupe\", \"Guatemala\", \"Guinea\", \"Guinea-Bissau\", \"Guyana\", \"Haiti\", \"Honduras\", \"Hong Kong\", \"Hungary\", \"Iceland\", \"India\", \"Indonesia\", \"Iran\", \"Iraq\", \"Ireland\", \"Isle of Man\", \"Israel\", \"Italy\", \"Ivory Coast\", \"Jamaica\", \"Japan\", \"Jordan\", \"Kazakhstan\", \"Kenya\", \"Kuwait\", \"Kyrgyzstan\", \"Laos\", \"Latvia\", \"Lebanon\", \"Lesotho\", \"Liberia\", \"Libya\", \"Liechtenstein\", \"Lithuania\", \"Luxembourg\", \"Macao\", \"Madagascar\", \"Malawi\", \"Malaysia\", \"Maldives\", \"Mali\", \"Malta\", \"Martinique\", \"Mauritania\", \"Mauritius\", \"Mayotte\", \"Mexico\", \"Moldova\", \"Monaco\", \"Mongolia\", \"Montenegro\", \"Montserrat\", \"Morocco\", \"Mozambique\", \"MS Zaandam\", \"Myanmar\", \"Namibia\", \"Nepal\", \"Netherlands\", \"New Caledonia\", \"New Zealand\", \"Nicaragua\", \"Niger\", \"Nigeria\", \"North Macedonia\", \"Norway\", \"Oman\", \"Pakistan\", \"Palestine\", \"Panama\", \"Papua New Guinea\", \"Paraguay\", \"Peru\", \"Philippines\", \"Poland\", \"Portugal\", \"Qatar\", \"R\\u00e9union\", \"Romania\", \"Russia\", \"Rwanda\", \"S. Korea\", \"Saint Kitts and Nevis\", \"Saint Lucia\", \"Saint Martin\", \"Saint Pierre Miquelon\", \"San Marino\", \"Sao Tome and Principe\", \"Saudi Arabia\", \"Senegal\", \"Serbia\", \"Seychelles\", \"Sierra Leone\", \"Singapore\", \"Sint Maarten\", \"Slovakia\", \"Slovenia\", \"Somalia\", \"South Africa\", \"South Sudan\", \"Spain\", \"Sri Lanka\", \"St. Barth\", \"St. Vincent Grenadines\", \"Sudan\", \"Suriname\", \"Sweden\", \"Switzerland\", \"Syria\", \"Taiwan\", \"Tajikistan\", \"Tanzania\", \"Thailand\", \"Timor-Leste\", \"Togo\", \"Trinidad and Tobago\", \"Tunisia\", \"Turkey\", \"Turks and Caicos\", \"UAE\", \"Uganda\", \"UK\", \"Ukraine\", \"Uruguay\", \"USA\", \"Uzbekistan\", \"Vatican City\", \"Venezuela\", \"Vietnam\", \"Western Sahara\", \"Yemen\", \"Zambia\", \"Zimbabwe\"], \"type\": \"choropleth\", \"z\": [3929, 13965, 5169, 205, 5114, 3, 106, 765002, 51382, 3998, 27109, 46374, 40453, 422, 71374, 366383, 193, 79421, 121059, 2026, 2357, 181, 282, 135716, 27975, 3172, 4849229, 71, 146, 21096, 2088, 510, 6126, 278, 20838, 16232, 4829, 121, 211, 1203, 665, 46659, 85424, 835339, 484, 5089, 76828, 1716, 567, 399, 1789, 74255, 28932, 712, 5417, 31, 112728, 10729, 138584, 103317, 29175, 5045, 381, 3507, 55, 76098, 472, 13, 32, 10244, 577505, 9966, 1852, 8766, 3584, 7093, 297046, 46656, 416, 19346, 14, 24, 5528, 9309, 10652, 2324, 2929, 8781, 77598, 5105, 28631, 2809, 6426789, 295499, 464596, 372259, 36597, 340, 25892, 319908, 19755, 6704, 84215, 1365, 108044, 38923, 106087, 47056, 23, 1945, 40882, 168, 1343, 35717, 120, 4956, 8709, 46, 16493, 5779, 11771, 10354, 3131, 3139, 1543, 7505, 381, 3779, 748315, 55016, 219, 313, 10987, 13, 126044, 8888, 9, 15525, 11373, 8245, 127922, 27, 1848, 517, 1197, 59001, 18363, 14149, 98585, 313431, 40766, 113342, 539, 41799, 818297, 316678, 95773, 77284, 126164, 3993, 132001, 1194643, 4843, 23952, 19, 27, 403, 16, 732, 911, 335578, 15051, 33735, 144, 2238, 57794, 668, 11617, 6103, 3593, 676084, 2704, 778607, 3388, 54, 64, 13653, 4891, 94283, 54384, 4247, 515, 9852, 509, 3575, 28, 1809, 4613, 19721, 32007, 690, 96529, 8491, 467146, 217661, 2061, 7505749, 57454, 12, 76029, 1095, 10, 2039, 1483, 785]}],                        {\"geo\": {\"projection\": {\"type\": \"hammer\"}, \"showframe\": false}, \"template\": {\"data\": {\"bar\": [{\"error_x\": {\"color\": \"#2a3f5f\"}, \"error_y\": {\"color\": \"#2a3f5f\"}, \"marker\": {\"line\": {\"color\": \"#E5ECF6\", \"width\": 0.5}}, \"type\": \"bar\"}], \"barpolar\": [{\"marker\": {\"line\": {\"color\": \"#E5ECF6\", \"width\": 0.5}}, \"type\": \"barpolar\"}], \"carpet\": [{\"aaxis\": {\"endlinecolor\": \"#2a3f5f\", \"gridcolor\": \"white\", \"linecolor\": \"white\", \"minorgridcolor\": \"white\", \"startlinecolor\": \"#2a3f5f\"}, \"baxis\": {\"endlinecolor\": \"#2a3f5f\", \"gridcolor\": \"white\", \"linecolor\": \"white\", \"minorgridcolor\": \"white\", \"startlinecolor\": \"#2a3f5f\"}, \"type\": \"carpet\"}], \"choropleth\": [{\"colorbar\": {\"outlinewidth\": 0, \"ticks\": \"\"}, \"type\": \"choropleth\"}], \"contour\": [{\"colorbar\": {\"outlinewidth\": 0, \"ticks\": \"\"}, \"colorscale\": [[0.0, \"#0d0887\"], [0.1111111111111111, \"#46039f\"], [0.2222222222222222, \"#7201a8\"], [0.3333333333333333, \"#9c179e\"], [0.4444444444444444, \"#bd3786\"], [0.5555555555555556, \"#d8576b\"], [0.6666666666666666, \"#ed7953\"], [0.7777777777777778, \"#fb9f3a\"], [0.8888888888888888, \"#fdca26\"], [1.0, \"#f0f921\"]], \"type\": \"contour\"}], \"contourcarpet\": [{\"colorbar\": {\"outlinewidth\": 0, \"ticks\": \"\"}, \"type\": \"contourcarpet\"}], \"heatmap\": [{\"colorbar\": {\"outlinewidth\": 0, \"ticks\": \"\"}, \"colorscale\": [[0.0, \"#0d0887\"], [0.1111111111111111, \"#46039f\"], [0.2222222222222222, \"#7201a8\"], [0.3333333333333333, \"#9c179e\"], [0.4444444444444444, \"#bd3786\"], [0.5555555555555556, \"#d8576b\"], [0.6666666666666666, \"#ed7953\"], [0.7777777777777778, \"#fb9f3a\"], [0.8888888888888888, \"#fdca26\"], [1.0, \"#f0f921\"]], \"type\": \"heatmap\"}], \"heatmapgl\": [{\"colorbar\": {\"outlinewidth\": 0, \"ticks\": \"\"}, \"colorscale\": [[0.0, \"#0d0887\"], [0.1111111111111111, \"#46039f\"], [0.2222222222222222, \"#7201a8\"], [0.3333333333333333, \"#9c179e\"], [0.4444444444444444, \"#bd3786\"], [0.5555555555555556, \"#d8576b\"], [0.6666666666666666, \"#ed7953\"], [0.7777777777777778, \"#fb9f3a\"], [0.8888888888888888, \"#fdca26\"], [1.0, \"#f0f921\"]], \"type\": \"heatmapgl\"}], \"histogram\": [{\"marker\": {\"colorbar\": {\"outlinewidth\": 0, \"ticks\": \"\"}}, \"type\": \"histogram\"}], \"histogram2d\": [{\"colorbar\": {\"outlinewidth\": 0, \"ticks\": \"\"}, \"colorscale\": [[0.0, \"#0d0887\"], [0.1111111111111111, \"#46039f\"], [0.2222222222222222, \"#7201a8\"], [0.3333333333333333, \"#9c179e\"], [0.4444444444444444, \"#bd3786\"], [0.5555555555555556, \"#d8576b\"], [0.6666666666666666, \"#ed7953\"], [0.7777777777777778, \"#fb9f3a\"], [0.8888888888888888, \"#fdca26\"], [1.0, \"#f0f921\"]], \"type\": \"histogram2d\"}], \"histogram2dcontour\": [{\"colorbar\": {\"outlinewidth\": 0, \"ticks\": \"\"}, \"colorscale\": [[0.0, \"#0d0887\"], [0.1111111111111111, \"#46039f\"], [0.2222222222222222, \"#7201a8\"], [0.3333333333333333, \"#9c179e\"], [0.4444444444444444, \"#bd3786\"], [0.5555555555555556, \"#d8576b\"], [0.6666666666666666, \"#ed7953\"], [0.7777777777777778, \"#fb9f3a\"], [0.8888888888888888, \"#fdca26\"], [1.0, \"#f0f921\"]], \"type\": \"histogram2dcontour\"}], \"mesh3d\": [{\"colorbar\": {\"outlinewidth\": 0, \"ticks\": \"\"}, \"type\": \"mesh3d\"}], \"parcoords\": [{\"line\": {\"colorbar\": {\"outlinewidth\": 0, \"ticks\": \"\"}}, \"type\": \"parcoords\"}], \"pie\": [{\"automargin\": true, \"type\": \"pie\"}], \"scatter\": [{\"marker\": {\"colorbar\": {\"outlinewidth\": 0, \"ticks\": \"\"}}, \"type\": \"scatter\"}], \"scatter3d\": [{\"line\": {\"colorbar\": {\"outlinewidth\": 0, \"ticks\": \"\"}}, \"marker\": {\"colorbar\": {\"outlinewidth\": 0, \"ticks\": \"\"}}, \"type\": \"scatter3d\"}], \"scattercarpet\": [{\"marker\": {\"colorbar\": {\"outlinewidth\": 0, \"ticks\": \"\"}}, \"type\": \"scattercarpet\"}], \"scattergeo\": [{\"marker\": {\"colorbar\": {\"outlinewidth\": 0, \"ticks\": \"\"}}, \"type\": \"scattergeo\"}], \"scattergl\": [{\"marker\": {\"colorbar\": {\"outlinewidth\": 0, \"ticks\": \"\"}}, \"type\": \"scattergl\"}], \"scattermapbox\": [{\"marker\": {\"colorbar\": {\"outlinewidth\": 0, \"ticks\": \"\"}}, \"type\": \"scattermapbox\"}], \"scatterpolar\": [{\"marker\": {\"colorbar\": {\"outlinewidth\": 0, \"ticks\": \"\"}}, \"type\": \"scatterpolar\"}], \"scatterpolargl\": [{\"marker\": {\"colorbar\": {\"outlinewidth\": 0, \"ticks\": \"\"}}, \"type\": \"scatterpolargl\"}], \"scatterternary\": [{\"marker\": {\"colorbar\": {\"outlinewidth\": 0, \"ticks\": \"\"}}, \"type\": \"scatterternary\"}], \"surface\": [{\"colorbar\": {\"outlinewidth\": 0, \"ticks\": \"\"}, \"colorscale\": [[0.0, \"#0d0887\"], [0.1111111111111111, \"#46039f\"], [0.2222222222222222, \"#7201a8\"], [0.3333333333333333, \"#9c179e\"], [0.4444444444444444, \"#bd3786\"], [0.5555555555555556, \"#d8576b\"], [0.6666666666666666, \"#ed7953\"], [0.7777777777777778, \"#fb9f3a\"], [0.8888888888888888, \"#fdca26\"], [1.0, \"#f0f921\"]], \"type\": \"surface\"}], \"table\": [{\"cells\": {\"fill\": {\"color\": \"#EBF0F8\"}, \"line\": {\"color\": \"white\"}}, \"header\": {\"fill\": {\"color\": \"#C8D4E3\"}, \"line\": {\"color\": \"white\"}}, \"type\": \"table\"}]}, \"layout\": {\"annotationdefaults\": {\"arrowcolor\": \"#2a3f5f\", \"arrowhead\": 0, \"arrowwidth\": 1}, \"coloraxis\": {\"colorbar\": {\"outlinewidth\": 0, \"ticks\": \"\"}}, \"colorscale\": {\"diverging\": [[0, \"#8e0152\"], [0.1, \"#c51b7d\"], [0.2, \"#de77ae\"], [0.3, \"#f1b6da\"], [0.4, \"#fde0ef\"], [0.5, \"#f7f7f7\"], [0.6, \"#e6f5d0\"], [0.7, \"#b8e186\"], [0.8, \"#7fbc41\"], [0.9, \"#4d9221\"], [1, \"#276419\"]], \"sequential\": [[0.0, \"#0d0887\"], [0.1111111111111111, \"#46039f\"], [0.2222222222222222, \"#7201a8\"], [0.3333333333333333, \"#9c179e\"], [0.4444444444444444, \"#bd3786\"], [0.5555555555555556, \"#d8576b\"], [0.6666666666666666, \"#ed7953\"], [0.7777777777777778, \"#fb9f3a\"], [0.8888888888888888, \"#fdca26\"], [1.0, \"#f0f921\"]], \"sequentialminus\": [[0.0, \"#0d0887\"], [0.1111111111111111, \"#46039f\"], [0.2222222222222222, \"#7201a8\"], [0.3333333333333333, \"#9c179e\"], [0.4444444444444444, \"#bd3786\"], [0.5555555555555556, \"#d8576b\"], [0.6666666666666666, \"#ed7953\"], [0.7777777777777778, \"#fb9f3a\"], [0.8888888888888888, \"#fdca26\"], [1.0, \"#f0f921\"]]}, \"colorway\": [\"#636efa\", \"#EF553B\", \"#00cc96\", \"#ab63fa\", \"#FFA15A\", \"#19d3f3\", \"#FF6692\", \"#B6E880\", \"#FF97FF\", \"#FECB52\"], \"font\": {\"color\": \"#2a3f5f\"}, \"geo\": {\"bgcolor\": \"white\", \"lakecolor\": \"white\", \"landcolor\": \"#E5ECF6\", \"showlakes\": true, \"showland\": true, \"subunitcolor\": \"white\"}, \"hoverlabel\": {\"align\": \"left\"}, \"hovermode\": \"closest\", \"mapbox\": {\"style\": \"light\"}, \"paper_bgcolor\": \"white\", \"plot_bgcolor\": \"#E5ECF6\", \"polar\": {\"angularaxis\": {\"gridcolor\": \"white\", \"linecolor\": \"white\", \"ticks\": \"\"}, \"bgcolor\": \"#E5ECF6\", \"radialaxis\": {\"gridcolor\": \"white\", \"linecolor\": \"white\", \"ticks\": \"\"}}, \"scene\": {\"xaxis\": {\"backgroundcolor\": \"#E5ECF6\", \"gridcolor\": \"white\", \"gridwidth\": 2, \"linecolor\": \"white\", \"showbackground\": true, \"ticks\": \"\", \"zerolinecolor\": \"white\"}, \"yaxis\": {\"backgroundcolor\": \"#E5ECF6\", \"gridcolor\": \"white\", \"gridwidth\": 2, \"linecolor\": \"white\", \"showbackground\": true, \"ticks\": \"\", \"zerolinecolor\": \"white\"}, \"zaxis\": {\"backgroundcolor\": \"#E5ECF6\", \"gridcolor\": \"white\", \"gridwidth\": 2, \"linecolor\": \"white\", \"showbackground\": true, \"ticks\": \"\", \"zerolinecolor\": \"white\"}}, \"shapedefaults\": {\"line\": {\"color\": \"#2a3f5f\"}}, \"ternary\": {\"aaxis\": {\"gridcolor\": \"white\", \"linecolor\": \"white\", \"ticks\": \"\"}, \"baxis\": {\"gridcolor\": \"white\", \"linecolor\": \"white\", \"ticks\": \"\"}, \"bgcolor\": \"#E5ECF6\", \"caxis\": {\"gridcolor\": \"white\", \"linecolor\": \"white\", \"ticks\": \"\"}}, \"title\": {\"x\": 0.05}, \"xaxis\": {\"automargin\": true, \"gridcolor\": \"white\", \"linecolor\": \"white\", \"ticks\": \"\", \"title\": {\"standoff\": 15}, \"zerolinecolor\": \"white\", \"zerolinewidth\": 2}, \"yaxis\": {\"automargin\": true, \"gridcolor\": \"white\", \"linecolor\": \"white\", \"ticks\": \"\", \"title\": {\"standoff\": 15}, \"zerolinecolor\": \"white\", \"zerolinewidth\": 2}}}, \"title\": {\"text\": \"casos de covid mundo\"}},                        {\"responsive\": true}                    ).then(function(){\n",
       "                            \n",
       "var gd = document.getElementById('02cc40e0-b6fa-4acf-8f69-c091a87ff7a7');\n",
       "var x = new MutationObserver(function (mutations, observer) {{\n",
       "        var display = window.getComputedStyle(gd).display;\n",
       "        if (!display || display === 'none') {{\n",
       "            console.log([gd, 'removed!']);\n",
       "            Plotly.purge(gd);\n",
       "            observer.disconnect();\n",
       "        }}\n",
       "}});\n",
       "\n",
       "// Listen for the removal of the full notebook cells\n",
       "var notebookContainer = gd.closest('#notebook-container');\n",
       "if (notebookContainer) {{\n",
       "    x.observe(notebookContainer, {childList: true});\n",
       "}}\n",
       "\n",
       "// Listen for the clearing of the current output cell\n",
       "var outputEl = gd.closest('.output');\n",
       "if (outputEl) {{\n",
       "    x.observe(outputEl, {childList: true});\n",
       "}}\n",
       "\n",
       "                        })                };                });            </script>        </div>"
      ]
     },
     "metadata": {},
     "output_type": "display_data"
    }
   ],
   "source": [
    "data = dict(\n",
    "        type = 'choropleth',\n",
    "        locations = casosCoronaMundo['code'],\n",
    "        z = casosCoronaMundo['total de casos'],\n",
    "        text = casosCoronaMundo['pais'],\n",
    "        colorbar = {'title' : 'casos corona virus'},\n",
    "      ) \n",
    "layout = dict(\n",
    "    title = 'casos de covid mundo',\n",
    "    geo = dict(\n",
    "        showframe = False,\n",
    "        projection = {'type':'hammer'}\n",
    "    )\n",
    ")\n",
    "choromap = go.Figure(data = [data],layout = layout)\n",
    "iplot(choromap)"
   ]
  },
  {
   "cell_type": "code",
   "execution_count": 19,
   "metadata": {},
   "outputs": [
    {
     "data": {
      "application/vnd.plotly.v1+json": {
       "config": {
        "linkText": "Export to plot.ly",
        "plotlyServerURL": "https://plot.ly",
        "showLink": false
       },
       "data": [
        {
         "colorbar": {
          "title": {
           "text": "mortos por corona"
          }
         },
         "locations": [
          "AFG",
          "ALB",
          "DZA",
          "AND",
          "AGO",
          "AIA",
          "ATG",
          "ARG",
          "ARM",
          "ABW",
          "AUS",
          "AUT",
          "AZE",
          "BHS",
          "BHR",
          "BGD",
          "BRB",
          "BLR",
          "BEL",
          "BLZ",
          "BEN",
          "BMU",
          "BTN",
          "BOL",
          "BIH",
          "BWA",
          "BRA",
          "VGB",
          "BRN",
          "BGR",
          "BFA",
          "BDI",
          "CPV",
          "KHM",
          "CMR",
          "CAN",
          "CAF",
          null,
          "CYM",
          "TCD",
          null,
          "CHL",
          "CHN",
          "COL",
          "COM",
          "COD",
          "CRI",
          "HRV",
          "CUB",
          "CUW",
          "CYP",
          "CZE",
          "DNK",
          null,
          "DJI",
          "DMA",
          "DOM",
          null,
          "ECU",
          "EGY",
          "SLV",
          "GNQ",
          "ERI",
          "EST",
          null,
          "ETH",
          null,
          "FLK",
          "FJI",
          "FIN",
          "FRA",
          null,
          "PYF",
          "GAB",
          "GMB",
          "GEO",
          "DEU",
          "GHA",
          "GIB",
          "GRC",
          "GRL",
          "GRD",
          null,
          "GTM",
          "GIN",
          "GNB",
          "GUY",
          "HTI",
          "HND",
          "HKG",
          "HUN",
          "ISL",
          "IND",
          "IDN",
          "IRN",
          "IRQ",
          "IRL",
          "IMN",
          "ISR",
          "ITA",
          "CIV",
          "JAM",
          "JPN",
          "JOR",
          "KAZ",
          "KEN",
          "KWT",
          "KGZ",
          "LAO",
          "LVA",
          "LBN",
          "LSO",
          "LBR",
          "LBY",
          "LIE",
          "LTU",
          "LUX",
          null,
          "MDG",
          "MWI",
          "MYS",
          "MDV",
          "MLI",
          "MLT",
          null,
          "MRT",
          "MUS",
          "MYT",
          "MEX",
          "MDA",
          "MCO",
          "MNG",
          "MNE",
          "MSR",
          "MAR",
          "MOZ",
          null,
          "MMR",
          "NAM",
          "NPL",
          "NLD",
          "NCL",
          "NZL",
          "NIC",
          "NER",
          "NGA",
          null,
          "NOR",
          "OMN",
          "PAK",
          "PSE",
          "PAN",
          "PNG",
          "PRY",
          "PER",
          "PHL",
          "POL",
          "PRT",
          "QAT",
          null,
          "ROU",
          "RUS",
          "RWA",
          "KOR",
          "KNA",
          "LCA",
          "MAF",
          null,
          "SMR",
          "STP",
          "SAU",
          "SEN",
          "SRB",
          "SYC",
          "SLE",
          "SGP",
          "SXM",
          "SVK",
          "SVN",
          "SOM",
          "ZAF",
          "SSD",
          "ESP",
          "LKA",
          null,
          null,
          "SDN",
          "SUR",
          "SWE",
          "CHE",
          "SYR",
          "TWN",
          "TJK",
          "TZA",
          "THA",
          null,
          "TGO",
          "TTO",
          "TUN",
          "TUR",
          null,
          null,
          "UGA",
          "GBR",
          "UKR",
          "URY",
          "USA",
          "UZB",
          null,
          "VEN",
          "VNM",
          "ESH",
          "YEM",
          "ZMB",
          "ZWE"
         ],
         "text": [
          "Afghanistan",
          "Albania",
          "Algeria",
          "Andorra",
          "Angola",
          "Anguilla",
          "Antigua and Barbuda",
          "Argentina",
          "Armenia",
          "Aruba",
          "Australia",
          "Austria",
          "Azerbaijan",
          "Bahamas",
          "Bahrain",
          "Bangladesh",
          "Barbados",
          "Belarus",
          "Belgium",
          "Belize",
          "Benin",
          "Bermuda",
          "Bhutan",
          "Bolivia",
          "Bosnia and Herzegovina",
          "Botswana",
          "Brazil",
          "British Virgin Islands",
          "Brunei",
          "Bulgaria",
          "Burkina Faso",
          "Burundi",
          "Cabo Verde",
          "Cambodia",
          "Cameroon",
          "Canada",
          "CAR",
          "Caribbean Netherlands",
          "Cayman Islands",
          "Chad",
          "Channel Islands",
          "Chile",
          "China",
          "Colombia",
          "Comoros",
          "Congo",
          "Costa Rica",
          "Croatia",
          "Cuba",
          "Curaçao",
          "Cyprus",
          "Czechia",
          "Denmark",
          "Diamond Princess",
          "Djibouti",
          "Dominica",
          "Dominican Republic",
          "DRC",
          "Ecuador",
          "Egypt",
          "El Salvador",
          "Equatorial Guinea",
          "Eritrea",
          "Estonia",
          "Eswatini",
          "Ethiopia",
          "Faeroe Islands",
          "Falkland Islands",
          "Fiji",
          "Finland",
          "France",
          "French Guiana",
          "French Polynesia",
          "Gabon",
          "Gambia",
          "Georgia",
          "Germany",
          "Ghana",
          "Gibraltar",
          "Greece",
          "Greenland",
          "Grenada",
          "Guadeloupe",
          "Guatemala",
          "Guinea",
          "Guinea-Bissau",
          "Guyana",
          "Haiti",
          "Honduras",
          "Hong Kong",
          "Hungary",
          "Iceland",
          "India",
          "Indonesia",
          "Iran",
          "Iraq",
          "Ireland",
          "Isle of Man",
          "Israel",
          "Italy",
          "Ivory Coast",
          "Jamaica",
          "Japan",
          "Jordan",
          "Kazakhstan",
          "Kenya",
          "Kuwait",
          "Kyrgyzstan",
          "Laos",
          "Latvia",
          "Lebanon",
          "Lesotho",
          "Liberia",
          "Libya",
          "Liechtenstein",
          "Lithuania",
          "Luxembourg",
          "Macao",
          "Madagascar",
          "Malawi",
          "Malaysia",
          "Maldives",
          "Mali",
          "Malta",
          "Martinique",
          "Mauritania",
          "Mauritius",
          "Mayotte",
          "Mexico",
          "Moldova",
          "Monaco",
          "Mongolia",
          "Montenegro",
          "Montserrat",
          "Morocco",
          "Mozambique",
          "MS Zaandam",
          "Myanmar",
          "Namibia",
          "Nepal",
          "Netherlands",
          "New Caledonia",
          "New Zealand",
          "Nicaragua",
          "Niger",
          "Nigeria",
          "North Macedonia",
          "Norway",
          "Oman",
          "Pakistan",
          "Palestine",
          "Panama",
          "Papua New Guinea",
          "Paraguay",
          "Peru",
          "Philippines",
          "Poland",
          "Portugal",
          "Qatar",
          "Réunion",
          "Romania",
          "Russia",
          "Rwanda",
          "S. Korea",
          "Saint Kitts and Nevis",
          "Saint Lucia",
          "Saint Martin",
          "Saint Pierre Miquelon",
          "San Marino",
          "Sao Tome and Principe",
          "Saudi Arabia",
          "Senegal",
          "Serbia",
          "Seychelles",
          "Sierra Leone",
          "Singapore",
          "Sint Maarten",
          "Slovakia",
          "Slovenia",
          "Somalia",
          "South Africa",
          "South Sudan",
          "Spain",
          "Sri Lanka",
          "St. Barth",
          "St. Vincent Grenadines",
          "Sudan",
          "Suriname",
          "Sweden",
          "Switzerland",
          "Syria",
          "Taiwan",
          "Tajikistan",
          "Tanzania",
          "Thailand",
          "Timor-Leste",
          "Togo",
          "Trinidad and Tobago",
          "Tunisia",
          "Turkey",
          "Turks and Caicos",
          "UAE",
          "Uganda",
          "UK",
          "Ukraine",
          "Uruguay",
          "USA",
          "Uzbekistan",
          "Vatican City",
          "Venezuela",
          "Vietnam",
          "Western Sahara",
          "Yemen",
          "Zambia",
          "Zimbabwe"
         ],
         "type": "choropleth",
         "z": [
          1458,
          389,
          1741,
          53,
          185,
          null,
          3,
          20288,
          966,
          27,
          890,
          803,
          594,
          96,
          255,
          5305,
          7,
          844,
          10023,
          27,
          41,
          9,
          null,
          8001,
          871,
          16,
          144767,
          1,
          3,
          832,
          58,
          1,
          61,
          null,
          418,
          9402,
          62,
          1,
          1,
          85,
          48,
          12867,
          4634,
          26196,
          7,
          89,
          917,
          291,
          122,
          1,
          22,
          678,
          652,
          13,
          61,
          null,
          2108,
          272,
          11433,
          5946,
          848,
          83,
          null,
          66,
          111,
          1205,
          null,
          null,
          2,
          345,
          32019,
          67,
          7,
          54,
          113,
          46,
          959,
          301,
          null,
          398,
          null,
          null,
          57,
          3267,
          66,
          39,
          82,
          229,
          238,
          105,
          798,
          10,
          100148,
          10972,
          26567,
          9298,
          1806,
          24,
          1633,
          35941,
          120,
          116,
          1578,
          79,
          1725,
          725,
          615,
          1065,
          null,
          38,
          374,
          39,
          82,
          570,
          1,
          93,
          125,
          null,
          232,
          179,
          136,
          34,
          131,
          37,
          21,
          161,
          10,
          42,
          78078,
          1344,
          2,
          null,
          170,
          1,
          2229,
          62,
          2,
          353,
          123,
          520,
          6428,
          null,
          25,
          151,
          69,
          1112,
          749,
          274,
          935,
          6499,
          321,
          2387,
          7,
          869,
          32535,
          5616,
          257,
          1983,
          215,
          16,
          4915,
          21077,
          29,
          416,
          null,
          null,
          8,
          null,
          42,
          15,
          4823,
          312,
          751,
          null,
          72,
          27,
          22,
          54,
          154,
          99,
          16866,
          49,
          31973,
          13,
          null,
          null,
          836,
          105,
          5895,
          2075,
          202,
          7,
          77,
          21,
          59,
          null,
          48,
          76,
          271,
          8262,
          6,
          424,
          79,
          42268,
          4261,
          48,
          212883,
          472,
          null,
          635,
          35,
          1,
          587,
          333,
          228
         ]
        }
       ],
       "layout": {
        "geo": {
         "projection": {
          "type": "hammer"
         },
         "showframe": false
        },
        "template": {
         "data": {
          "bar": [
           {
            "error_x": {
             "color": "#2a3f5f"
            },
            "error_y": {
             "color": "#2a3f5f"
            },
            "marker": {
             "line": {
              "color": "#E5ECF6",
              "width": 0.5
             }
            },
            "type": "bar"
           }
          ],
          "barpolar": [
           {
            "marker": {
             "line": {
              "color": "#E5ECF6",
              "width": 0.5
             }
            },
            "type": "barpolar"
           }
          ],
          "carpet": [
           {
            "aaxis": {
             "endlinecolor": "#2a3f5f",
             "gridcolor": "white",
             "linecolor": "white",
             "minorgridcolor": "white",
             "startlinecolor": "#2a3f5f"
            },
            "baxis": {
             "endlinecolor": "#2a3f5f",
             "gridcolor": "white",
             "linecolor": "white",
             "minorgridcolor": "white",
             "startlinecolor": "#2a3f5f"
            },
            "type": "carpet"
           }
          ],
          "choropleth": [
           {
            "colorbar": {
             "outlinewidth": 0,
             "ticks": ""
            },
            "type": "choropleth"
           }
          ],
          "contour": [
           {
            "colorbar": {
             "outlinewidth": 0,
             "ticks": ""
            },
            "colorscale": [
             [
              0,
              "#0d0887"
             ],
             [
              0.1111111111111111,
              "#46039f"
             ],
             [
              0.2222222222222222,
              "#7201a8"
             ],
             [
              0.3333333333333333,
              "#9c179e"
             ],
             [
              0.4444444444444444,
              "#bd3786"
             ],
             [
              0.5555555555555556,
              "#d8576b"
             ],
             [
              0.6666666666666666,
              "#ed7953"
             ],
             [
              0.7777777777777778,
              "#fb9f3a"
             ],
             [
              0.8888888888888888,
              "#fdca26"
             ],
             [
              1,
              "#f0f921"
             ]
            ],
            "type": "contour"
           }
          ],
          "contourcarpet": [
           {
            "colorbar": {
             "outlinewidth": 0,
             "ticks": ""
            },
            "type": "contourcarpet"
           }
          ],
          "heatmap": [
           {
            "colorbar": {
             "outlinewidth": 0,
             "ticks": ""
            },
            "colorscale": [
             [
              0,
              "#0d0887"
             ],
             [
              0.1111111111111111,
              "#46039f"
             ],
             [
              0.2222222222222222,
              "#7201a8"
             ],
             [
              0.3333333333333333,
              "#9c179e"
             ],
             [
              0.4444444444444444,
              "#bd3786"
             ],
             [
              0.5555555555555556,
              "#d8576b"
             ],
             [
              0.6666666666666666,
              "#ed7953"
             ],
             [
              0.7777777777777778,
              "#fb9f3a"
             ],
             [
              0.8888888888888888,
              "#fdca26"
             ],
             [
              1,
              "#f0f921"
             ]
            ],
            "type": "heatmap"
           }
          ],
          "heatmapgl": [
           {
            "colorbar": {
             "outlinewidth": 0,
             "ticks": ""
            },
            "colorscale": [
             [
              0,
              "#0d0887"
             ],
             [
              0.1111111111111111,
              "#46039f"
             ],
             [
              0.2222222222222222,
              "#7201a8"
             ],
             [
              0.3333333333333333,
              "#9c179e"
             ],
             [
              0.4444444444444444,
              "#bd3786"
             ],
             [
              0.5555555555555556,
              "#d8576b"
             ],
             [
              0.6666666666666666,
              "#ed7953"
             ],
             [
              0.7777777777777778,
              "#fb9f3a"
             ],
             [
              0.8888888888888888,
              "#fdca26"
             ],
             [
              1,
              "#f0f921"
             ]
            ],
            "type": "heatmapgl"
           }
          ],
          "histogram": [
           {
            "marker": {
             "colorbar": {
              "outlinewidth": 0,
              "ticks": ""
             }
            },
            "type": "histogram"
           }
          ],
          "histogram2d": [
           {
            "colorbar": {
             "outlinewidth": 0,
             "ticks": ""
            },
            "colorscale": [
             [
              0,
              "#0d0887"
             ],
             [
              0.1111111111111111,
              "#46039f"
             ],
             [
              0.2222222222222222,
              "#7201a8"
             ],
             [
              0.3333333333333333,
              "#9c179e"
             ],
             [
              0.4444444444444444,
              "#bd3786"
             ],
             [
              0.5555555555555556,
              "#d8576b"
             ],
             [
              0.6666666666666666,
              "#ed7953"
             ],
             [
              0.7777777777777778,
              "#fb9f3a"
             ],
             [
              0.8888888888888888,
              "#fdca26"
             ],
             [
              1,
              "#f0f921"
             ]
            ],
            "type": "histogram2d"
           }
          ],
          "histogram2dcontour": [
           {
            "colorbar": {
             "outlinewidth": 0,
             "ticks": ""
            },
            "colorscale": [
             [
              0,
              "#0d0887"
             ],
             [
              0.1111111111111111,
              "#46039f"
             ],
             [
              0.2222222222222222,
              "#7201a8"
             ],
             [
              0.3333333333333333,
              "#9c179e"
             ],
             [
              0.4444444444444444,
              "#bd3786"
             ],
             [
              0.5555555555555556,
              "#d8576b"
             ],
             [
              0.6666666666666666,
              "#ed7953"
             ],
             [
              0.7777777777777778,
              "#fb9f3a"
             ],
             [
              0.8888888888888888,
              "#fdca26"
             ],
             [
              1,
              "#f0f921"
             ]
            ],
            "type": "histogram2dcontour"
           }
          ],
          "mesh3d": [
           {
            "colorbar": {
             "outlinewidth": 0,
             "ticks": ""
            },
            "type": "mesh3d"
           }
          ],
          "parcoords": [
           {
            "line": {
             "colorbar": {
              "outlinewidth": 0,
              "ticks": ""
             }
            },
            "type": "parcoords"
           }
          ],
          "pie": [
           {
            "automargin": true,
            "type": "pie"
           }
          ],
          "scatter": [
           {
            "marker": {
             "colorbar": {
              "outlinewidth": 0,
              "ticks": ""
             }
            },
            "type": "scatter"
           }
          ],
          "scatter3d": [
           {
            "line": {
             "colorbar": {
              "outlinewidth": 0,
              "ticks": ""
             }
            },
            "marker": {
             "colorbar": {
              "outlinewidth": 0,
              "ticks": ""
             }
            },
            "type": "scatter3d"
           }
          ],
          "scattercarpet": [
           {
            "marker": {
             "colorbar": {
              "outlinewidth": 0,
              "ticks": ""
             }
            },
            "type": "scattercarpet"
           }
          ],
          "scattergeo": [
           {
            "marker": {
             "colorbar": {
              "outlinewidth": 0,
              "ticks": ""
             }
            },
            "type": "scattergeo"
           }
          ],
          "scattergl": [
           {
            "marker": {
             "colorbar": {
              "outlinewidth": 0,
              "ticks": ""
             }
            },
            "type": "scattergl"
           }
          ],
          "scattermapbox": [
           {
            "marker": {
             "colorbar": {
              "outlinewidth": 0,
              "ticks": ""
             }
            },
            "type": "scattermapbox"
           }
          ],
          "scatterpolar": [
           {
            "marker": {
             "colorbar": {
              "outlinewidth": 0,
              "ticks": ""
             }
            },
            "type": "scatterpolar"
           }
          ],
          "scatterpolargl": [
           {
            "marker": {
             "colorbar": {
              "outlinewidth": 0,
              "ticks": ""
             }
            },
            "type": "scatterpolargl"
           }
          ],
          "scatterternary": [
           {
            "marker": {
             "colorbar": {
              "outlinewidth": 0,
              "ticks": ""
             }
            },
            "type": "scatterternary"
           }
          ],
          "surface": [
           {
            "colorbar": {
             "outlinewidth": 0,
             "ticks": ""
            },
            "colorscale": [
             [
              0,
              "#0d0887"
             ],
             [
              0.1111111111111111,
              "#46039f"
             ],
             [
              0.2222222222222222,
              "#7201a8"
             ],
             [
              0.3333333333333333,
              "#9c179e"
             ],
             [
              0.4444444444444444,
              "#bd3786"
             ],
             [
              0.5555555555555556,
              "#d8576b"
             ],
             [
              0.6666666666666666,
              "#ed7953"
             ],
             [
              0.7777777777777778,
              "#fb9f3a"
             ],
             [
              0.8888888888888888,
              "#fdca26"
             ],
             [
              1,
              "#f0f921"
             ]
            ],
            "type": "surface"
           }
          ],
          "table": [
           {
            "cells": {
             "fill": {
              "color": "#EBF0F8"
             },
             "line": {
              "color": "white"
             }
            },
            "header": {
             "fill": {
              "color": "#C8D4E3"
             },
             "line": {
              "color": "white"
             }
            },
            "type": "table"
           }
          ]
         },
         "layout": {
          "annotationdefaults": {
           "arrowcolor": "#2a3f5f",
           "arrowhead": 0,
           "arrowwidth": 1
          },
          "coloraxis": {
           "colorbar": {
            "outlinewidth": 0,
            "ticks": ""
           }
          },
          "colorscale": {
           "diverging": [
            [
             0,
             "#8e0152"
            ],
            [
             0.1,
             "#c51b7d"
            ],
            [
             0.2,
             "#de77ae"
            ],
            [
             0.3,
             "#f1b6da"
            ],
            [
             0.4,
             "#fde0ef"
            ],
            [
             0.5,
             "#f7f7f7"
            ],
            [
             0.6,
             "#e6f5d0"
            ],
            [
             0.7,
             "#b8e186"
            ],
            [
             0.8,
             "#7fbc41"
            ],
            [
             0.9,
             "#4d9221"
            ],
            [
             1,
             "#276419"
            ]
           ],
           "sequential": [
            [
             0,
             "#0d0887"
            ],
            [
             0.1111111111111111,
             "#46039f"
            ],
            [
             0.2222222222222222,
             "#7201a8"
            ],
            [
             0.3333333333333333,
             "#9c179e"
            ],
            [
             0.4444444444444444,
             "#bd3786"
            ],
            [
             0.5555555555555556,
             "#d8576b"
            ],
            [
             0.6666666666666666,
             "#ed7953"
            ],
            [
             0.7777777777777778,
             "#fb9f3a"
            ],
            [
             0.8888888888888888,
             "#fdca26"
            ],
            [
             1,
             "#f0f921"
            ]
           ],
           "sequentialminus": [
            [
             0,
             "#0d0887"
            ],
            [
             0.1111111111111111,
             "#46039f"
            ],
            [
             0.2222222222222222,
             "#7201a8"
            ],
            [
             0.3333333333333333,
             "#9c179e"
            ],
            [
             0.4444444444444444,
             "#bd3786"
            ],
            [
             0.5555555555555556,
             "#d8576b"
            ],
            [
             0.6666666666666666,
             "#ed7953"
            ],
            [
             0.7777777777777778,
             "#fb9f3a"
            ],
            [
             0.8888888888888888,
             "#fdca26"
            ],
            [
             1,
             "#f0f921"
            ]
           ]
          },
          "colorway": [
           "#636efa",
           "#EF553B",
           "#00cc96",
           "#ab63fa",
           "#FFA15A",
           "#19d3f3",
           "#FF6692",
           "#B6E880",
           "#FF97FF",
           "#FECB52"
          ],
          "font": {
           "color": "#2a3f5f"
          },
          "geo": {
           "bgcolor": "white",
           "lakecolor": "white",
           "landcolor": "#E5ECF6",
           "showlakes": true,
           "showland": true,
           "subunitcolor": "white"
          },
          "hoverlabel": {
           "align": "left"
          },
          "hovermode": "closest",
          "mapbox": {
           "style": "light"
          },
          "paper_bgcolor": "white",
          "plot_bgcolor": "#E5ECF6",
          "polar": {
           "angularaxis": {
            "gridcolor": "white",
            "linecolor": "white",
            "ticks": ""
           },
           "bgcolor": "#E5ECF6",
           "radialaxis": {
            "gridcolor": "white",
            "linecolor": "white",
            "ticks": ""
           }
          },
          "scene": {
           "xaxis": {
            "backgroundcolor": "#E5ECF6",
            "gridcolor": "white",
            "gridwidth": 2,
            "linecolor": "white",
            "showbackground": true,
            "ticks": "",
            "zerolinecolor": "white"
           },
           "yaxis": {
            "backgroundcolor": "#E5ECF6",
            "gridcolor": "white",
            "gridwidth": 2,
            "linecolor": "white",
            "showbackground": true,
            "ticks": "",
            "zerolinecolor": "white"
           },
           "zaxis": {
            "backgroundcolor": "#E5ECF6",
            "gridcolor": "white",
            "gridwidth": 2,
            "linecolor": "white",
            "showbackground": true,
            "ticks": "",
            "zerolinecolor": "white"
           }
          },
          "shapedefaults": {
           "line": {
            "color": "#2a3f5f"
           }
          },
          "ternary": {
           "aaxis": {
            "gridcolor": "white",
            "linecolor": "white",
            "ticks": ""
           },
           "baxis": {
            "gridcolor": "white",
            "linecolor": "white",
            "ticks": ""
           },
           "bgcolor": "#E5ECF6",
           "caxis": {
            "gridcolor": "white",
            "linecolor": "white",
            "ticks": ""
           }
          },
          "title": {
           "x": 0.05
          },
          "xaxis": {
           "automargin": true,
           "gridcolor": "white",
           "linecolor": "white",
           "ticks": "",
           "title": {
            "standoff": 15
           },
           "zerolinecolor": "white",
           "zerolinewidth": 2
          },
          "yaxis": {
           "automargin": true,
           "gridcolor": "white",
           "linecolor": "white",
           "ticks": "",
           "title": {
            "standoff": 15
           },
           "zerolinecolor": "white",
           "zerolinewidth": 2
          }
         }
        },
        "title": {
         "text": "Óbitos corona pelo mundo"
        }
       }
      },
      "text/html": [
       "<div>                            <div id=\"ddc84c85-87c4-457f-8e7d-434d271da09b\" class=\"plotly-graph-div\" style=\"height:525px; width:100%;\"></div>            <script type=\"text/javascript\">                require([\"plotly\"], function(Plotly) {                    window.PLOTLYENV=window.PLOTLYENV || {};                                    if (document.getElementById(\"ddc84c85-87c4-457f-8e7d-434d271da09b\")) {                    Plotly.newPlot(                        \"ddc84c85-87c4-457f-8e7d-434d271da09b\",                        [{\"colorbar\": {\"title\": {\"text\": \"mortos por corona\"}}, \"locations\": [\"AFG\", \"ALB\", \"DZA\", \"AND\", \"AGO\", \"AIA\", \"ATG\", \"ARG\", \"ARM\", \"ABW\", \"AUS\", \"AUT\", \"AZE\", \"BHS\", \"BHR\", \"BGD\", \"BRB\", \"BLR\", \"BEL\", \"BLZ\", \"BEN\", \"BMU\", \"BTN\", \"BOL\", \"BIH\", \"BWA\", \"BRA\", \"VGB\", \"BRN\", \"BGR\", \"BFA\", \"BDI\", \"CPV\", \"KHM\", \"CMR\", \"CAN\", \"CAF\", null, \"CYM\", \"TCD\", null, \"CHL\", \"CHN\", \"COL\", \"COM\", \"COD\", \"CRI\", \"HRV\", \"CUB\", \"CUW\", \"CYP\", \"CZE\", \"DNK\", null, \"DJI\", \"DMA\", \"DOM\", null, \"ECU\", \"EGY\", \"SLV\", \"GNQ\", \"ERI\", \"EST\", null, \"ETH\", null, \"FLK\", \"FJI\", \"FIN\", \"FRA\", null, \"PYF\", \"GAB\", \"GMB\", \"GEO\", \"DEU\", \"GHA\", \"GIB\", \"GRC\", \"GRL\", \"GRD\", null, \"GTM\", \"GIN\", \"GNB\", \"GUY\", \"HTI\", \"HND\", \"HKG\", \"HUN\", \"ISL\", \"IND\", \"IDN\", \"IRN\", \"IRQ\", \"IRL\", \"IMN\", \"ISR\", \"ITA\", \"CIV\", \"JAM\", \"JPN\", \"JOR\", \"KAZ\", \"KEN\", \"KWT\", \"KGZ\", \"LAO\", \"LVA\", \"LBN\", \"LSO\", \"LBR\", \"LBY\", \"LIE\", \"LTU\", \"LUX\", null, \"MDG\", \"MWI\", \"MYS\", \"MDV\", \"MLI\", \"MLT\", null, \"MRT\", \"MUS\", \"MYT\", \"MEX\", \"MDA\", \"MCO\", \"MNG\", \"MNE\", \"MSR\", \"MAR\", \"MOZ\", null, \"MMR\", \"NAM\", \"NPL\", \"NLD\", \"NCL\", \"NZL\", \"NIC\", \"NER\", \"NGA\", null, \"NOR\", \"OMN\", \"PAK\", \"PSE\", \"PAN\", \"PNG\", \"PRY\", \"PER\", \"PHL\", \"POL\", \"PRT\", \"QAT\", null, \"ROU\", \"RUS\", \"RWA\", \"KOR\", \"KNA\", \"LCA\", \"MAF\", null, \"SMR\", \"STP\", \"SAU\", \"SEN\", \"SRB\", \"SYC\", \"SLE\", \"SGP\", \"SXM\", \"SVK\", \"SVN\", \"SOM\", \"ZAF\", \"SSD\", \"ESP\", \"LKA\", null, null, \"SDN\", \"SUR\", \"SWE\", \"CHE\", \"SYR\", \"TWN\", \"TJK\", \"TZA\", \"THA\", null, \"TGO\", \"TTO\", \"TUN\", \"TUR\", null, null, \"UGA\", \"GBR\", \"UKR\", \"URY\", \"USA\", \"UZB\", null, \"VEN\", \"VNM\", \"ESH\", \"YEM\", \"ZMB\", \"ZWE\"], \"text\": [\"Afghanistan\", \"Albania\", \"Algeria\", \"Andorra\", \"Angola\", \"Anguilla\", \"Antigua and Barbuda\", \"Argentina\", \"Armenia\", \"Aruba\", \"Australia\", \"Austria\", \"Azerbaijan\", \"Bahamas\", \"Bahrain\", \"Bangladesh\", \"Barbados\", \"Belarus\", \"Belgium\", \"Belize\", \"Benin\", \"Bermuda\", \"Bhutan\", \"Bolivia\", \"Bosnia and Herzegovina\", \"Botswana\", \"Brazil\", \"British Virgin Islands\", \"Brunei\", \"Bulgaria\", \"Burkina Faso\", \"Burundi\", \"Cabo Verde\", \"Cambodia\", \"Cameroon\", \"Canada\", \"CAR\", \"Caribbean Netherlands\", \"Cayman Islands\", \"Chad\", \"Channel Islands\", \"Chile\", \"China\", \"Colombia\", \"Comoros\", \"Congo\", \"Costa Rica\", \"Croatia\", \"Cuba\", \"Cura\\u00e7ao\", \"Cyprus\", \"Czechia\", \"Denmark\", \"Diamond Princess\", \"Djibouti\", \"Dominica\", \"Dominican Republic\", \"DRC\", \"Ecuador\", \"Egypt\", \"El Salvador\", \"Equatorial Guinea\", \"Eritrea\", \"Estonia\", \"Eswatini\", \"Ethiopia\", \"Faeroe Islands\", \"Falkland Islands\", \"Fiji\", \"Finland\", \"France\", \"French Guiana\", \"French Polynesia\", \"Gabon\", \"Gambia\", \"Georgia\", \"Germany\", \"Ghana\", \"Gibraltar\", \"Greece\", \"Greenland\", \"Grenada\", \"Guadeloupe\", \"Guatemala\", \"Guinea\", \"Guinea-Bissau\", \"Guyana\", \"Haiti\", \"Honduras\", \"Hong Kong\", \"Hungary\", \"Iceland\", \"India\", \"Indonesia\", \"Iran\", \"Iraq\", \"Ireland\", \"Isle of Man\", \"Israel\", \"Italy\", \"Ivory Coast\", \"Jamaica\", \"Japan\", \"Jordan\", \"Kazakhstan\", \"Kenya\", \"Kuwait\", \"Kyrgyzstan\", \"Laos\", \"Latvia\", \"Lebanon\", \"Lesotho\", \"Liberia\", \"Libya\", \"Liechtenstein\", \"Lithuania\", \"Luxembourg\", \"Macao\", \"Madagascar\", \"Malawi\", \"Malaysia\", \"Maldives\", \"Mali\", \"Malta\", \"Martinique\", \"Mauritania\", \"Mauritius\", \"Mayotte\", \"Mexico\", \"Moldova\", \"Monaco\", \"Mongolia\", \"Montenegro\", \"Montserrat\", \"Morocco\", \"Mozambique\", \"MS Zaandam\", \"Myanmar\", \"Namibia\", \"Nepal\", \"Netherlands\", \"New Caledonia\", \"New Zealand\", \"Nicaragua\", \"Niger\", \"Nigeria\", \"North Macedonia\", \"Norway\", \"Oman\", \"Pakistan\", \"Palestine\", \"Panama\", \"Papua New Guinea\", \"Paraguay\", \"Peru\", \"Philippines\", \"Poland\", \"Portugal\", \"Qatar\", \"R\\u00e9union\", \"Romania\", \"Russia\", \"Rwanda\", \"S. Korea\", \"Saint Kitts and Nevis\", \"Saint Lucia\", \"Saint Martin\", \"Saint Pierre Miquelon\", \"San Marino\", \"Sao Tome and Principe\", \"Saudi Arabia\", \"Senegal\", \"Serbia\", \"Seychelles\", \"Sierra Leone\", \"Singapore\", \"Sint Maarten\", \"Slovakia\", \"Slovenia\", \"Somalia\", \"South Africa\", \"South Sudan\", \"Spain\", \"Sri Lanka\", \"St. Barth\", \"St. Vincent Grenadines\", \"Sudan\", \"Suriname\", \"Sweden\", \"Switzerland\", \"Syria\", \"Taiwan\", \"Tajikistan\", \"Tanzania\", \"Thailand\", \"Timor-Leste\", \"Togo\", \"Trinidad and Tobago\", \"Tunisia\", \"Turkey\", \"Turks and Caicos\", \"UAE\", \"Uganda\", \"UK\", \"Ukraine\", \"Uruguay\", \"USA\", \"Uzbekistan\", \"Vatican City\", \"Venezuela\", \"Vietnam\", \"Western Sahara\", \"Yemen\", \"Zambia\", \"Zimbabwe\"], \"type\": \"choropleth\", \"z\": [1458.0, 389.0, 1741.0, 53.0, 185.0, null, 3.0, 20288.0, 966.0, 27.0, 890.0, 803.0, 594.0, 96.0, 255.0, 5305.0, 7.0, 844.0, 10023.0, 27.0, 41.0, 9.0, null, 8001.0, 871.0, 16.0, 144767.0, 1.0, 3.0, 832.0, 58.0, 1.0, 61.0, null, 418.0, 9402.0, 62.0, 1.0, 1.0, 85.0, 48.0, 12867.0, 4634.0, 26196.0, 7.0, 89.0, 917.0, 291.0, 122.0, 1.0, 22.0, 678.0, 652.0, 13.0, 61.0, null, 2108.0, 272.0, 11433.0, 5946.0, 848.0, 83.0, null, 66.0, 111.0, 1205.0, null, null, 2.0, 345.0, 32019.0, 67.0, 7.0, 54.0, 113.0, 46.0, 959.0, 301.0, null, 398.0, null, null, 57.0, 3267.0, 66.0, 39.0, 82.0, 229.0, 238.0, 105.0, 798.0, 10.0, 100148.0, 10972.0, 26567.0, 9298.0, 1806.0, 24.0, 1633.0, 35941.0, 120.0, 116.0, 1578.0, 79.0, 1725.0, 725.0, 615.0, 1065.0, null, 38.0, 374.0, 39.0, 82.0, 570.0, 1.0, 93.0, 125.0, null, 232.0, 179.0, 136.0, 34.0, 131.0, 37.0, 21.0, 161.0, 10.0, 42.0, 78078.0, 1344.0, 2.0, null, 170.0, 1.0, 2229.0, 62.0, 2.0, 353.0, 123.0, 520.0, 6428.0, null, 25.0, 151.0, 69.0, 1112.0, 749.0, 274.0, 935.0, 6499.0, 321.0, 2387.0, 7.0, 869.0, 32535.0, 5616.0, 257.0, 1983.0, 215.0, 16.0, 4915.0, 21077.0, 29.0, 416.0, null, null, 8.0, null, 42.0, 15.0, 4823.0, 312.0, 751.0, null, 72.0, 27.0, 22.0, 54.0, 154.0, 99.0, 16866.0, 49.0, 31973.0, 13.0, null, null, 836.0, 105.0, 5895.0, 2075.0, 202.0, 7.0, 77.0, 21.0, 59.0, null, 48.0, 76.0, 271.0, 8262.0, 6.0, 424.0, 79.0, 42268.0, 4261.0, 48.0, 212883.0, 472.0, null, 635.0, 35.0, 1.0, 587.0, 333.0, 228.0]}],                        {\"geo\": {\"projection\": {\"type\": \"hammer\"}, \"showframe\": false}, \"template\": {\"data\": {\"bar\": [{\"error_x\": {\"color\": \"#2a3f5f\"}, \"error_y\": {\"color\": \"#2a3f5f\"}, \"marker\": {\"line\": {\"color\": \"#E5ECF6\", \"width\": 0.5}}, \"type\": \"bar\"}], \"barpolar\": [{\"marker\": {\"line\": {\"color\": \"#E5ECF6\", \"width\": 0.5}}, \"type\": \"barpolar\"}], \"carpet\": [{\"aaxis\": {\"endlinecolor\": \"#2a3f5f\", \"gridcolor\": \"white\", \"linecolor\": \"white\", \"minorgridcolor\": \"white\", \"startlinecolor\": \"#2a3f5f\"}, \"baxis\": {\"endlinecolor\": \"#2a3f5f\", \"gridcolor\": \"white\", \"linecolor\": \"white\", \"minorgridcolor\": \"white\", \"startlinecolor\": \"#2a3f5f\"}, \"type\": \"carpet\"}], \"choropleth\": [{\"colorbar\": {\"outlinewidth\": 0, \"ticks\": \"\"}, \"type\": \"choropleth\"}], \"contour\": [{\"colorbar\": {\"outlinewidth\": 0, \"ticks\": \"\"}, \"colorscale\": [[0.0, \"#0d0887\"], [0.1111111111111111, \"#46039f\"], [0.2222222222222222, \"#7201a8\"], [0.3333333333333333, \"#9c179e\"], [0.4444444444444444, \"#bd3786\"], [0.5555555555555556, \"#d8576b\"], [0.6666666666666666, \"#ed7953\"], [0.7777777777777778, \"#fb9f3a\"], [0.8888888888888888, \"#fdca26\"], [1.0, \"#f0f921\"]], \"type\": \"contour\"}], \"contourcarpet\": [{\"colorbar\": {\"outlinewidth\": 0, \"ticks\": \"\"}, \"type\": \"contourcarpet\"}], \"heatmap\": [{\"colorbar\": {\"outlinewidth\": 0, \"ticks\": \"\"}, \"colorscale\": [[0.0, \"#0d0887\"], [0.1111111111111111, \"#46039f\"], [0.2222222222222222, \"#7201a8\"], [0.3333333333333333, \"#9c179e\"], [0.4444444444444444, \"#bd3786\"], [0.5555555555555556, \"#d8576b\"], [0.6666666666666666, \"#ed7953\"], [0.7777777777777778, \"#fb9f3a\"], [0.8888888888888888, \"#fdca26\"], [1.0, \"#f0f921\"]], \"type\": \"heatmap\"}], \"heatmapgl\": [{\"colorbar\": {\"outlinewidth\": 0, \"ticks\": \"\"}, \"colorscale\": [[0.0, \"#0d0887\"], [0.1111111111111111, \"#46039f\"], [0.2222222222222222, \"#7201a8\"], [0.3333333333333333, \"#9c179e\"], [0.4444444444444444, \"#bd3786\"], [0.5555555555555556, \"#d8576b\"], [0.6666666666666666, \"#ed7953\"], [0.7777777777777778, \"#fb9f3a\"], [0.8888888888888888, \"#fdca26\"], [1.0, \"#f0f921\"]], \"type\": \"heatmapgl\"}], \"histogram\": [{\"marker\": {\"colorbar\": {\"outlinewidth\": 0, \"ticks\": \"\"}}, \"type\": \"histogram\"}], \"histogram2d\": [{\"colorbar\": {\"outlinewidth\": 0, \"ticks\": \"\"}, \"colorscale\": [[0.0, \"#0d0887\"], [0.1111111111111111, \"#46039f\"], [0.2222222222222222, \"#7201a8\"], [0.3333333333333333, \"#9c179e\"], [0.4444444444444444, \"#bd3786\"], [0.5555555555555556, \"#d8576b\"], [0.6666666666666666, \"#ed7953\"], [0.7777777777777778, \"#fb9f3a\"], [0.8888888888888888, \"#fdca26\"], [1.0, \"#f0f921\"]], \"type\": \"histogram2d\"}], \"histogram2dcontour\": [{\"colorbar\": {\"outlinewidth\": 0, \"ticks\": \"\"}, \"colorscale\": [[0.0, \"#0d0887\"], [0.1111111111111111, \"#46039f\"], [0.2222222222222222, \"#7201a8\"], [0.3333333333333333, \"#9c179e\"], [0.4444444444444444, \"#bd3786\"], [0.5555555555555556, \"#d8576b\"], [0.6666666666666666, \"#ed7953\"], [0.7777777777777778, \"#fb9f3a\"], [0.8888888888888888, \"#fdca26\"], [1.0, \"#f0f921\"]], \"type\": \"histogram2dcontour\"}], \"mesh3d\": [{\"colorbar\": {\"outlinewidth\": 0, \"ticks\": \"\"}, \"type\": \"mesh3d\"}], \"parcoords\": [{\"line\": {\"colorbar\": {\"outlinewidth\": 0, \"ticks\": \"\"}}, \"type\": \"parcoords\"}], \"pie\": [{\"automargin\": true, \"type\": \"pie\"}], \"scatter\": [{\"marker\": {\"colorbar\": {\"outlinewidth\": 0, \"ticks\": \"\"}}, \"type\": \"scatter\"}], \"scatter3d\": [{\"line\": {\"colorbar\": {\"outlinewidth\": 0, \"ticks\": \"\"}}, \"marker\": {\"colorbar\": {\"outlinewidth\": 0, \"ticks\": \"\"}}, \"type\": \"scatter3d\"}], \"scattercarpet\": [{\"marker\": {\"colorbar\": {\"outlinewidth\": 0, \"ticks\": \"\"}}, \"type\": \"scattercarpet\"}], \"scattergeo\": [{\"marker\": {\"colorbar\": {\"outlinewidth\": 0, \"ticks\": \"\"}}, \"type\": \"scattergeo\"}], \"scattergl\": [{\"marker\": {\"colorbar\": {\"outlinewidth\": 0, \"ticks\": \"\"}}, \"type\": \"scattergl\"}], \"scattermapbox\": [{\"marker\": {\"colorbar\": {\"outlinewidth\": 0, \"ticks\": \"\"}}, \"type\": \"scattermapbox\"}], \"scatterpolar\": [{\"marker\": {\"colorbar\": {\"outlinewidth\": 0, \"ticks\": \"\"}}, \"type\": \"scatterpolar\"}], \"scatterpolargl\": [{\"marker\": {\"colorbar\": {\"outlinewidth\": 0, \"ticks\": \"\"}}, \"type\": \"scatterpolargl\"}], \"scatterternary\": [{\"marker\": {\"colorbar\": {\"outlinewidth\": 0, \"ticks\": \"\"}}, \"type\": \"scatterternary\"}], \"surface\": [{\"colorbar\": {\"outlinewidth\": 0, \"ticks\": \"\"}, \"colorscale\": [[0.0, \"#0d0887\"], [0.1111111111111111, \"#46039f\"], [0.2222222222222222, \"#7201a8\"], [0.3333333333333333, \"#9c179e\"], [0.4444444444444444, \"#bd3786\"], [0.5555555555555556, \"#d8576b\"], [0.6666666666666666, \"#ed7953\"], [0.7777777777777778, \"#fb9f3a\"], [0.8888888888888888, \"#fdca26\"], [1.0, \"#f0f921\"]], \"type\": \"surface\"}], \"table\": [{\"cells\": {\"fill\": {\"color\": \"#EBF0F8\"}, \"line\": {\"color\": \"white\"}}, \"header\": {\"fill\": {\"color\": \"#C8D4E3\"}, \"line\": {\"color\": \"white\"}}, \"type\": \"table\"}]}, \"layout\": {\"annotationdefaults\": {\"arrowcolor\": \"#2a3f5f\", \"arrowhead\": 0, \"arrowwidth\": 1}, \"coloraxis\": {\"colorbar\": {\"outlinewidth\": 0, \"ticks\": \"\"}}, \"colorscale\": {\"diverging\": [[0, \"#8e0152\"], [0.1, \"#c51b7d\"], [0.2, \"#de77ae\"], [0.3, \"#f1b6da\"], [0.4, \"#fde0ef\"], [0.5, \"#f7f7f7\"], [0.6, \"#e6f5d0\"], [0.7, \"#b8e186\"], [0.8, \"#7fbc41\"], [0.9, \"#4d9221\"], [1, \"#276419\"]], \"sequential\": [[0.0, \"#0d0887\"], [0.1111111111111111, \"#46039f\"], [0.2222222222222222, \"#7201a8\"], [0.3333333333333333, \"#9c179e\"], [0.4444444444444444, \"#bd3786\"], [0.5555555555555556, \"#d8576b\"], [0.6666666666666666, \"#ed7953\"], [0.7777777777777778, \"#fb9f3a\"], [0.8888888888888888, \"#fdca26\"], [1.0, \"#f0f921\"]], \"sequentialminus\": [[0.0, \"#0d0887\"], [0.1111111111111111, \"#46039f\"], [0.2222222222222222, \"#7201a8\"], [0.3333333333333333, \"#9c179e\"], [0.4444444444444444, \"#bd3786\"], [0.5555555555555556, \"#d8576b\"], [0.6666666666666666, \"#ed7953\"], [0.7777777777777778, \"#fb9f3a\"], [0.8888888888888888, \"#fdca26\"], [1.0, \"#f0f921\"]]}, \"colorway\": [\"#636efa\", \"#EF553B\", \"#00cc96\", \"#ab63fa\", \"#FFA15A\", \"#19d3f3\", \"#FF6692\", \"#B6E880\", \"#FF97FF\", \"#FECB52\"], \"font\": {\"color\": \"#2a3f5f\"}, \"geo\": {\"bgcolor\": \"white\", \"lakecolor\": \"white\", \"landcolor\": \"#E5ECF6\", \"showlakes\": true, \"showland\": true, \"subunitcolor\": \"white\"}, \"hoverlabel\": {\"align\": \"left\"}, \"hovermode\": \"closest\", \"mapbox\": {\"style\": \"light\"}, \"paper_bgcolor\": \"white\", \"plot_bgcolor\": \"#E5ECF6\", \"polar\": {\"angularaxis\": {\"gridcolor\": \"white\", \"linecolor\": \"white\", \"ticks\": \"\"}, \"bgcolor\": \"#E5ECF6\", \"radialaxis\": {\"gridcolor\": \"white\", \"linecolor\": \"white\", \"ticks\": \"\"}}, \"scene\": {\"xaxis\": {\"backgroundcolor\": \"#E5ECF6\", \"gridcolor\": \"white\", \"gridwidth\": 2, \"linecolor\": \"white\", \"showbackground\": true, \"ticks\": \"\", \"zerolinecolor\": \"white\"}, \"yaxis\": {\"backgroundcolor\": \"#E5ECF6\", \"gridcolor\": \"white\", \"gridwidth\": 2, \"linecolor\": \"white\", \"showbackground\": true, \"ticks\": \"\", \"zerolinecolor\": \"white\"}, \"zaxis\": {\"backgroundcolor\": \"#E5ECF6\", \"gridcolor\": \"white\", \"gridwidth\": 2, \"linecolor\": \"white\", \"showbackground\": true, \"ticks\": \"\", \"zerolinecolor\": \"white\"}}, \"shapedefaults\": {\"line\": {\"color\": \"#2a3f5f\"}}, \"ternary\": {\"aaxis\": {\"gridcolor\": \"white\", \"linecolor\": \"white\", \"ticks\": \"\"}, \"baxis\": {\"gridcolor\": \"white\", \"linecolor\": \"white\", \"ticks\": \"\"}, \"bgcolor\": \"#E5ECF6\", \"caxis\": {\"gridcolor\": \"white\", \"linecolor\": \"white\", \"ticks\": \"\"}}, \"title\": {\"x\": 0.05}, \"xaxis\": {\"automargin\": true, \"gridcolor\": \"white\", \"linecolor\": \"white\", \"ticks\": \"\", \"title\": {\"standoff\": 15}, \"zerolinecolor\": \"white\", \"zerolinewidth\": 2}, \"yaxis\": {\"automargin\": true, \"gridcolor\": \"white\", \"linecolor\": \"white\", \"ticks\": \"\", \"title\": {\"standoff\": 15}, \"zerolinecolor\": \"white\", \"zerolinewidth\": 2}}}, \"title\": {\"text\": \"\\u00d3bitos corona pelo mundo\"}},                        {\"responsive\": true}                    ).then(function(){\n",
       "                            \n",
       "var gd = document.getElementById('ddc84c85-87c4-457f-8e7d-434d271da09b');\n",
       "var x = new MutationObserver(function (mutations, observer) {{\n",
       "        var display = window.getComputedStyle(gd).display;\n",
       "        if (!display || display === 'none') {{\n",
       "            console.log([gd, 'removed!']);\n",
       "            Plotly.purge(gd);\n",
       "            observer.disconnect();\n",
       "        }}\n",
       "}});\n",
       "\n",
       "// Listen for the removal of the full notebook cells\n",
       "var notebookContainer = gd.closest('#notebook-container');\n",
       "if (notebookContainer) {{\n",
       "    x.observe(notebookContainer, {childList: true});\n",
       "}}\n",
       "\n",
       "// Listen for the clearing of the current output cell\n",
       "var outputEl = gd.closest('.output');\n",
       "if (outputEl) {{\n",
       "    x.observe(outputEl, {childList: true});\n",
       "}}\n",
       "\n",
       "                        })                };                });            </script>        </div>"
      ]
     },
     "metadata": {},
     "output_type": "display_data"
    }
   ],
   "source": [
    "data = dict(\n",
    "        type = 'choropleth',\n",
    "        locations = casosCoronaMundo['code'],\n",
    "        z = casosCoronaMundo['total mortos'],\n",
    "        text = casosCoronaMundo['pais'],\n",
    "        colorbar = {'title' : 'mortos por corona'},\n",
    "      ) \n",
    "layout = dict(\n",
    "    title = 'Óbitos corona pelo mundo',\n",
    "    geo = dict(\n",
    "        showframe = False,\n",
    "        projection = {'type':'hammer'}\n",
    "    )\n",
    ")\n",
    "choromap = go.Figure(data = [data],layout = layout)\n",
    "iplot(choromap)"
   ]
  },
  {
   "cell_type": "code",
   "execution_count": null,
   "metadata": {},
   "outputs": [],
   "source": []
  }
 ],
 "metadata": {
  "kernelspec": {
   "display_name": "Python 3",
   "language": "python",
   "name": "python3"
  },
  "language_info": {
   "codemirror_mode": {
    "name": "ipython",
    "version": 3
   },
   "file_extension": ".py",
   "mimetype": "text/x-python",
   "name": "python",
   "nbconvert_exporter": "python",
   "pygments_lexer": "ipython3",
   "version": "3.8.3"
  }
 },
 "nbformat": 4,
 "nbformat_minor": 4
}
